{
 "cells": [
  {
   "cell_type": "markdown",
   "id": "0177d841",
   "metadata": {},
   "source": [
    "# Contenido del proyecto"
   ]
  },
  {
   "cell_type": "markdown",
   "id": "c2b123fd",
   "metadata": {},
   "source": [
    "* [Introducciòn](#introduccion)\n",
    "* [Objetivo general](#general)\n",
    "* [Objetivos especìficos](#especificos)\n",
    "* [Informaciòn de los datos](#informacion)\n",
    "* [Proceso de anàlisis de datos](#analisis)\n",
    "* [Identificaciòn de los datos atipicos](#atipicos)\n",
    "* [Ejecuciòn del modelo](#modelo)\n",
    "* [Conclusiones](#conclusiones)\n",
    "* [Presentaciòn y dashboard](#presentacion_dashboard)"
   ]
  },
  {
   "cell_type": "markdown",
   "id": "f0b5ac23",
   "metadata": {},
   "source": [
    "# Introducciòn <a id='introduccion'></a>"
   ]
  },
  {
   "cell_type": "markdown",
   "id": "0e036b9f",
   "metadata": {},
   "source": [
    "La compañìa CallMeMaybe se encuentra desarrollando una nueva funciòn para brindar informaciòn sobre la eficacia de operadores de telefonìa. El anàlisis de los datos se realiza para identificar los niveles de eficacia de los operadores de telefonìa de acuerdo a las caracterìstcias identificadas en el proceso de anàlisis de los datos."
   ]
  },
  {
   "cell_type": "markdown",
   "id": "26d6150e",
   "metadata": {},
   "source": [
    "# Objetivo general <a id='general'></a>"
   ]
  },
  {
   "cell_type": "markdown",
   "id": "c30c8cdd",
   "metadata": {},
   "source": [
    "Importar y analizar los datos que permitiràn identificar la ineficacia de los operadores de telefonìa y posteriormente proporcionar èsta informaciòn a los clientes de la compañìa que requieren distribuir gran cantidad de llamadas entrantes o salientes entre varios operadores o llamadas internas entre el mismo operador."
   ]
  },
  {
   "cell_type": "markdown",
   "id": "29bf74b6",
   "metadata": {},
   "source": [
    "# Objetivos especìficos <a id='especificos'></a>"
   ]
  },
  {
   "cell_type": "markdown",
   "id": "2fb2746f",
   "metadata": {},
   "source": [
    "* Retroalimentar a los clientes los operadores que de acuerdo al anàlisis se consideran eficientes o ineficientes.\n",
    "\n",
    "* Recomendar a los clientes la utilizaciòn o no de cada operador para garantizar mejores servicios.\n",
    "\n",
    "* Determinar la importancia de las caracterìsticas que definen a un operador ineficiente."
   ]
  },
  {
   "cell_type": "markdown",
   "id": "550e7837",
   "metadata": {},
   "source": [
    "# Informaciòn general de los datos <a id='informacion'></a>"
   ]
  },
  {
   "cell_type": "markdown",
   "id": "3307ce2e",
   "metadata": {},
   "source": [
    "Se importan las librerìas necesarias."
   ]
  },
  {
   "cell_type": "code",
   "execution_count": 334,
   "id": "c286667b",
   "metadata": {},
   "outputs": [],
   "source": [
    "import pandas as pd\n",
    "import numpy as np\n",
    "import seaborn as sns\n",
    "import matplotlib.pyplot as plt\n",
    "import scipy.stats as stats\n",
    "from scipy import stats as st\n",
    "import math as mht\n",
    "import plotly.express as px\n",
    "from sklearn.preprocessing import StandardScaler\n",
    "from sklearn.model_selection import train_test_split\n",
    "from sklearn.ensemble import RandomForestClassifier\n",
    "from sklearn.metrics import mean_absolute_error,mean_squared_error,r2_score\n",
    "from sklearn import linear_model\n",
    "from sklearn.metrics import accuracy_score,precision_score,recall_score\n",
    "from sklearn.linear_model import LogisticRegression\n",
    "from scipy.cluster.hierarchy import dendrogram,linkage\n",
    "from sklearn.cluster import KMeans, DBSCAN\n",
    "from sklearn.metrics import davies_bouldin_score\n",
    "from sklearn.decomposition import PCA\n",
    "import mpl_toolkits.axisartist as axisartist\n"
   ]
  },
  {
   "cell_type": "code",
   "execution_count": 335,
   "id": "a7d8626e",
   "metadata": {},
   "outputs": [],
   "source": [
    "telecom=pd.read_csv('telecom_dataset_us.csv') #Se importa la tabla que contiene informaciòn de operadores y llamadas."
   ]
  },
  {
   "cell_type": "code",
   "execution_count": 336,
   "id": "16b4ac88",
   "metadata": {},
   "outputs": [
    {
     "name": "stdout",
     "output_type": "stream",
     "text": [
      "<class 'pandas.core.frame.DataFrame'>\n",
      "RangeIndex: 53902 entries, 0 to 53901\n",
      "Data columns (total 9 columns):\n",
      " #   Column               Non-Null Count  Dtype  \n",
      "---  ------               --------------  -----  \n",
      " 0   user_id              53902 non-null  int64  \n",
      " 1   date                 53902 non-null  object \n",
      " 2   direction            53902 non-null  object \n",
      " 3   internal             53785 non-null  object \n",
      " 4   operator_id          45730 non-null  float64\n",
      " 5   is_missed_call       53902 non-null  bool   \n",
      " 6   calls_count          53902 non-null  int64  \n",
      " 7   call_duration        53902 non-null  int64  \n",
      " 8   total_call_duration  53902 non-null  int64  \n",
      "dtypes: bool(1), float64(1), int64(4), object(3)\n",
      "memory usage: 3.3+ MB\n"
     ]
    }
   ],
   "source": [
    "telecom.info() #Se verifica la informaciòn general de la tabla."
   ]
  },
  {
   "cell_type": "markdown",
   "id": "5ca12ac7",
   "metadata": {},
   "source": [
    "Se identifica que el tipo de dato para la columna \"date\" debe cambiarse a formato tipo fecha, el tipo de dato para la columna \"internal\" se considera que debe cambiarse a tipo booleano, el tipo de dato para la columna \"operator_id\" se decide cambiar por tipo object, el tipo de dato para la columna \"user_id\" se decide cambiar a tipo object y el tipo de dato de la columna \"direction\" se decide cambiar a tipo booleano, para facilitar el anàlisis de procesos como el anàlisis de correlaciòn entre las variables."
   ]
  },
  {
   "cell_type": "code",
   "execution_count": 337,
   "id": "1fd14e71",
   "metadata": {},
   "outputs": [
    {
     "data": {
      "text/html": [
       "<div>\n",
       "<style scoped>\n",
       "    .dataframe tbody tr th:only-of-type {\n",
       "        vertical-align: middle;\n",
       "    }\n",
       "\n",
       "    .dataframe tbody tr th {\n",
       "        vertical-align: top;\n",
       "    }\n",
       "\n",
       "    .dataframe thead th {\n",
       "        text-align: right;\n",
       "    }\n",
       "</style>\n",
       "<table border=\"1\" class=\"dataframe\">\n",
       "  <thead>\n",
       "    <tr style=\"text-align: right;\">\n",
       "      <th></th>\n",
       "      <th>user_id</th>\n",
       "      <th>date</th>\n",
       "      <th>direction</th>\n",
       "      <th>internal</th>\n",
       "      <th>operator_id</th>\n",
       "      <th>is_missed_call</th>\n",
       "      <th>calls_count</th>\n",
       "      <th>call_duration</th>\n",
       "      <th>total_call_duration</th>\n",
       "    </tr>\n",
       "  </thead>\n",
       "  <tbody>\n",
       "    <tr>\n",
       "      <th>0</th>\n",
       "      <td>166377</td>\n",
       "      <td>2019-08-04 00:00:00+03:00</td>\n",
       "      <td>in</td>\n",
       "      <td>False</td>\n",
       "      <td>NaN</td>\n",
       "      <td>True</td>\n",
       "      <td>2</td>\n",
       "      <td>0</td>\n",
       "      <td>4</td>\n",
       "    </tr>\n",
       "    <tr>\n",
       "      <th>1</th>\n",
       "      <td>166377</td>\n",
       "      <td>2019-08-05 00:00:00+03:00</td>\n",
       "      <td>out</td>\n",
       "      <td>True</td>\n",
       "      <td>880022.0</td>\n",
       "      <td>True</td>\n",
       "      <td>3</td>\n",
       "      <td>0</td>\n",
       "      <td>5</td>\n",
       "    </tr>\n",
       "    <tr>\n",
       "      <th>2</th>\n",
       "      <td>166377</td>\n",
       "      <td>2019-08-05 00:00:00+03:00</td>\n",
       "      <td>out</td>\n",
       "      <td>True</td>\n",
       "      <td>880020.0</td>\n",
       "      <td>True</td>\n",
       "      <td>1</td>\n",
       "      <td>0</td>\n",
       "      <td>1</td>\n",
       "    </tr>\n",
       "    <tr>\n",
       "      <th>3</th>\n",
       "      <td>166377</td>\n",
       "      <td>2019-08-05 00:00:00+03:00</td>\n",
       "      <td>out</td>\n",
       "      <td>True</td>\n",
       "      <td>880020.0</td>\n",
       "      <td>False</td>\n",
       "      <td>1</td>\n",
       "      <td>10</td>\n",
       "      <td>18</td>\n",
       "    </tr>\n",
       "    <tr>\n",
       "      <th>4</th>\n",
       "      <td>166377</td>\n",
       "      <td>2019-08-05 00:00:00+03:00</td>\n",
       "      <td>out</td>\n",
       "      <td>False</td>\n",
       "      <td>880022.0</td>\n",
       "      <td>True</td>\n",
       "      <td>3</td>\n",
       "      <td>0</td>\n",
       "      <td>25</td>\n",
       "    </tr>\n",
       "  </tbody>\n",
       "</table>\n",
       "</div>"
      ],
      "text/plain": [
       "   user_id                       date direction internal  operator_id  \\\n",
       "0   166377  2019-08-04 00:00:00+03:00        in    False          NaN   \n",
       "1   166377  2019-08-05 00:00:00+03:00       out     True     880022.0   \n",
       "2   166377  2019-08-05 00:00:00+03:00       out     True     880020.0   \n",
       "3   166377  2019-08-05 00:00:00+03:00       out     True     880020.0   \n",
       "4   166377  2019-08-05 00:00:00+03:00       out    False     880022.0   \n",
       "\n",
       "   is_missed_call  calls_count  call_duration  total_call_duration  \n",
       "0            True            2              0                    4  \n",
       "1            True            3              0                    5  \n",
       "2            True            1              0                    1  \n",
       "3           False            1             10                   18  \n",
       "4            True            3              0                   25  "
      ]
     },
     "execution_count": 337,
     "metadata": {},
     "output_type": "execute_result"
    }
   ],
   "source": [
    "telecom.head()"
   ]
  },
  {
   "cell_type": "code",
   "execution_count": 338,
   "id": "c7491094",
   "metadata": {},
   "outputs": [
    {
     "data": {
      "text/plain": [
       "user_id                   0\n",
       "date                      0\n",
       "direction                 0\n",
       "internal                117\n",
       "operator_id            8172\n",
       "is_missed_call            0\n",
       "calls_count               0\n",
       "call_duration             0\n",
       "total_call_duration       0\n",
       "dtype: int64"
      ]
     },
     "execution_count": 338,
     "metadata": {},
     "output_type": "execute_result"
    }
   ],
   "source": [
    "telecom.isna().sum() #Se identifica existencia de valores ausentes."
   ]
  },
  {
   "cell_type": "markdown",
   "id": "e259d355",
   "metadata": {},
   "source": [
    "Se identifican valores ausentes en la columna \"internal\" y \"operador_id\"."
   ]
  },
  {
   "cell_type": "code",
   "execution_count": 339,
   "id": "8092a2d4",
   "metadata": {},
   "outputs": [
    {
     "data": {
      "text/plain": [
       "user_id                 0.000000\n",
       "date                    0.000000\n",
       "direction               0.000000\n",
       "internal                0.217061\n",
       "operator_id            15.160847\n",
       "is_missed_call          0.000000\n",
       "calls_count             0.000000\n",
       "call_duration           0.000000\n",
       "total_call_duration     0.000000\n",
       "dtype: float64"
      ]
     },
     "execution_count": 339,
     "metadata": {},
     "output_type": "execute_result"
    }
   ],
   "source": [
    "telecom.isna().sum()/len(telecom)*100 #Se identifica el porcentaje de valores nulos para cada columna."
   ]
  },
  {
   "cell_type": "markdown",
   "id": "eeb0e086",
   "metadata": {},
   "source": [
    "Los valores nulos en la columna \"internal\" representan el 0.2%, mientras que los valores nulos para la columna \"operador_id\" representa el 15%. Se considera que los datos nulos para la columna \"operador_id\" deben atenderse, ya que èstos valores representan mas del 10% de los datos."
   ]
  },
  {
   "cell_type": "code",
   "execution_count": 340,
   "id": "49d068b2",
   "metadata": {},
   "outputs": [
    {
     "data": {
      "text/plain": [
       "4900"
      ]
     },
     "execution_count": 340,
     "metadata": {},
     "output_type": "execute_result"
    }
   ],
   "source": [
    "telecom.duplicated().sum() #Se identifican valores duplicados."
   ]
  },
  {
   "cell_type": "markdown",
   "id": "b2b78935",
   "metadata": {},
   "source": [
    "Se identifican 4900 datos duplicados."
   ]
  },
  {
   "cell_type": "code",
   "execution_count": 341,
   "id": "946c9094",
   "metadata": {},
   "outputs": [],
   "source": [
    "clients=pd.read_csv('telecom_clients_us.csv') # Se carga la informaciòn de los clientes y los planes."
   ]
  },
  {
   "cell_type": "code",
   "execution_count": 342,
   "id": "bf84738b",
   "metadata": {},
   "outputs": [
    {
     "name": "stdout",
     "output_type": "stream",
     "text": [
      "<class 'pandas.core.frame.DataFrame'>\n",
      "RangeIndex: 732 entries, 0 to 731\n",
      "Data columns (total 3 columns):\n",
      " #   Column       Non-Null Count  Dtype \n",
      "---  ------       --------------  ----- \n",
      " 0   user_id      732 non-null    int64 \n",
      " 1   tariff_plan  732 non-null    object\n",
      " 2   date_start   732 non-null    object\n",
      "dtypes: int64(1), object(2)\n",
      "memory usage: 17.3+ KB\n"
     ]
    }
   ],
   "source": [
    "clients.info() #Se carga la informaciòn general de la tabla."
   ]
  },
  {
   "cell_type": "markdown",
   "id": "26e6cf50",
   "metadata": {},
   "source": [
    "Se identifica que el tipo de dato para la columna \"date_start\" debe cambiarse a formato tipo fecha."
   ]
  },
  {
   "cell_type": "code",
   "execution_count": 343,
   "id": "68e6e364",
   "metadata": {},
   "outputs": [
    {
     "data": {
      "text/plain": [
       "user_id        0\n",
       "tariff_plan    0\n",
       "date_start     0\n",
       "dtype: int64"
      ]
     },
     "execution_count": 343,
     "metadata": {},
     "output_type": "execute_result"
    }
   ],
   "source": [
    "clients.isna().sum() # Se verifica existencia de datos ausentes."
   ]
  },
  {
   "cell_type": "markdown",
   "id": "5596dac6",
   "metadata": {},
   "source": [
    "No se identifican datos ausentes."
   ]
  },
  {
   "cell_type": "code",
   "execution_count": 344,
   "id": "7a68a1c9",
   "metadata": {},
   "outputs": [
    {
     "data": {
      "text/plain": [
       "0"
      ]
     },
     "execution_count": 344,
     "metadata": {},
     "output_type": "execute_result"
    }
   ],
   "source": [
    "clients.duplicated().sum() #Se verifican datos duplicados."
   ]
  },
  {
   "cell_type": "code",
   "execution_count": 345,
   "id": "a8aafc77",
   "metadata": {},
   "outputs": [
    {
     "data": {
      "text/html": [
       "<div>\n",
       "<style scoped>\n",
       "    .dataframe tbody tr th:only-of-type {\n",
       "        vertical-align: middle;\n",
       "    }\n",
       "\n",
       "    .dataframe tbody tr th {\n",
       "        vertical-align: top;\n",
       "    }\n",
       "\n",
       "    .dataframe thead th {\n",
       "        text-align: right;\n",
       "    }\n",
       "</style>\n",
       "<table border=\"1\" class=\"dataframe\">\n",
       "  <thead>\n",
       "    <tr style=\"text-align: right;\">\n",
       "      <th></th>\n",
       "      <th>user_id</th>\n",
       "      <th>tariff_plan</th>\n",
       "      <th>date_start</th>\n",
       "    </tr>\n",
       "  </thead>\n",
       "  <tbody>\n",
       "    <tr>\n",
       "      <th>0</th>\n",
       "      <td>166713</td>\n",
       "      <td>A</td>\n",
       "      <td>2019-08-15</td>\n",
       "    </tr>\n",
       "    <tr>\n",
       "      <th>1</th>\n",
       "      <td>166901</td>\n",
       "      <td>A</td>\n",
       "      <td>2019-08-23</td>\n",
       "    </tr>\n",
       "    <tr>\n",
       "      <th>2</th>\n",
       "      <td>168527</td>\n",
       "      <td>A</td>\n",
       "      <td>2019-10-29</td>\n",
       "    </tr>\n",
       "    <tr>\n",
       "      <th>3</th>\n",
       "      <td>167097</td>\n",
       "      <td>A</td>\n",
       "      <td>2019-09-01</td>\n",
       "    </tr>\n",
       "    <tr>\n",
       "      <th>4</th>\n",
       "      <td>168193</td>\n",
       "      <td>A</td>\n",
       "      <td>2019-10-16</td>\n",
       "    </tr>\n",
       "  </tbody>\n",
       "</table>\n",
       "</div>"
      ],
      "text/plain": [
       "   user_id tariff_plan  date_start\n",
       "0   166713           A  2019-08-15\n",
       "1   166901           A  2019-08-23\n",
       "2   168527           A  2019-10-29\n",
       "3   167097           A  2019-09-01\n",
       "4   168193           A  2019-10-16"
      ]
     },
     "execution_count": 345,
     "metadata": {},
     "output_type": "execute_result"
    }
   ],
   "source": [
    "clients.head()"
   ]
  },
  {
   "cell_type": "code",
   "execution_count": null,
   "id": "16ceb95a",
   "metadata": {},
   "outputs": [],
   "source": [
    "<div class=\"alert alert-block alert-success\">\n",
    "<b>Comentario del revisor</b> <a class=“tocSkip”></a>\n",
    "Has realizado un buen trabao\n",
    "Ten cuidado con el estilo de código. PEP 8 nos sugiere un espacio entre operadores de asignación:\n",
    "<code> \n",
    "    X_train = pd.DataFrame(X_train)</code>   </div>"
   ]
  },
  {
   "cell_type": "markdown",
   "id": "0cfcde66",
   "metadata": {},
   "source": [
    "# Preprocesamiento de datos <a id='preprocesamiento'></a>"
   ]
  },
  {
   "cell_type": "markdown",
   "id": "a178425a",
   "metadata": {},
   "source": [
    "**Se cambian los tipos de datos para las columnas necesarias de la tabla \"telecom\".**"
   ]
  },
  {
   "cell_type": "code",
   "execution_count": 346,
   "id": "afc4ba0a",
   "metadata": {},
   "outputs": [],
   "source": [
    "telecom['date']=pd.to_datetime(telecom['date'],format='%Y.%m.%d %H:%M:%S') #El tipo de dato para la columna date se cambia a formato tipo fecha."
   ]
  },
  {
   "cell_type": "markdown",
   "id": "0f36568a",
   "metadata": {},
   "source": [
    "Se extrae ademàs la informaciòn de la fecha de la columna \"date\" y se crea una nueva columna."
   ]
  },
  {
   "cell_type": "code",
   "execution_count": 347,
   "id": "e7c35a0e",
   "metadata": {},
   "outputs": [],
   "source": [
    "telecom['date_call']=telecom['date'].dt.date #Se extrae la informaciòn de la fecha de la columna \"date.\""
   ]
  },
  {
   "cell_type": "code",
   "execution_count": 348,
   "id": "ba39f219",
   "metadata": {},
   "outputs": [],
   "source": [
    "telecom['date_call']=pd.to_datetime(telecom['date_call'],format='%Y.%m.%d')"
   ]
  },
  {
   "cell_type": "code",
   "execution_count": 349,
   "id": "c5963d15",
   "metadata": {},
   "outputs": [
    {
     "name": "stdout",
     "output_type": "stream",
     "text": [
      "<class 'pandas.core.frame.DataFrame'>\n",
      "RangeIndex: 53902 entries, 0 to 53901\n",
      "Data columns (total 10 columns):\n",
      " #   Column               Non-Null Count  Dtype                                \n",
      "---  ------               --------------  -----                                \n",
      " 0   user_id              53902 non-null  int64                                \n",
      " 1   date                 53902 non-null  datetime64[ns, pytz.FixedOffset(180)]\n",
      " 2   direction            53902 non-null  object                               \n",
      " 3   internal             53785 non-null  object                               \n",
      " 4   operator_id          45730 non-null  float64                              \n",
      " 5   is_missed_call       53902 non-null  bool                                 \n",
      " 6   calls_count          53902 non-null  int64                                \n",
      " 7   call_duration        53902 non-null  int64                                \n",
      " 8   total_call_duration  53902 non-null  int64                                \n",
      " 9   date_call            53902 non-null  datetime64[ns]                       \n",
      "dtypes: bool(1), datetime64[ns, pytz.FixedOffset(180)](1), datetime64[ns](1), float64(1), int64(4), object(2)\n",
      "memory usage: 3.8+ MB\n"
     ]
    }
   ],
   "source": [
    "telecom.info()"
   ]
  },
  {
   "cell_type": "markdown",
   "id": "d97afc26",
   "metadata": {},
   "source": [
    "Se cambia el tipo de dato para la columna \"internal\"."
   ]
  },
  {
   "cell_type": "code",
   "execution_count": 350,
   "id": "ba69f80a",
   "metadata": {},
   "outputs": [],
   "source": [
    "telecom['internal']=telecom['internal'].astype('bool')"
   ]
  },
  {
   "cell_type": "code",
   "execution_count": 351,
   "id": "1ec907c5",
   "metadata": {},
   "outputs": [],
   "source": [
    "telecom['operator_id']=telecom['operator_id'].astype('object')"
   ]
  },
  {
   "cell_type": "code",
   "execution_count": 352,
   "id": "98aa169e",
   "metadata": {},
   "outputs": [],
   "source": [
    "telecom['user_id']=telecom['user_id'].astype('object')"
   ]
  },
  {
   "cell_type": "markdown",
   "id": "e989994f",
   "metadata": {},
   "source": [
    "Se genera una funciòn que arroje el dato \"False\" si el valor de la columna \"direction\" es igual a in (entrante), y se arroje el valor de \"True\" si el valor de la columna \"direction\" es igual a in (saliente). Se crea ademàs una nueva columna llamada \"out_call\"."
   ]
  },
  {
   "cell_type": "code",
   "execution_count": 353,
   "id": "e3db0cbc",
   "metadata": {},
   "outputs": [],
   "source": [
    "def convertir_direccion(direccion):\n",
    "    if direccion == \"in\":\n",
    "        return False\n",
    "    elif direccion == \"out\":\n",
    "        return True\n",
    "    else:\n",
    "        return None"
   ]
  },
  {
   "cell_type": "code",
   "execution_count": 354,
   "id": "ecc7148f",
   "metadata": {},
   "outputs": [],
   "source": [
    "telecom['out_call']=telecom['direction'].apply(convertir_direccion)"
   ]
  },
  {
   "cell_type": "code",
   "execution_count": 355,
   "id": "240de07b",
   "metadata": {},
   "outputs": [
    {
     "data": {
      "text/plain": [
       "array([False,  True])"
      ]
     },
     "execution_count": 355,
     "metadata": {},
     "output_type": "execute_result"
    }
   ],
   "source": [
    "telecom['out_call'].unique()"
   ]
  },
  {
   "cell_type": "markdown",
   "id": "e0f85683",
   "metadata": {},
   "source": [
    "Se elimina la columna \"direction\", debido a la creaciòn de la nueva columna \"llamada saliente\"."
   ]
  },
  {
   "cell_type": "code",
   "execution_count": 356,
   "id": "fe96e57d",
   "metadata": {},
   "outputs": [],
   "source": [
    "telecom=telecom.drop(columns=['direction'])"
   ]
  },
  {
   "cell_type": "markdown",
   "id": "f6a01aa5",
   "metadata": {},
   "source": [
    "Para facilitar el anàlisis de la columna \"direction\", se decide reemplazar su valor por 0 (entrante), 1(saliente)"
   ]
  },
  {
   "cell_type": "code",
   "execution_count": 357,
   "id": "0638eeda",
   "metadata": {},
   "outputs": [
    {
     "data": {
      "text/plain": [
       "user_id                                               object\n",
       "date                   datetime64[ns, pytz.FixedOffset(180)]\n",
       "internal                                                bool\n",
       "operator_id                                           object\n",
       "is_missed_call                                          bool\n",
       "calls_count                                            int64\n",
       "call_duration                                          int64\n",
       "total_call_duration                                    int64\n",
       "date_call                                     datetime64[ns]\n",
       "out_call                                                bool\n",
       "dtype: object"
      ]
     },
     "execution_count": 357,
     "metadata": {},
     "output_type": "execute_result"
    }
   ],
   "source": [
    "telecom.dtypes #Se verifica el cambio de datos para las columnas de la tabla 'telecom'."
   ]
  },
  {
   "cell_type": "code",
   "execution_count": 358,
   "id": "f859155c",
   "metadata": {},
   "outputs": [
    {
     "data": {
      "text/html": [
       "<div>\n",
       "<style scoped>\n",
       "    .dataframe tbody tr th:only-of-type {\n",
       "        vertical-align: middle;\n",
       "    }\n",
       "\n",
       "    .dataframe tbody tr th {\n",
       "        vertical-align: top;\n",
       "    }\n",
       "\n",
       "    .dataframe thead th {\n",
       "        text-align: right;\n",
       "    }\n",
       "</style>\n",
       "<table border=\"1\" class=\"dataframe\">\n",
       "  <thead>\n",
       "    <tr style=\"text-align: right;\">\n",
       "      <th></th>\n",
       "      <th>user_id</th>\n",
       "      <th>date</th>\n",
       "      <th>internal</th>\n",
       "      <th>operator_id</th>\n",
       "      <th>is_missed_call</th>\n",
       "      <th>calls_count</th>\n",
       "      <th>call_duration</th>\n",
       "      <th>total_call_duration</th>\n",
       "      <th>date_call</th>\n",
       "      <th>out_call</th>\n",
       "    </tr>\n",
       "  </thead>\n",
       "  <tbody>\n",
       "    <tr>\n",
       "      <th>0</th>\n",
       "      <td>166377</td>\n",
       "      <td>2019-08-04 00:00:00+03:00</td>\n",
       "      <td>False</td>\n",
       "      <td>NaN</td>\n",
       "      <td>True</td>\n",
       "      <td>2</td>\n",
       "      <td>0</td>\n",
       "      <td>4</td>\n",
       "      <td>2019-08-04</td>\n",
       "      <td>False</td>\n",
       "    </tr>\n",
       "    <tr>\n",
       "      <th>1</th>\n",
       "      <td>166377</td>\n",
       "      <td>2019-08-05 00:00:00+03:00</td>\n",
       "      <td>True</td>\n",
       "      <td>880022.0</td>\n",
       "      <td>True</td>\n",
       "      <td>3</td>\n",
       "      <td>0</td>\n",
       "      <td>5</td>\n",
       "      <td>2019-08-05</td>\n",
       "      <td>True</td>\n",
       "    </tr>\n",
       "    <tr>\n",
       "      <th>2</th>\n",
       "      <td>166377</td>\n",
       "      <td>2019-08-05 00:00:00+03:00</td>\n",
       "      <td>True</td>\n",
       "      <td>880020.0</td>\n",
       "      <td>True</td>\n",
       "      <td>1</td>\n",
       "      <td>0</td>\n",
       "      <td>1</td>\n",
       "      <td>2019-08-05</td>\n",
       "      <td>True</td>\n",
       "    </tr>\n",
       "    <tr>\n",
       "      <th>3</th>\n",
       "      <td>166377</td>\n",
       "      <td>2019-08-05 00:00:00+03:00</td>\n",
       "      <td>True</td>\n",
       "      <td>880020.0</td>\n",
       "      <td>False</td>\n",
       "      <td>1</td>\n",
       "      <td>10</td>\n",
       "      <td>18</td>\n",
       "      <td>2019-08-05</td>\n",
       "      <td>True</td>\n",
       "    </tr>\n",
       "    <tr>\n",
       "      <th>4</th>\n",
       "      <td>166377</td>\n",
       "      <td>2019-08-05 00:00:00+03:00</td>\n",
       "      <td>False</td>\n",
       "      <td>880022.0</td>\n",
       "      <td>True</td>\n",
       "      <td>3</td>\n",
       "      <td>0</td>\n",
       "      <td>25</td>\n",
       "      <td>2019-08-05</td>\n",
       "      <td>True</td>\n",
       "    </tr>\n",
       "    <tr>\n",
       "      <th>...</th>\n",
       "      <td>...</td>\n",
       "      <td>...</td>\n",
       "      <td>...</td>\n",
       "      <td>...</td>\n",
       "      <td>...</td>\n",
       "      <td>...</td>\n",
       "      <td>...</td>\n",
       "      <td>...</td>\n",
       "      <td>...</td>\n",
       "      <td>...</td>\n",
       "    </tr>\n",
       "    <tr>\n",
       "      <th>53897</th>\n",
       "      <td>168606</td>\n",
       "      <td>2019-11-10 00:00:00+03:00</td>\n",
       "      <td>True</td>\n",
       "      <td>957922.0</td>\n",
       "      <td>True</td>\n",
       "      <td>1</td>\n",
       "      <td>0</td>\n",
       "      <td>38</td>\n",
       "      <td>2019-11-10</td>\n",
       "      <td>True</td>\n",
       "    </tr>\n",
       "    <tr>\n",
       "      <th>53898</th>\n",
       "      <td>168606</td>\n",
       "      <td>2019-11-11 00:00:00+03:00</td>\n",
       "      <td>True</td>\n",
       "      <td>957922.0</td>\n",
       "      <td>False</td>\n",
       "      <td>2</td>\n",
       "      <td>479</td>\n",
       "      <td>501</td>\n",
       "      <td>2019-11-11</td>\n",
       "      <td>True</td>\n",
       "    </tr>\n",
       "    <tr>\n",
       "      <th>53899</th>\n",
       "      <td>168606</td>\n",
       "      <td>2019-11-15 00:00:00+03:00</td>\n",
       "      <td>True</td>\n",
       "      <td>957922.0</td>\n",
       "      <td>False</td>\n",
       "      <td>4</td>\n",
       "      <td>3130</td>\n",
       "      <td>3190</td>\n",
       "      <td>2019-11-15</td>\n",
       "      <td>True</td>\n",
       "    </tr>\n",
       "    <tr>\n",
       "      <th>53900</th>\n",
       "      <td>168606</td>\n",
       "      <td>2019-11-15 00:00:00+03:00</td>\n",
       "      <td>True</td>\n",
       "      <td>957922.0</td>\n",
       "      <td>False</td>\n",
       "      <td>4</td>\n",
       "      <td>3130</td>\n",
       "      <td>3190</td>\n",
       "      <td>2019-11-15</td>\n",
       "      <td>True</td>\n",
       "    </tr>\n",
       "    <tr>\n",
       "      <th>53901</th>\n",
       "      <td>168606</td>\n",
       "      <td>2019-11-19 00:00:00+03:00</td>\n",
       "      <td>False</td>\n",
       "      <td>NaN</td>\n",
       "      <td>True</td>\n",
       "      <td>2</td>\n",
       "      <td>0</td>\n",
       "      <td>64</td>\n",
       "      <td>2019-11-19</td>\n",
       "      <td>False</td>\n",
       "    </tr>\n",
       "  </tbody>\n",
       "</table>\n",
       "<p>53902 rows × 10 columns</p>\n",
       "</div>"
      ],
      "text/plain": [
       "      user_id                      date  internal operator_id  is_missed_call  \\\n",
       "0      166377 2019-08-04 00:00:00+03:00     False         NaN            True   \n",
       "1      166377 2019-08-05 00:00:00+03:00      True    880022.0            True   \n",
       "2      166377 2019-08-05 00:00:00+03:00      True    880020.0            True   \n",
       "3      166377 2019-08-05 00:00:00+03:00      True    880020.0           False   \n",
       "4      166377 2019-08-05 00:00:00+03:00     False    880022.0            True   \n",
       "...       ...                       ...       ...         ...             ...   \n",
       "53897  168606 2019-11-10 00:00:00+03:00      True    957922.0            True   \n",
       "53898  168606 2019-11-11 00:00:00+03:00      True    957922.0           False   \n",
       "53899  168606 2019-11-15 00:00:00+03:00      True    957922.0           False   \n",
       "53900  168606 2019-11-15 00:00:00+03:00      True    957922.0           False   \n",
       "53901  168606 2019-11-19 00:00:00+03:00     False         NaN            True   \n",
       "\n",
       "       calls_count  call_duration  total_call_duration  date_call  out_call  \n",
       "0                2              0                    4 2019-08-04     False  \n",
       "1                3              0                    5 2019-08-05      True  \n",
       "2                1              0                    1 2019-08-05      True  \n",
       "3                1             10                   18 2019-08-05      True  \n",
       "4                3              0                   25 2019-08-05      True  \n",
       "...            ...            ...                  ...        ...       ...  \n",
       "53897            1              0                   38 2019-11-10      True  \n",
       "53898            2            479                  501 2019-11-11      True  \n",
       "53899            4           3130                 3190 2019-11-15      True  \n",
       "53900            4           3130                 3190 2019-11-15      True  \n",
       "53901            2              0                   64 2019-11-19     False  \n",
       "\n",
       "[53902 rows x 10 columns]"
      ]
     },
     "execution_count": 358,
     "metadata": {},
     "output_type": "execute_result"
    }
   ],
   "source": [
    "telecom"
   ]
  },
  {
   "cell_type": "code",
   "execution_count": 359,
   "id": "43b96818",
   "metadata": {
    "scrolled": true
   },
   "outputs": [
    {
     "name": "stdout",
     "output_type": "stream",
     "text": [
      "<class 'pandas.core.frame.DataFrame'>\n",
      "RangeIndex: 53902 entries, 0 to 53901\n",
      "Data columns (total 10 columns):\n",
      " #   Column               Non-Null Count  Dtype                                \n",
      "---  ------               --------------  -----                                \n",
      " 0   user_id              53902 non-null  object                               \n",
      " 1   date                 53902 non-null  datetime64[ns, pytz.FixedOffset(180)]\n",
      " 2   internal             53902 non-null  bool                                 \n",
      " 3   operator_id          45730 non-null  object                               \n",
      " 4   is_missed_call       53902 non-null  bool                                 \n",
      " 5   calls_count          53902 non-null  int64                                \n",
      " 6   call_duration        53902 non-null  int64                                \n",
      " 7   total_call_duration  53902 non-null  int64                                \n",
      " 8   date_call            53902 non-null  datetime64[ns]                       \n",
      " 9   out_call             53902 non-null  bool                                 \n",
      "dtypes: bool(3), datetime64[ns, pytz.FixedOffset(180)](1), datetime64[ns](1), int64(3), object(2)\n",
      "memory usage: 3.0+ MB\n"
     ]
    }
   ],
   "source": [
    "telecom.info()"
   ]
  },
  {
   "cell_type": "markdown",
   "id": "71f9b974",
   "metadata": {},
   "source": [
    "Se identifica que al realizar el cambio del tipo de dato para la columna \"internal\" a tipo booleano, se atienden los datos nulos que se encontraban en èsta columna."
   ]
  },
  {
   "cell_type": "markdown",
   "id": "9b914c74",
   "metadata": {},
   "source": [
    "**Se cambian los tipos de datos para las columnas necesarias de la tabla \"clients\".**"
   ]
  },
  {
   "cell_type": "code",
   "execution_count": 360,
   "id": "423e0f40",
   "metadata": {},
   "outputs": [],
   "source": [
    "clients['date_start']=pd.to_datetime(clients['date_start'],format='%Y.%m.%d')"
   ]
  },
  {
   "cell_type": "code",
   "execution_count": 361,
   "id": "942ca67a",
   "metadata": {},
   "outputs": [
    {
     "data": {
      "text/plain": [
       "user_id                 int64\n",
       "tariff_plan            object\n",
       "date_start     datetime64[ns]\n",
       "dtype: object"
      ]
     },
     "execution_count": 361,
     "metadata": {},
     "output_type": "execute_result"
    }
   ],
   "source": [
    "clients.dtypes #Se verifica nuevamente el tipo de fecha para las columnas de la tabla \"clients\""
   ]
  },
  {
   "cell_type": "markdown",
   "id": "37cb08e0",
   "metadata": {},
   "source": [
    "**Se atienden los datos duplicados presentes en la tabla \"telecom\".**"
   ]
  },
  {
   "cell_type": "code",
   "execution_count": 362,
   "id": "3838d92a",
   "metadata": {},
   "outputs": [],
   "source": [
    "telecom=telecom.drop_duplicates().reset_index(drop=True,inplace=False) #Se eliminan los datos duplicados."
   ]
  },
  {
   "cell_type": "code",
   "execution_count": 363,
   "id": "65a9dcf8",
   "metadata": {},
   "outputs": [
    {
     "data": {
      "text/plain": [
       "0"
      ]
     },
     "execution_count": 363,
     "metadata": {},
     "output_type": "execute_result"
    }
   ],
   "source": [
    "telecom.duplicated().sum()"
   ]
  },
  {
   "cell_type": "markdown",
   "id": "fe2ebd5b",
   "metadata": {},
   "source": [
    "**Se atienden los valores ausentes de la columna 'operador_id' de la tabla \"telecom\".**"
   ]
  },
  {
   "cell_type": "markdown",
   "id": "96dc617b",
   "metadata": {},
   "source": [
    "Se filtran las filas en las que la columna \"operator_id\" es ausente para identificar patrones en los datos."
   ]
  },
  {
   "cell_type": "code",
   "execution_count": 364,
   "id": "8fd30af0",
   "metadata": {
    "scrolled": true
   },
   "outputs": [
    {
     "data": {
      "text/html": [
       "<div>\n",
       "<style scoped>\n",
       "    .dataframe tbody tr th:only-of-type {\n",
       "        vertical-align: middle;\n",
       "    }\n",
       "\n",
       "    .dataframe tbody tr th {\n",
       "        vertical-align: top;\n",
       "    }\n",
       "\n",
       "    .dataframe thead th {\n",
       "        text-align: right;\n",
       "    }\n",
       "</style>\n",
       "<table border=\"1\" class=\"dataframe\">\n",
       "  <thead>\n",
       "    <tr style=\"text-align: right;\">\n",
       "      <th></th>\n",
       "      <th>user_id</th>\n",
       "      <th>date</th>\n",
       "      <th>internal</th>\n",
       "      <th>operator_id</th>\n",
       "      <th>is_missed_call</th>\n",
       "      <th>calls_count</th>\n",
       "      <th>call_duration</th>\n",
       "      <th>total_call_duration</th>\n",
       "      <th>date_call</th>\n",
       "      <th>out_call</th>\n",
       "    </tr>\n",
       "  </thead>\n",
       "  <tbody>\n",
       "    <tr>\n",
       "      <th>0</th>\n",
       "      <td>166377</td>\n",
       "      <td>2019-08-04 00:00:00+03:00</td>\n",
       "      <td>False</td>\n",
       "      <td>NaN</td>\n",
       "      <td>True</td>\n",
       "      <td>2</td>\n",
       "      <td>0</td>\n",
       "      <td>4</td>\n",
       "      <td>2019-08-04</td>\n",
       "      <td>False</td>\n",
       "    </tr>\n",
       "    <tr>\n",
       "      <th>7</th>\n",
       "      <td>166377</td>\n",
       "      <td>2019-08-05 00:00:00+03:00</td>\n",
       "      <td>False</td>\n",
       "      <td>NaN</td>\n",
       "      <td>True</td>\n",
       "      <td>6</td>\n",
       "      <td>0</td>\n",
       "      <td>35</td>\n",
       "      <td>2019-08-05</td>\n",
       "      <td>False</td>\n",
       "    </tr>\n",
       "    <tr>\n",
       "      <th>8</th>\n",
       "      <td>166377</td>\n",
       "      <td>2019-08-06 00:00:00+03:00</td>\n",
       "      <td>False</td>\n",
       "      <td>NaN</td>\n",
       "      <td>True</td>\n",
       "      <td>4</td>\n",
       "      <td>0</td>\n",
       "      <td>62</td>\n",
       "      <td>2019-08-06</td>\n",
       "      <td>False</td>\n",
       "    </tr>\n",
       "    <tr>\n",
       "      <th>16</th>\n",
       "      <td>166377</td>\n",
       "      <td>2019-08-07 00:00:00+03:00</td>\n",
       "      <td>False</td>\n",
       "      <td>NaN</td>\n",
       "      <td>True</td>\n",
       "      <td>2</td>\n",
       "      <td>0</td>\n",
       "      <td>24</td>\n",
       "      <td>2019-08-07</td>\n",
       "      <td>False</td>\n",
       "    </tr>\n",
       "    <tr>\n",
       "      <th>26</th>\n",
       "      <td>166377</td>\n",
       "      <td>2019-08-12 00:00:00+03:00</td>\n",
       "      <td>False</td>\n",
       "      <td>NaN</td>\n",
       "      <td>True</td>\n",
       "      <td>2</td>\n",
       "      <td>0</td>\n",
       "      <td>34</td>\n",
       "      <td>2019-08-12</td>\n",
       "      <td>False</td>\n",
       "    </tr>\n",
       "    <tr>\n",
       "      <th>...</th>\n",
       "      <td>...</td>\n",
       "      <td>...</td>\n",
       "      <td>...</td>\n",
       "      <td>...</td>\n",
       "      <td>...</td>\n",
       "      <td>...</td>\n",
       "      <td>...</td>\n",
       "      <td>...</td>\n",
       "      <td>...</td>\n",
       "      <td>...</td>\n",
       "    </tr>\n",
       "    <tr>\n",
       "      <th>48978</th>\n",
       "      <td>168601</td>\n",
       "      <td>2019-11-27 00:00:00+03:00</td>\n",
       "      <td>False</td>\n",
       "      <td>NaN</td>\n",
       "      <td>True</td>\n",
       "      <td>2</td>\n",
       "      <td>0</td>\n",
       "      <td>39</td>\n",
       "      <td>2019-11-27</td>\n",
       "      <td>False</td>\n",
       "    </tr>\n",
       "    <tr>\n",
       "      <th>48982</th>\n",
       "      <td>168601</td>\n",
       "      <td>2019-11-28 00:00:00+03:00</td>\n",
       "      <td>False</td>\n",
       "      <td>NaN</td>\n",
       "      <td>True</td>\n",
       "      <td>1</td>\n",
       "      <td>0</td>\n",
       "      <td>19</td>\n",
       "      <td>2019-11-28</td>\n",
       "      <td>False</td>\n",
       "    </tr>\n",
       "    <tr>\n",
       "      <th>48990</th>\n",
       "      <td>168603</td>\n",
       "      <td>2019-11-28 00:00:00+03:00</td>\n",
       "      <td>False</td>\n",
       "      <td>NaN</td>\n",
       "      <td>True</td>\n",
       "      <td>1</td>\n",
       "      <td>0</td>\n",
       "      <td>30</td>\n",
       "      <td>2019-11-28</td>\n",
       "      <td>False</td>\n",
       "    </tr>\n",
       "    <tr>\n",
       "      <th>48994</th>\n",
       "      <td>168606</td>\n",
       "      <td>2019-11-08 00:00:00+03:00</td>\n",
       "      <td>False</td>\n",
       "      <td>NaN</td>\n",
       "      <td>True</td>\n",
       "      <td>6</td>\n",
       "      <td>0</td>\n",
       "      <td>121</td>\n",
       "      <td>2019-11-08</td>\n",
       "      <td>False</td>\n",
       "    </tr>\n",
       "    <tr>\n",
       "      <th>49001</th>\n",
       "      <td>168606</td>\n",
       "      <td>2019-11-19 00:00:00+03:00</td>\n",
       "      <td>False</td>\n",
       "      <td>NaN</td>\n",
       "      <td>True</td>\n",
       "      <td>2</td>\n",
       "      <td>0</td>\n",
       "      <td>64</td>\n",
       "      <td>2019-11-19</td>\n",
       "      <td>False</td>\n",
       "    </tr>\n",
       "  </tbody>\n",
       "</table>\n",
       "<p>7456 rows × 10 columns</p>\n",
       "</div>"
      ],
      "text/plain": [
       "      user_id                      date  internal operator_id  is_missed_call  \\\n",
       "0      166377 2019-08-04 00:00:00+03:00     False         NaN            True   \n",
       "7      166377 2019-08-05 00:00:00+03:00     False         NaN            True   \n",
       "8      166377 2019-08-06 00:00:00+03:00     False         NaN            True   \n",
       "16     166377 2019-08-07 00:00:00+03:00     False         NaN            True   \n",
       "26     166377 2019-08-12 00:00:00+03:00     False         NaN            True   \n",
       "...       ...                       ...       ...         ...             ...   \n",
       "48978  168601 2019-11-27 00:00:00+03:00     False         NaN            True   \n",
       "48982  168601 2019-11-28 00:00:00+03:00     False         NaN            True   \n",
       "48990  168603 2019-11-28 00:00:00+03:00     False         NaN            True   \n",
       "48994  168606 2019-11-08 00:00:00+03:00     False         NaN            True   \n",
       "49001  168606 2019-11-19 00:00:00+03:00     False         NaN            True   \n",
       "\n",
       "       calls_count  call_duration  total_call_duration  date_call  out_call  \n",
       "0                2              0                    4 2019-08-04     False  \n",
       "7                6              0                   35 2019-08-05     False  \n",
       "8                4              0                   62 2019-08-06     False  \n",
       "16               2              0                   24 2019-08-07     False  \n",
       "26               2              0                   34 2019-08-12     False  \n",
       "...            ...            ...                  ...        ...       ...  \n",
       "48978            2              0                   39 2019-11-27     False  \n",
       "48982            1              0                   19 2019-11-28     False  \n",
       "48990            1              0                   30 2019-11-28     False  \n",
       "48994            6              0                  121 2019-11-08     False  \n",
       "49001            2              0                   64 2019-11-19     False  \n",
       "\n",
       "[7456 rows x 10 columns]"
      ]
     },
     "execution_count": 364,
     "metadata": {},
     "output_type": "execute_result"
    }
   ],
   "source": [
    "telecom[telecom['operator_id'].isnull()]"
   ]
  },
  {
   "cell_type": "markdown",
   "id": "f638619d",
   "metadata": {},
   "source": [
    "Se considera que la informaciòn del operador sòlo puede relacionarse con el usuario;por lo cual se intentarà utilizar èsta informaciòn para imputar los datos y rellenar los valores ausentes de la columna \"operator_id\"."
   ]
  },
  {
   "cell_type": "markdown",
   "id": "220120df",
   "metadata": {},
   "source": [
    "Se identifica si algunos usuarios tienen servicio con mas de un operador."
   ]
  },
  {
   "cell_type": "code",
   "execution_count": 365,
   "id": "d98db2a9",
   "metadata": {},
   "outputs": [],
   "source": [
    "operator_count=telecom.groupby('user_id').agg({'operator_id':'nunique'}).reset_index()"
   ]
  },
  {
   "cell_type": "code",
   "execution_count": 366,
   "id": "bad25fa1",
   "metadata": {},
   "outputs": [
    {
     "data": {
      "text/html": [
       "<div>\n",
       "<style scoped>\n",
       "    .dataframe tbody tr th:only-of-type {\n",
       "        vertical-align: middle;\n",
       "    }\n",
       "\n",
       "    .dataframe tbody tr th {\n",
       "        vertical-align: top;\n",
       "    }\n",
       "\n",
       "    .dataframe thead th {\n",
       "        text-align: right;\n",
       "    }\n",
       "</style>\n",
       "<table border=\"1\" class=\"dataframe\">\n",
       "  <thead>\n",
       "    <tr style=\"text-align: right;\">\n",
       "      <th></th>\n",
       "      <th>user_id</th>\n",
       "      <th>operator_id</th>\n",
       "    </tr>\n",
       "  </thead>\n",
       "  <tbody>\n",
       "    <tr>\n",
       "      <th>0</th>\n",
       "      <td>166377</td>\n",
       "      <td>5</td>\n",
       "    </tr>\n",
       "    <tr>\n",
       "      <th>1</th>\n",
       "      <td>166391</td>\n",
       "      <td>2</td>\n",
       "    </tr>\n",
       "    <tr>\n",
       "      <th>2</th>\n",
       "      <td>166392</td>\n",
       "      <td>3</td>\n",
       "    </tr>\n",
       "    <tr>\n",
       "      <th>3</th>\n",
       "      <td>166399</td>\n",
       "      <td>1</td>\n",
       "    </tr>\n",
       "    <tr>\n",
       "      <th>4</th>\n",
       "      <td>166405</td>\n",
       "      <td>10</td>\n",
       "    </tr>\n",
       "    <tr>\n",
       "      <th>...</th>\n",
       "      <td>...</td>\n",
       "      <td>...</td>\n",
       "    </tr>\n",
       "    <tr>\n",
       "      <th>302</th>\n",
       "      <td>168583</td>\n",
       "      <td>2</td>\n",
       "    </tr>\n",
       "    <tr>\n",
       "      <th>303</th>\n",
       "      <td>168598</td>\n",
       "      <td>1</td>\n",
       "    </tr>\n",
       "    <tr>\n",
       "      <th>304</th>\n",
       "      <td>168601</td>\n",
       "      <td>2</td>\n",
       "    </tr>\n",
       "    <tr>\n",
       "      <th>305</th>\n",
       "      <td>168603</td>\n",
       "      <td>1</td>\n",
       "    </tr>\n",
       "    <tr>\n",
       "      <th>306</th>\n",
       "      <td>168606</td>\n",
       "      <td>1</td>\n",
       "    </tr>\n",
       "  </tbody>\n",
       "</table>\n",
       "<p>307 rows × 2 columns</p>\n",
       "</div>"
      ],
      "text/plain": [
       "     user_id  operator_id\n",
       "0     166377            5\n",
       "1     166391            2\n",
       "2     166392            3\n",
       "3     166399            1\n",
       "4     166405           10\n",
       "..       ...          ...\n",
       "302   168583            2\n",
       "303   168598            1\n",
       "304   168601            2\n",
       "305   168603            1\n",
       "306   168606            1\n",
       "\n",
       "[307 rows x 2 columns]"
      ]
     },
     "execution_count": 366,
     "metadata": {},
     "output_type": "execute_result"
    }
   ],
   "source": [
    "operator_count"
   ]
  },
  {
   "cell_type": "code",
   "execution_count": 367,
   "id": "ce0a03fc",
   "metadata": {},
   "outputs": [
    {
     "data": {
      "text/plain": [
       "183"
      ]
     },
     "execution_count": 367,
     "metadata": {},
     "output_type": "execute_result"
    }
   ],
   "source": [
    "len(operator_count[operator_count['operator_id']>1])"
   ]
  },
  {
   "cell_type": "code",
   "execution_count": 368,
   "id": "f0cbcf06",
   "metadata": {},
   "outputs": [
    {
     "data": {
      "text/plain": [
       "59.60912052117264"
      ]
     },
     "execution_count": 368,
     "metadata": {},
     "output_type": "execute_result"
    }
   ],
   "source": [
    "len(operator_count[operator_count['operator_id']>1])/len(operator_count)*100"
   ]
  },
  {
   "cell_type": "markdown",
   "id": "077cb46b",
   "metadata": {},
   "source": [
    "Se identifica que existen 183 usuarios que reciben el servicio por mas de un operador; lo cual representa mas del 59% de los usuarios; por lo cual èstos usuarios no pueden eliminarse."
   ]
  },
  {
   "cell_type": "markdown",
   "id": "9030cdda",
   "metadata": {},
   "source": [
    "Luego de descartar la imputaciòn de datos de los usuarios para rellenar la informaciòn de los datos ausentes en la columna \"operator_id\", se decide entonces eliminar las filas en las que la columna operator id no posee informaciòn."
   ]
  },
  {
   "cell_type": "code",
   "execution_count": 369,
   "id": "25155082",
   "metadata": {},
   "outputs": [],
   "source": [
    "telecom=telecom.dropna() #Se eliminan las filas que contienen datos ausentes."
   ]
  },
  {
   "cell_type": "code",
   "execution_count": 370,
   "id": "c384626f",
   "metadata": {},
   "outputs": [
    {
     "name": "stdout",
     "output_type": "stream",
     "text": [
      "<class 'pandas.core.frame.DataFrame'>\n",
      "Int64Index: 41546 entries, 1 to 49000\n",
      "Data columns (total 10 columns):\n",
      " #   Column               Non-Null Count  Dtype                                \n",
      "---  ------               --------------  -----                                \n",
      " 0   user_id              41546 non-null  object                               \n",
      " 1   date                 41546 non-null  datetime64[ns, pytz.FixedOffset(180)]\n",
      " 2   internal             41546 non-null  bool                                 \n",
      " 3   operator_id          41546 non-null  object                               \n",
      " 4   is_missed_call       41546 non-null  bool                                 \n",
      " 5   calls_count          41546 non-null  int64                                \n",
      " 6   call_duration        41546 non-null  int64                                \n",
      " 7   total_call_duration  41546 non-null  int64                                \n",
      " 8   date_call            41546 non-null  datetime64[ns]                       \n",
      " 9   out_call             41546 non-null  bool                                 \n",
      "dtypes: bool(3), datetime64[ns, pytz.FixedOffset(180)](1), datetime64[ns](1), int64(3), object(2)\n",
      "memory usage: 2.7+ MB\n"
     ]
    }
   ],
   "source": [
    "telecom.info()"
   ]
  },
  {
   "cell_type": "markdown",
   "id": "3c918df9",
   "metadata": {},
   "source": [
    "# Anàlisis de los datos <a id='analisis'></a>"
   ]
  },
  {
   "cell_type": "markdown",
   "id": "7c363a7d",
   "metadata": {},
   "source": [
    "**Se identifica el tiempo de recuperaciòn de los datos**"
   ]
  },
  {
   "cell_type": "markdown",
   "id": "ac7388e0",
   "metadata": {},
   "source": [
    "Se crea un histograma para visualizar las fechas que comprenden los datos."
   ]
  },
  {
   "cell_type": "code",
   "execution_count": 371,
   "id": "8299bd8b",
   "metadata": {},
   "outputs": [
    {
     "data": {
      "image/png": "[encoded data removed]",
      "text/plain": [
       "<Figure size 1000x600 with 1 Axes>"
      ]
     },
     "metadata": {},
     "output_type": "display_data"
    }
   ],
   "source": [
    "telecom['date_call'].hist(bins=50,figsize=(10,6))\n",
    "plt.title('Fecha de los datos')\n",
    "plt.xlabel('Fecha')\n",
    "plt.ylabel('Frecuencia')\n",
    "plt.xticks(rotation=45)\n",
    "plt.show()"
   ]
  },
  {
   "cell_type": "markdown",
   "id": "916df844",
   "metadata": {},
   "source": [
    "El tiempo de recuperaciòn de datos se presenta entre los meses de agosto y noviembre del 2019."
   ]
  },
  {
   "cell_type": "markdown",
   "id": "e06a3f68",
   "metadata": {},
   "source": [
    "Se identifican los operadores mas comunes."
   ]
  },
  {
   "cell_type": "code",
   "execution_count": 372,
   "id": "ae141dce",
   "metadata": {},
   "outputs": [
    {
     "data": {
      "text/html": [
       "<div>\n",
       "<style scoped>\n",
       "    .dataframe tbody tr th:only-of-type {\n",
       "        vertical-align: middle;\n",
       "    }\n",
       "\n",
       "    .dataframe tbody tr th {\n",
       "        vertical-align: top;\n",
       "    }\n",
       "\n",
       "    .dataframe thead th {\n",
       "        text-align: right;\n",
       "    }\n",
       "</style>\n",
       "<table border=\"1\" class=\"dataframe\">\n",
       "  <thead>\n",
       "    <tr style=\"text-align: right;\">\n",
       "      <th></th>\n",
       "      <th>user_id</th>\n",
       "    </tr>\n",
       "    <tr>\n",
       "      <th>operator_id</th>\n",
       "      <th></th>\n",
       "    </tr>\n",
       "  </thead>\n",
       "  <tbody>\n",
       "    <tr>\n",
       "      <th>901884.0</th>\n",
       "      <td>323</td>\n",
       "    </tr>\n",
       "    <tr>\n",
       "      <th>901880.0</th>\n",
       "      <td>302</td>\n",
       "    </tr>\n",
       "    <tr>\n",
       "      <th>893804.0</th>\n",
       "      <td>289</td>\n",
       "    </tr>\n",
       "    <tr>\n",
       "      <th>885876.0</th>\n",
       "      <td>283</td>\n",
       "    </tr>\n",
       "    <tr>\n",
       "      <th>887276.0</th>\n",
       "      <td>267</td>\n",
       "    </tr>\n",
       "    <tr>\n",
       "      <th>...</th>\n",
       "      <td>...</td>\n",
       "    </tr>\n",
       "    <tr>\n",
       "      <th>946468.0</th>\n",
       "      <td>1</td>\n",
       "    </tr>\n",
       "    <tr>\n",
       "      <th>899912.0</th>\n",
       "      <td>1</td>\n",
       "    </tr>\n",
       "    <tr>\n",
       "      <th>947306.0</th>\n",
       "      <td>1</td>\n",
       "    </tr>\n",
       "    <tr>\n",
       "      <th>899906.0</th>\n",
       "      <td>1</td>\n",
       "    </tr>\n",
       "    <tr>\n",
       "      <th>973286.0</th>\n",
       "      <td>1</td>\n",
       "    </tr>\n",
       "  </tbody>\n",
       "</table>\n",
       "<p>1092 rows × 1 columns</p>\n",
       "</div>"
      ],
      "text/plain": [
       "             user_id\n",
       "operator_id         \n",
       "901884.0         323\n",
       "901880.0         302\n",
       "893804.0         289\n",
       "885876.0         283\n",
       "887276.0         267\n",
       "...              ...\n",
       "946468.0           1\n",
       "899912.0           1\n",
       "947306.0           1\n",
       "899906.0           1\n",
       "973286.0           1\n",
       "\n",
       "[1092 rows x 1 columns]"
      ]
     },
     "execution_count": 372,
     "metadata": {},
     "output_type": "execute_result"
    }
   ],
   "source": [
    "telecom.groupby('operator_id').agg({'user_id':'count'}).sort_values(by='user_id',ascending=False)"
   ]
  },
  {
   "cell_type": "code",
   "execution_count": 373,
   "id": "5181589b",
   "metadata": {},
   "outputs": [
    {
     "data": {
      "image/png": "[encoded data removed]",
      "text/plain": [
       "<Figure size 1000x600 with 1 Axes>"
      ]
     },
     "metadata": {},
     "output_type": "display_data"
    }
   ],
   "source": [
    "telecom.groupby('operator_id').agg({'user_id':'count'}).sort_values(by='user_id',ascending=False).head().plot(kind='bar',figsize=(10,6))\n",
    "plt.title('Operador utilizados por los usuarios')\n",
    "plt.xlabel('Operador')\n",
    "plt.ylabel('Frecuencia')\n",
    "plt.show()"
   ]
  },
  {
   "cell_type": "markdown",
   "id": "dcbc8831",
   "metadata": {},
   "source": [
    "Los operadores mas utilizados por parte de los usuarios son: 901884, 901880, 893804, 885876 y 887276."
   ]
  },
  {
   "cell_type": "markdown",
   "id": "b34efc33",
   "metadata": {},
   "source": [
    "Se identifican los porcentajes de llamadas perdidas."
   ]
  },
  {
   "cell_type": "code",
   "execution_count": 374,
   "id": "faae16b4",
   "metadata": {},
   "outputs": [
    {
     "data": {
      "text/plain": [
       "False    66.037645\n",
       "True     33.962355\n",
       "Name: is_missed_call, dtype: float64"
      ]
     },
     "execution_count": 374,
     "metadata": {},
     "output_type": "execute_result"
    }
   ],
   "source": [
    "telecom['is_missed_call'].value_counts()/len(telecom)*100"
   ]
  },
  {
   "cell_type": "markdown",
   "id": "d09aebbb",
   "metadata": {},
   "source": [
    "Se identifica que  aproximadamente el 34% de las llamadas son perdidas."
   ]
  },
  {
   "cell_type": "markdown",
   "id": "68305d4b",
   "metadata": {},
   "source": [
    "# Identificaciòn de datos atìpicos <a id='atipicos'></a>"
   ]
  },
  {
   "cell_type": "markdown",
   "id": "69f8b382",
   "metadata": {},
   "source": [
    "**Teniendo en cuenta los altos valores en algunas de las variables cuantitativas, se identifican posibles datos atìpicos.**"
   ]
  },
  {
   "cell_type": "markdown",
   "id": "c95eb796",
   "metadata": {},
   "source": [
    "Inicialmente, se identifican posibles datos atìpicos entre la informaciòn de los tiempos de espera de las llamadas que se recopilan en las columnas \"total_call_duration\" y \"call_duration\", y en la columna \"calls_count\"."
   ]
  },
  {
   "cell_type": "code",
   "execution_count": 375,
   "id": "ce1032d7",
   "metadata": {},
   "outputs": [
    {
     "data": {
      "text/plain": [
       "count     41546.000000\n",
       "mean       1321.592813\n",
       "std        4785.978633\n",
       "min           0.000000\n",
       "25%          67.000000\n",
       "50%         288.000000\n",
       "75%        1104.000000\n",
       "max      166155.000000\n",
       "Name: total_call_duration, dtype: float64"
      ]
     },
     "execution_count": 375,
     "metadata": {},
     "output_type": "execute_result"
    }
   ],
   "source": [
    "telecom['total_call_duration'].describe()"
   ]
  },
  {
   "cell_type": "markdown",
   "id": "9a33a53a",
   "metadata": {},
   "source": [
    "Se identifica una desviaciòn estàndar muy alta para los datos de la columna \"total_call_duration\". Adicionalmente, se encuentra gran diferencia entre los datos de la media y la mediana; lo cual puede atribuirse a datos atìpicos o posibles problemas durante la entrada de los datos."
   ]
  },
  {
   "cell_type": "markdown",
   "id": "0d8038b2",
   "metadata": {},
   "source": [
    "Se considera que los datos registrados para la columna \"total_call_duration\" puede encontrarse en segundos; lo cual puede ser la causa de que se arrojen valores tan altos."
   ]
  },
  {
   "cell_type": "markdown",
   "id": "a22a4bb5",
   "metadata": {},
   "source": [
    "La columna \"total_call_duration\" se pasa a minutos, para verificar la variaciòn en los datos."
   ]
  },
  {
   "cell_type": "code",
   "execution_count": 376,
   "id": "8b5901ae",
   "metadata": {},
   "outputs": [],
   "source": [
    "telecom['total_call_duration']=telecom['total_call_duration']/60 #La duraciòn total de la llamada se pasa a minutos."
   ]
  },
  {
   "cell_type": "code",
   "execution_count": 377,
   "id": "a35bbe37",
   "metadata": {},
   "outputs": [
    {
     "data": {
      "text/plain": [
       "count    41546.000000\n",
       "mean        22.026547\n",
       "std         79.766311\n",
       "min          0.000000\n",
       "25%          1.116667\n",
       "50%          4.800000\n",
       "75%         18.400000\n",
       "max       2769.250000\n",
       "Name: total_call_duration, dtype: float64"
      ]
     },
     "execution_count": 377,
     "metadata": {},
     "output_type": "execute_result"
    }
   ],
   "source": [
    "telecom['total_call_duration'].describe() #Se verifica nuevamente la informaciòn estadìstica en \"total_call_duration\""
   ]
  },
  {
   "cell_type": "markdown",
   "id": "bca84865",
   "metadata": {},
   "source": [
    "Se identifica una disminuciòn en la desviaciòn estàndar; sin embargo se continùa evidenciando una desviaciòn alta (>79)."
   ]
  },
  {
   "cell_type": "markdown",
   "id": "2f1fc700",
   "metadata": {},
   "source": [
    "Se identifica que el dato mìnimo para la columna \"total_call_duration\" es igual a 0. Se filtran èstos datos para identificar los posibles casos en los que se presenta èste valor."
   ]
  },
  {
   "cell_type": "code",
   "execution_count": 378,
   "id": "192895dd",
   "metadata": {},
   "outputs": [
    {
     "data": {
      "text/html": [
       "<div>\n",
       "<style scoped>\n",
       "    .dataframe tbody tr th:only-of-type {\n",
       "        vertical-align: middle;\n",
       "    }\n",
       "\n",
       "    .dataframe tbody tr th {\n",
       "        vertical-align: top;\n",
       "    }\n",
       "\n",
       "    .dataframe thead th {\n",
       "        text-align: right;\n",
       "    }\n",
       "</style>\n",
       "<table border=\"1\" class=\"dataframe\">\n",
       "  <thead>\n",
       "    <tr style=\"text-align: right;\">\n",
       "      <th></th>\n",
       "      <th>user_id</th>\n",
       "      <th>date</th>\n",
       "      <th>internal</th>\n",
       "      <th>operator_id</th>\n",
       "      <th>is_missed_call</th>\n",
       "      <th>calls_count</th>\n",
       "      <th>call_duration</th>\n",
       "      <th>total_call_duration</th>\n",
       "      <th>date_call</th>\n",
       "      <th>out_call</th>\n",
       "    </tr>\n",
       "  </thead>\n",
       "  <tbody>\n",
       "    <tr>\n",
       "      <th>38</th>\n",
       "      <td>166377</td>\n",
       "      <td>2019-08-14 00:00:00+03:00</td>\n",
       "      <td>True</td>\n",
       "      <td>880026.0</td>\n",
       "      <td>True</td>\n",
       "      <td>2</td>\n",
       "      <td>0</td>\n",
       "      <td>0.0</td>\n",
       "      <td>2019-08-14</td>\n",
       "      <td>True</td>\n",
       "    </tr>\n",
       "    <tr>\n",
       "      <th>80</th>\n",
       "      <td>166377</td>\n",
       "      <td>2019-08-26 00:00:00+03:00</td>\n",
       "      <td>True</td>\n",
       "      <td>880022.0</td>\n",
       "      <td>True</td>\n",
       "      <td>3</td>\n",
       "      <td>0</td>\n",
       "      <td>0.0</td>\n",
       "      <td>2019-08-26</td>\n",
       "      <td>True</td>\n",
       "    </tr>\n",
       "    <tr>\n",
       "      <th>113</th>\n",
       "      <td>166377</td>\n",
       "      <td>2019-09-02 00:00:00+03:00</td>\n",
       "      <td>True</td>\n",
       "      <td>880020.0</td>\n",
       "      <td>True</td>\n",
       "      <td>2</td>\n",
       "      <td>0</td>\n",
       "      <td>0.0</td>\n",
       "      <td>2019-09-02</td>\n",
       "      <td>True</td>\n",
       "    </tr>\n",
       "    <tr>\n",
       "      <th>137</th>\n",
       "      <td>166377</td>\n",
       "      <td>2019-09-05 00:00:00+03:00</td>\n",
       "      <td>True</td>\n",
       "      <td>880022.0</td>\n",
       "      <td>True</td>\n",
       "      <td>2</td>\n",
       "      <td>0</td>\n",
       "      <td>0.0</td>\n",
       "      <td>2019-09-05</td>\n",
       "      <td>True</td>\n",
       "    </tr>\n",
       "    <tr>\n",
       "      <th>139</th>\n",
       "      <td>166377</td>\n",
       "      <td>2019-09-06 00:00:00+03:00</td>\n",
       "      <td>True</td>\n",
       "      <td>880022.0</td>\n",
       "      <td>True</td>\n",
       "      <td>2</td>\n",
       "      <td>0</td>\n",
       "      <td>0.0</td>\n",
       "      <td>2019-09-06</td>\n",
       "      <td>True</td>\n",
       "    </tr>\n",
       "    <tr>\n",
       "      <th>...</th>\n",
       "      <td>...</td>\n",
       "      <td>...</td>\n",
       "      <td>...</td>\n",
       "      <td>...</td>\n",
       "      <td>...</td>\n",
       "      <td>...</td>\n",
       "      <td>...</td>\n",
       "      <td>...</td>\n",
       "      <td>...</td>\n",
       "      <td>...</td>\n",
       "    </tr>\n",
       "    <tr>\n",
       "      <th>48599</th>\n",
       "      <td>168416</td>\n",
       "      <td>2019-10-29 00:00:00+03:00</td>\n",
       "      <td>True</td>\n",
       "      <td>948182.0</td>\n",
       "      <td>True</td>\n",
       "      <td>1</td>\n",
       "      <td>0</td>\n",
       "      <td>0.0</td>\n",
       "      <td>2019-10-29</td>\n",
       "      <td>True</td>\n",
       "    </tr>\n",
       "    <tr>\n",
       "      <th>48666</th>\n",
       "      <td>168416</td>\n",
       "      <td>2019-11-19 00:00:00+03:00</td>\n",
       "      <td>True</td>\n",
       "      <td>948182.0</td>\n",
       "      <td>True</td>\n",
       "      <td>1</td>\n",
       "      <td>0</td>\n",
       "      <td>0.0</td>\n",
       "      <td>2019-11-19</td>\n",
       "      <td>True</td>\n",
       "    </tr>\n",
       "    <tr>\n",
       "      <th>48720</th>\n",
       "      <td>168466</td>\n",
       "      <td>2019-10-31 00:00:00+03:00</td>\n",
       "      <td>False</td>\n",
       "      <td>952114.0</td>\n",
       "      <td>True</td>\n",
       "      <td>1</td>\n",
       "      <td>0</td>\n",
       "      <td>0.0</td>\n",
       "      <td>2019-10-31</td>\n",
       "      <td>True</td>\n",
       "    </tr>\n",
       "    <tr>\n",
       "      <th>48753</th>\n",
       "      <td>168466</td>\n",
       "      <td>2019-11-18 00:00:00+03:00</td>\n",
       "      <td>False</td>\n",
       "      <td>952114.0</td>\n",
       "      <td>True</td>\n",
       "      <td>10</td>\n",
       "      <td>0</td>\n",
       "      <td>0.0</td>\n",
       "      <td>2019-11-18</td>\n",
       "      <td>True</td>\n",
       "    </tr>\n",
       "    <tr>\n",
       "      <th>48943</th>\n",
       "      <td>168601</td>\n",
       "      <td>2019-11-12 00:00:00+03:00</td>\n",
       "      <td>True</td>\n",
       "      <td>952914.0</td>\n",
       "      <td>True</td>\n",
       "      <td>1</td>\n",
       "      <td>0</td>\n",
       "      <td>0.0</td>\n",
       "      <td>2019-11-12</td>\n",
       "      <td>True</td>\n",
       "    </tr>\n",
       "  </tbody>\n",
       "</table>\n",
       "<p>863 rows × 10 columns</p>\n",
       "</div>"
      ],
      "text/plain": [
       "      user_id                      date  internal operator_id  is_missed_call  \\\n",
       "38     166377 2019-08-14 00:00:00+03:00      True    880026.0            True   \n",
       "80     166377 2019-08-26 00:00:00+03:00      True    880022.0            True   \n",
       "113    166377 2019-09-02 00:00:00+03:00      True    880020.0            True   \n",
       "137    166377 2019-09-05 00:00:00+03:00      True    880022.0            True   \n",
       "139    166377 2019-09-06 00:00:00+03:00      True    880022.0            True   \n",
       "...       ...                       ...       ...         ...             ...   \n",
       "48599  168416 2019-10-29 00:00:00+03:00      True    948182.0            True   \n",
       "48666  168416 2019-11-19 00:00:00+03:00      True    948182.0            True   \n",
       "48720  168466 2019-10-31 00:00:00+03:00     False    952114.0            True   \n",
       "48753  168466 2019-11-18 00:00:00+03:00     False    952114.0            True   \n",
       "48943  168601 2019-11-12 00:00:00+03:00      True    952914.0            True   \n",
       "\n",
       "       calls_count  call_duration  total_call_duration  date_call  out_call  \n",
       "38               2              0                  0.0 2019-08-14      True  \n",
       "80               3              0                  0.0 2019-08-26      True  \n",
       "113              2              0                  0.0 2019-09-02      True  \n",
       "137              2              0                  0.0 2019-09-05      True  \n",
       "139              2              0                  0.0 2019-09-06      True  \n",
       "...            ...            ...                  ...        ...       ...  \n",
       "48599            1              0                  0.0 2019-10-29      True  \n",
       "48666            1              0                  0.0 2019-11-19      True  \n",
       "48720            1              0                  0.0 2019-10-31      True  \n",
       "48753           10              0                  0.0 2019-11-18      True  \n",
       "48943            1              0                  0.0 2019-11-12      True  \n",
       "\n",
       "[863 rows x 10 columns]"
      ]
     },
     "execution_count": 378,
     "metadata": {},
     "output_type": "execute_result"
    }
   ],
   "source": [
    "telecom.query('total_call_duration==0')"
   ]
  },
  {
   "cell_type": "markdown",
   "id": "b9dbf5ea",
   "metadata": {},
   "source": [
    "Se evidencia que el valor de cero para la columana \"total_call_duration\" se manifiesta en los casos en los que la llamada es perdida. Se decide no reemplazar èstos valores."
   ]
  },
  {
   "cell_type": "code",
   "execution_count": 379,
   "id": "bc20deb8",
   "metadata": {
    "scrolled": true
   },
   "outputs": [
    {
     "data": {
      "image/png": "[encoded data removed]",
      "text/plain": [
       "<Figure size 1500x600 with 1 Axes>"
      ]
     },
     "metadata": {},
     "output_type": "display_data"
    }
   ],
   "source": [
    "telecom['total_call_duration'].hist(bins=100,figsize=(15,6)) # Creamos histograma de la duraciòn total de las llamadas\".\n",
    "plt.title(\"Histograma duraciòn total de llamadas\")\n",
    "plt.xlabel(\"Duraciòn de las llamadas\")\n",
    "plt.ylabel(\"Frecuencias\")\n",
    "plt.show()"
   ]
  },
  {
   "cell_type": "markdown",
   "id": "804c69ec",
   "metadata": {},
   "source": [
    "De acuerdo con el histograma que relaciona los tiempos de duraciòn de las llamadas (teniendo en cuenta los tiempos de espera), gran cantidad de los tiempos de espera es igual a cero; lo cual muestra muchos casos de llamadas perdidas."
   ]
  },
  {
   "cell_type": "markdown",
   "id": "e5db61dc",
   "metadata": {},
   "source": [
    "Se verifica la informaciòn estadìstica de la columna \"call_duration\", que relaciona los tiempos de las llamadas sin tener en cuenta los tiempos de espera."
   ]
  },
  {
   "cell_type": "code",
   "execution_count": 380,
   "id": "11a71ee9",
   "metadata": {},
   "outputs": [
    {
     "data": {
      "text/plain": [
       "count     41546.000000\n",
       "mean       1009.769172\n",
       "std        4064.106117\n",
       "min           0.000000\n",
       "25%           0.000000\n",
       "50%         106.000000\n",
       "75%         770.000000\n",
       "max      144395.000000\n",
       "Name: call_duration, dtype: float64"
      ]
     },
     "execution_count": 380,
     "metadata": {},
     "output_type": "execute_result"
    }
   ],
   "source": [
    "telecom['call_duration'].describe()"
   ]
  },
  {
   "cell_type": "markdown",
   "id": "fb827c08",
   "metadata": {},
   "source": [
    "Para èsta columna, tambièn se identifica una desviaciòn estàndar muy alta, y una gran diferencia entre la media (1009) y la mediana(106). Ademàs un valor muy grande para el valor màximo (144395)."
   ]
  },
  {
   "cell_type": "markdown",
   "id": "31fd84ad",
   "metadata": {},
   "source": [
    "Se considera que los datos fueron registrados en la columna \"call_duration\" se encuentra en segundos, por lo cual se pasan a minutos."
   ]
  },
  {
   "cell_type": "code",
   "execution_count": 381,
   "id": "de220994",
   "metadata": {},
   "outputs": [],
   "source": [
    "telecom['call_duration']=telecom['call_duration']/60"
   ]
  },
  {
   "cell_type": "code",
   "execution_count": 382,
   "id": "a7ee3567",
   "metadata": {},
   "outputs": [
    {
     "data": {
      "text/plain": [
       "count    41546.000000\n",
       "mean        16.829486\n",
       "std         67.735102\n",
       "min          0.000000\n",
       "25%          0.000000\n",
       "50%          1.766667\n",
       "75%         12.833333\n",
       "max       2406.583333\n",
       "Name: call_duration, dtype: float64"
      ]
     },
     "execution_count": 382,
     "metadata": {},
     "output_type": "execute_result"
    }
   ],
   "source": [
    "telecom['call_duration'].describe() #Se verifica informaciòn estadìstica en la columna \"call_duration\"."
   ]
  },
  {
   "cell_type": "markdown",
   "id": "9873d819",
   "metadata": {},
   "source": [
    "**Se genera un histograma que represente la variaciòn en los tiempos de las llamadas**"
   ]
  },
  {
   "cell_type": "code",
   "execution_count": 383,
   "id": "8704ed3d",
   "metadata": {
    "scrolled": true
   },
   "outputs": [
    {
     "data": {
      "image/png": "[encoded data removed]",
      "text/plain": [
       "<Figure size 1500x600 with 1 Axes>"
      ]
     },
     "metadata": {},
     "output_type": "display_data"
    }
   ],
   "source": [
    "telecom['call_duration'].hist(bins=100,figsize=(15,6)) # Creamos histograma de las duraciones de las llamadas.\n",
    "plt.title(\"Histograma duraciòn de llamadas\")\n",
    "plt.xlabel(\"Duraciòn de las llamadas\")\n",
    "plt.ylabel(\"Frecuencias\")\n",
    "plt.show()"
   ]
  },
  {
   "cell_type": "markdown",
   "id": "f1ae024a",
   "metadata": {},
   "source": [
    "Se presenta una gran tendencia a los valores de cero para los tiempos de las llamadas."
   ]
  },
  {
   "cell_type": "code",
   "execution_count": 384,
   "id": "8a5b5220",
   "metadata": {},
   "outputs": [
    {
     "data": {
      "text/html": [
       "<div>\n",
       "<style scoped>\n",
       "    .dataframe tbody tr th:only-of-type {\n",
       "        vertical-align: middle;\n",
       "    }\n",
       "\n",
       "    .dataframe tbody tr th {\n",
       "        vertical-align: top;\n",
       "    }\n",
       "\n",
       "    .dataframe thead th {\n",
       "        text-align: right;\n",
       "    }\n",
       "</style>\n",
       "<table border=\"1\" class=\"dataframe\">\n",
       "  <thead>\n",
       "    <tr style=\"text-align: right;\">\n",
       "      <th></th>\n",
       "      <th>user_id</th>\n",
       "      <th>date</th>\n",
       "      <th>internal</th>\n",
       "      <th>operator_id</th>\n",
       "      <th>is_missed_call</th>\n",
       "      <th>calls_count</th>\n",
       "      <th>call_duration</th>\n",
       "      <th>total_call_duration</th>\n",
       "      <th>date_call</th>\n",
       "      <th>out_call</th>\n",
       "    </tr>\n",
       "  </thead>\n",
       "  <tbody>\n",
       "    <tr>\n",
       "      <th>1</th>\n",
       "      <td>166377</td>\n",
       "      <td>2019-08-05 00:00:00+03:00</td>\n",
       "      <td>True</td>\n",
       "      <td>880022.0</td>\n",
       "      <td>True</td>\n",
       "      <td>3</td>\n",
       "      <td>0.0</td>\n",
       "      <td>0.083333</td>\n",
       "      <td>2019-08-05</td>\n",
       "      <td>True</td>\n",
       "    </tr>\n",
       "    <tr>\n",
       "      <th>2</th>\n",
       "      <td>166377</td>\n",
       "      <td>2019-08-05 00:00:00+03:00</td>\n",
       "      <td>True</td>\n",
       "      <td>880020.0</td>\n",
       "      <td>True</td>\n",
       "      <td>1</td>\n",
       "      <td>0.0</td>\n",
       "      <td>0.016667</td>\n",
       "      <td>2019-08-05</td>\n",
       "      <td>True</td>\n",
       "    </tr>\n",
       "    <tr>\n",
       "      <th>4</th>\n",
       "      <td>166377</td>\n",
       "      <td>2019-08-05 00:00:00+03:00</td>\n",
       "      <td>False</td>\n",
       "      <td>880022.0</td>\n",
       "      <td>True</td>\n",
       "      <td>3</td>\n",
       "      <td>0.0</td>\n",
       "      <td>0.416667</td>\n",
       "      <td>2019-08-05</td>\n",
       "      <td>True</td>\n",
       "    </tr>\n",
       "    <tr>\n",
       "      <th>6</th>\n",
       "      <td>166377</td>\n",
       "      <td>2019-08-05 00:00:00+03:00</td>\n",
       "      <td>False</td>\n",
       "      <td>880020.0</td>\n",
       "      <td>True</td>\n",
       "      <td>8</td>\n",
       "      <td>0.0</td>\n",
       "      <td>0.833333</td>\n",
       "      <td>2019-08-05</td>\n",
       "      <td>True</td>\n",
       "    </tr>\n",
       "    <tr>\n",
       "      <th>9</th>\n",
       "      <td>166377</td>\n",
       "      <td>2019-08-06 00:00:00+03:00</td>\n",
       "      <td>False</td>\n",
       "      <td>881278.0</td>\n",
       "      <td>True</td>\n",
       "      <td>3</td>\n",
       "      <td>0.0</td>\n",
       "      <td>0.483333</td>\n",
       "      <td>2019-08-06</td>\n",
       "      <td>True</td>\n",
       "    </tr>\n",
       "    <tr>\n",
       "      <th>...</th>\n",
       "      <td>...</td>\n",
       "      <td>...</td>\n",
       "      <td>...</td>\n",
       "      <td>...</td>\n",
       "      <td>...</td>\n",
       "      <td>...</td>\n",
       "      <td>...</td>\n",
       "      <td>...</td>\n",
       "      <td>...</td>\n",
       "      <td>...</td>\n",
       "    </tr>\n",
       "    <tr>\n",
       "      <th>48987</th>\n",
       "      <td>168603</td>\n",
       "      <td>2019-11-21 00:00:00+03:00</td>\n",
       "      <td>False</td>\n",
       "      <td>959118.0</td>\n",
       "      <td>True</td>\n",
       "      <td>1</td>\n",
       "      <td>0.0</td>\n",
       "      <td>0.166667</td>\n",
       "      <td>2019-11-21</td>\n",
       "      <td>True</td>\n",
       "    </tr>\n",
       "    <tr>\n",
       "      <th>48991</th>\n",
       "      <td>168606</td>\n",
       "      <td>2019-11-08 00:00:00+03:00</td>\n",
       "      <td>False</td>\n",
       "      <td>957922.0</td>\n",
       "      <td>True</td>\n",
       "      <td>2</td>\n",
       "      <td>0.0</td>\n",
       "      <td>0.666667</td>\n",
       "      <td>2019-11-08</td>\n",
       "      <td>True</td>\n",
       "    </tr>\n",
       "    <tr>\n",
       "      <th>48992</th>\n",
       "      <td>168606</td>\n",
       "      <td>2019-11-08 00:00:00+03:00</td>\n",
       "      <td>False</td>\n",
       "      <td>957922.0</td>\n",
       "      <td>True</td>\n",
       "      <td>1</td>\n",
       "      <td>0.0</td>\n",
       "      <td>0.116667</td>\n",
       "      <td>2019-11-08</td>\n",
       "      <td>False</td>\n",
       "    </tr>\n",
       "    <tr>\n",
       "      <th>48997</th>\n",
       "      <td>168606</td>\n",
       "      <td>2019-11-10 00:00:00+03:00</td>\n",
       "      <td>True</td>\n",
       "      <td>957922.0</td>\n",
       "      <td>False</td>\n",
       "      <td>1</td>\n",
       "      <td>0.0</td>\n",
       "      <td>0.416667</td>\n",
       "      <td>2019-11-10</td>\n",
       "      <td>True</td>\n",
       "    </tr>\n",
       "    <tr>\n",
       "      <th>48998</th>\n",
       "      <td>168606</td>\n",
       "      <td>2019-11-10 00:00:00+03:00</td>\n",
       "      <td>True</td>\n",
       "      <td>957922.0</td>\n",
       "      <td>True</td>\n",
       "      <td>1</td>\n",
       "      <td>0.0</td>\n",
       "      <td>0.633333</td>\n",
       "      <td>2019-11-10</td>\n",
       "      <td>True</td>\n",
       "    </tr>\n",
       "  </tbody>\n",
       "</table>\n",
       "<p>13831 rows × 10 columns</p>\n",
       "</div>"
      ],
      "text/plain": [
       "      user_id                      date  internal operator_id  is_missed_call  \\\n",
       "1      166377 2019-08-05 00:00:00+03:00      True    880022.0            True   \n",
       "2      166377 2019-08-05 00:00:00+03:00      True    880020.0            True   \n",
       "4      166377 2019-08-05 00:00:00+03:00     False    880022.0            True   \n",
       "6      166377 2019-08-05 00:00:00+03:00     False    880020.0            True   \n",
       "9      166377 2019-08-06 00:00:00+03:00     False    881278.0            True   \n",
       "...       ...                       ...       ...         ...             ...   \n",
       "48987  168603 2019-11-21 00:00:00+03:00     False    959118.0            True   \n",
       "48991  168606 2019-11-08 00:00:00+03:00     False    957922.0            True   \n",
       "48992  168606 2019-11-08 00:00:00+03:00     False    957922.0            True   \n",
       "48997  168606 2019-11-10 00:00:00+03:00      True    957922.0           False   \n",
       "48998  168606 2019-11-10 00:00:00+03:00      True    957922.0            True   \n",
       "\n",
       "       calls_count  call_duration  total_call_duration  date_call  out_call  \n",
       "1                3            0.0             0.083333 2019-08-05      True  \n",
       "2                1            0.0             0.016667 2019-08-05      True  \n",
       "4                3            0.0             0.416667 2019-08-05      True  \n",
       "6                8            0.0             0.833333 2019-08-05      True  \n",
       "9                3            0.0             0.483333 2019-08-06      True  \n",
       "...            ...            ...                  ...        ...       ...  \n",
       "48987            1            0.0             0.166667 2019-11-21      True  \n",
       "48991            2            0.0             0.666667 2019-11-08      True  \n",
       "48992            1            0.0             0.116667 2019-11-08     False  \n",
       "48997            1            0.0             0.416667 2019-11-10      True  \n",
       "48998            1            0.0             0.633333 2019-11-10      True  \n",
       "\n",
       "[13831 rows x 10 columns]"
      ]
     },
     "execution_count": 384,
     "metadata": {},
     "output_type": "execute_result"
    }
   ],
   "source": [
    "telecom.query('call_duration==0')"
   ]
  },
  {
   "cell_type": "markdown",
   "id": "6a0e1bc4",
   "metadata": {},
   "source": [
    "Se identifica que los tiempos de llamadas (sin contar los tiempos de espera), donde se arrojan valores de cero, se manfiiestan en los casos en los que se registra una llamada perdida."
   ]
  },
  {
   "cell_type": "code",
   "execution_count": 385,
   "id": "857132a3",
   "metadata": {},
   "outputs": [
    {
     "data": {
      "text/plain": [
       "count    41546.000000\n",
       "mean        16.900424\n",
       "std         59.749373\n",
       "min          1.000000\n",
       "25%          1.000000\n",
       "50%          4.000000\n",
       "75%         13.000000\n",
       "max       4817.000000\n",
       "Name: calls_count, dtype: float64"
      ]
     },
     "execution_count": 385,
     "metadata": {},
     "output_type": "execute_result"
    }
   ],
   "source": [
    "telecom['calls_count'].describe()"
   ]
  },
  {
   "cell_type": "markdown",
   "id": "d4d9f3b5",
   "metadata": {},
   "source": [
    "Para la columna \"calls_count\" se identifica un valor màximo muy grande (4817); lo cual se considera atìpico, por lo cual es importante verificar èstos datos."
   ]
  },
  {
   "cell_type": "markdown",
   "id": "3b6c84f9",
   "metadata": {},
   "source": [
    "**Se genera un histograma que represente la variaciòn en la cantidad de llamadas.**"
   ]
  },
  {
   "cell_type": "code",
   "execution_count": 386,
   "id": "c44d5680",
   "metadata": {},
   "outputs": [
    {
     "data": {
      "image/png": "[encoded data removed]",
      "text/plain": [
       "<Figure size 1500x600 with 1 Axes>"
      ]
     },
     "metadata": {},
     "output_type": "display_data"
    }
   ],
   "source": [
    "telecom['calls_count'].hist(bins=100,figsize=(15,6)) # Creamos histograma de las cantidades de llamadas.\n",
    "plt.title(\"Histograma cantidad de llamadas\")\n",
    "plt.xlabel(\"Cantidad de llamadas\")\n",
    "plt.ylabel(\"Frecuencias\")\n",
    "plt.show()"
   ]
  },
  {
   "cell_type": "markdown",
   "id": "9854227e",
   "metadata": {},
   "source": [
    "**Se filtran los valores atìpicos para las columnas: total_call_duration,call_duration y call_count**"
   ]
  },
  {
   "cell_type": "markdown",
   "id": "5985b1e6",
   "metadata": {},
   "source": [
    "**Datos atìpicos \"total_call_duration\"**"
   ]
  },
  {
   "cell_type": "code",
   "execution_count": 387,
   "id": "6735330e",
   "metadata": {},
   "outputs": [],
   "source": [
    "Q1total_duration=telecom[\"total_call_duration\"].quantile(0.25)\n",
    "Q3total_duration=telecom[\"total_call_duration\"].quantile(0.75)\n",
    "IQRtotal_duration=Q3total_duration-Q1total_duration\n",
    "limtotal_duration1=Q1total_duration-1.5*IQRtotal_duration\n",
    "limtotal_duration2=Q3total_duration+1.5*IQRtotal_duration"
   ]
  },
  {
   "cell_type": "code",
   "execution_count": 388,
   "id": "fa5b8ab2",
   "metadata": {},
   "outputs": [
    {
     "data": {
      "text/plain": [
       "-24.80833333333333"
      ]
     },
     "execution_count": 388,
     "metadata": {},
     "output_type": "execute_result"
    }
   ],
   "source": [
    "limtotal_duration1 #Lìmite inferior columna total_call_duration"
   ]
  },
  {
   "cell_type": "code",
   "execution_count": 389,
   "id": "5a18d854",
   "metadata": {},
   "outputs": [
    {
     "data": {
      "text/plain": [
       "44.324999999999996"
      ]
     },
     "execution_count": 389,
     "metadata": {},
     "output_type": "execute_result"
    }
   ],
   "source": [
    "limtotal_duration2 #Lìmite superior columna total_call_duration"
   ]
  },
  {
   "cell_type": "markdown",
   "id": "36888275",
   "metadata": {},
   "source": [
    "Se filtran los lìmites inferiores y superiores para la columna \"total_call_duration\""
   ]
  },
  {
   "cell_type": "code",
   "execution_count": 390,
   "id": "7a489a98",
   "metadata": {
    "scrolled": true
   },
   "outputs": [
    {
     "data": {
      "text/html": [
       "<div>\n",
       "<style scoped>\n",
       "    .dataframe tbody tr th:only-of-type {\n",
       "        vertical-align: middle;\n",
       "    }\n",
       "\n",
       "    .dataframe tbody tr th {\n",
       "        vertical-align: top;\n",
       "    }\n",
       "\n",
       "    .dataframe thead th {\n",
       "        text-align: right;\n",
       "    }\n",
       "</style>\n",
       "<table border=\"1\" class=\"dataframe\">\n",
       "  <thead>\n",
       "    <tr style=\"text-align: right;\">\n",
       "      <th></th>\n",
       "      <th>user_id</th>\n",
       "      <th>date</th>\n",
       "      <th>internal</th>\n",
       "      <th>operator_id</th>\n",
       "      <th>is_missed_call</th>\n",
       "      <th>calls_count</th>\n",
       "      <th>call_duration</th>\n",
       "      <th>total_call_duration</th>\n",
       "      <th>date_call</th>\n",
       "      <th>out_call</th>\n",
       "    </tr>\n",
       "  </thead>\n",
       "  <tbody>\n",
       "    <tr>\n",
       "      <th>1</th>\n",
       "      <td>166377</td>\n",
       "      <td>2019-08-05 00:00:00+03:00</td>\n",
       "      <td>True</td>\n",
       "      <td>880022.0</td>\n",
       "      <td>True</td>\n",
       "      <td>3</td>\n",
       "      <td>0.000000</td>\n",
       "      <td>0.083333</td>\n",
       "      <td>2019-08-05</td>\n",
       "      <td>True</td>\n",
       "    </tr>\n",
       "    <tr>\n",
       "      <th>2</th>\n",
       "      <td>166377</td>\n",
       "      <td>2019-08-05 00:00:00+03:00</td>\n",
       "      <td>True</td>\n",
       "      <td>880020.0</td>\n",
       "      <td>True</td>\n",
       "      <td>1</td>\n",
       "      <td>0.000000</td>\n",
       "      <td>0.016667</td>\n",
       "      <td>2019-08-05</td>\n",
       "      <td>True</td>\n",
       "    </tr>\n",
       "    <tr>\n",
       "      <th>3</th>\n",
       "      <td>166377</td>\n",
       "      <td>2019-08-05 00:00:00+03:00</td>\n",
       "      <td>True</td>\n",
       "      <td>880020.0</td>\n",
       "      <td>False</td>\n",
       "      <td>1</td>\n",
       "      <td>0.166667</td>\n",
       "      <td>0.300000</td>\n",
       "      <td>2019-08-05</td>\n",
       "      <td>True</td>\n",
       "    </tr>\n",
       "    <tr>\n",
       "      <th>4</th>\n",
       "      <td>166377</td>\n",
       "      <td>2019-08-05 00:00:00+03:00</td>\n",
       "      <td>False</td>\n",
       "      <td>880022.0</td>\n",
       "      <td>True</td>\n",
       "      <td>3</td>\n",
       "      <td>0.000000</td>\n",
       "      <td>0.416667</td>\n",
       "      <td>2019-08-05</td>\n",
       "      <td>True</td>\n",
       "    </tr>\n",
       "    <tr>\n",
       "      <th>5</th>\n",
       "      <td>166377</td>\n",
       "      <td>2019-08-05 00:00:00+03:00</td>\n",
       "      <td>False</td>\n",
       "      <td>880020.0</td>\n",
       "      <td>False</td>\n",
       "      <td>2</td>\n",
       "      <td>0.050000</td>\n",
       "      <td>0.483333</td>\n",
       "      <td>2019-08-05</td>\n",
       "      <td>True</td>\n",
       "    </tr>\n",
       "    <tr>\n",
       "      <th>...</th>\n",
       "      <td>...</td>\n",
       "      <td>...</td>\n",
       "      <td>...</td>\n",
       "      <td>...</td>\n",
       "      <td>...</td>\n",
       "      <td>...</td>\n",
       "      <td>...</td>\n",
       "      <td>...</td>\n",
       "      <td>...</td>\n",
       "      <td>...</td>\n",
       "    </tr>\n",
       "    <tr>\n",
       "      <th>48995</th>\n",
       "      <td>168606</td>\n",
       "      <td>2019-11-08 00:00:00+03:00</td>\n",
       "      <td>False</td>\n",
       "      <td>957922.0</td>\n",
       "      <td>False</td>\n",
       "      <td>2</td>\n",
       "      <td>11.433333</td>\n",
       "      <td>11.750000</td>\n",
       "      <td>2019-11-08</td>\n",
       "      <td>False</td>\n",
       "    </tr>\n",
       "    <tr>\n",
       "      <th>48996</th>\n",
       "      <td>168606</td>\n",
       "      <td>2019-11-09 00:00:00+03:00</td>\n",
       "      <td>False</td>\n",
       "      <td>957922.0</td>\n",
       "      <td>False</td>\n",
       "      <td>4</td>\n",
       "      <td>9.183333</td>\n",
       "      <td>9.883333</td>\n",
       "      <td>2019-11-09</td>\n",
       "      <td>True</td>\n",
       "    </tr>\n",
       "    <tr>\n",
       "      <th>48997</th>\n",
       "      <td>168606</td>\n",
       "      <td>2019-11-10 00:00:00+03:00</td>\n",
       "      <td>True</td>\n",
       "      <td>957922.0</td>\n",
       "      <td>False</td>\n",
       "      <td>1</td>\n",
       "      <td>0.000000</td>\n",
       "      <td>0.416667</td>\n",
       "      <td>2019-11-10</td>\n",
       "      <td>True</td>\n",
       "    </tr>\n",
       "    <tr>\n",
       "      <th>48998</th>\n",
       "      <td>168606</td>\n",
       "      <td>2019-11-10 00:00:00+03:00</td>\n",
       "      <td>True</td>\n",
       "      <td>957922.0</td>\n",
       "      <td>True</td>\n",
       "      <td>1</td>\n",
       "      <td>0.000000</td>\n",
       "      <td>0.633333</td>\n",
       "      <td>2019-11-10</td>\n",
       "      <td>True</td>\n",
       "    </tr>\n",
       "    <tr>\n",
       "      <th>48999</th>\n",
       "      <td>168606</td>\n",
       "      <td>2019-11-11 00:00:00+03:00</td>\n",
       "      <td>True</td>\n",
       "      <td>957922.0</td>\n",
       "      <td>False</td>\n",
       "      <td>2</td>\n",
       "      <td>7.983333</td>\n",
       "      <td>8.350000</td>\n",
       "      <td>2019-11-11</td>\n",
       "      <td>True</td>\n",
       "    </tr>\n",
       "  </tbody>\n",
       "</table>\n",
       "<p>36839 rows × 10 columns</p>\n",
       "</div>"
      ],
      "text/plain": [
       "      user_id                      date  internal operator_id  is_missed_call  \\\n",
       "1      166377 2019-08-05 00:00:00+03:00      True    880022.0            True   \n",
       "2      166377 2019-08-05 00:00:00+03:00      True    880020.0            True   \n",
       "3      166377 2019-08-05 00:00:00+03:00      True    880020.0           False   \n",
       "4      166377 2019-08-05 00:00:00+03:00     False    880022.0            True   \n",
       "5      166377 2019-08-05 00:00:00+03:00     False    880020.0           False   \n",
       "...       ...                       ...       ...         ...             ...   \n",
       "48995  168606 2019-11-08 00:00:00+03:00     False    957922.0           False   \n",
       "48996  168606 2019-11-09 00:00:00+03:00     False    957922.0           False   \n",
       "48997  168606 2019-11-10 00:00:00+03:00      True    957922.0           False   \n",
       "48998  168606 2019-11-10 00:00:00+03:00      True    957922.0            True   \n",
       "48999  168606 2019-11-11 00:00:00+03:00      True    957922.0           False   \n",
       "\n",
       "       calls_count  call_duration  total_call_duration  date_call  out_call  \n",
       "1                3       0.000000             0.083333 2019-08-05      True  \n",
       "2                1       0.000000             0.016667 2019-08-05      True  \n",
       "3                1       0.166667             0.300000 2019-08-05      True  \n",
       "4                3       0.000000             0.416667 2019-08-05      True  \n",
       "5                2       0.050000             0.483333 2019-08-05      True  \n",
       "...            ...            ...                  ...        ...       ...  \n",
       "48995            2      11.433333            11.750000 2019-11-08     False  \n",
       "48996            4       9.183333             9.883333 2019-11-09      True  \n",
       "48997            1       0.000000             0.416667 2019-11-10      True  \n",
       "48998            1       0.000000             0.633333 2019-11-10      True  \n",
       "48999            2       7.983333             8.350000 2019-11-11      True  \n",
       "\n",
       "[36839 rows x 10 columns]"
      ]
     },
     "execution_count": 390,
     "metadata": {},
     "output_type": "execute_result"
    }
   ],
   "source": [
    "telecom.query(\"total_call_duration >= -24.8 and total_call_duration <= 44.3\")"
   ]
  },
  {
   "cell_type": "code",
   "execution_count": 391,
   "id": "3049d3aa",
   "metadata": {},
   "outputs": [
    {
     "data": {
      "text/plain": [
       "count    36839.000000\n",
       "mean         8.125423\n",
       "std         10.237144\n",
       "min          0.000000\n",
       "25%          0.933333\n",
       "50%          3.533333\n",
       "75%         11.416667\n",
       "max         44.300000\n",
       "Name: total_call_duration, dtype: float64"
      ]
     },
     "execution_count": 391,
     "metadata": {},
     "output_type": "execute_result"
    }
   ],
   "source": [
    "telecom.query(\"total_call_duration >= -24.8 and total_call_duration <= 44.3\")['total_call_duration'].describe()"
   ]
  },
  {
   "cell_type": "markdown",
   "id": "e02cc8d7",
   "metadata": {},
   "source": [
    "Al atender los datos atìpicos de la columna 'total_call_duration', se encuentra una desviaciòn estàndar de 10.2"
   ]
  },
  {
   "cell_type": "markdown",
   "id": "010f762b",
   "metadata": {},
   "source": [
    "**Datos atìpicos \"call_duration**"
   ]
  },
  {
   "cell_type": "code",
   "execution_count": 392,
   "id": "fbd4c50a",
   "metadata": {},
   "outputs": [],
   "source": [
    "Q1call_duration=telecom[\"call_duration\"].quantile(0.25)\n",
    "Q3call_duration=telecom[\"call_duration\"].quantile(0.75)\n",
    "IQRcall_duration=Q3call_duration-Q1call_duration\n",
    "limcall_duration1=Q1call_duration-1.5*IQRcall_duration\n",
    "limcall_duration2=Q3call_duration+1.5*IQRcall_duration"
   ]
  },
  {
   "cell_type": "code",
   "execution_count": 393,
   "id": "2cc72c7e",
   "metadata": {},
   "outputs": [
    {
     "data": {
      "text/plain": [
       "-19.25"
      ]
     },
     "execution_count": 393,
     "metadata": {},
     "output_type": "execute_result"
    }
   ],
   "source": [
    "limcall_duration1 #Lìmite inferior columna call_duration"
   ]
  },
  {
   "cell_type": "code",
   "execution_count": 394,
   "id": "7c0ddd0c",
   "metadata": {},
   "outputs": [
    {
     "data": {
      "text/plain": [
       "32.083333333333336"
      ]
     },
     "execution_count": 394,
     "metadata": {},
     "output_type": "execute_result"
    }
   ],
   "source": [
    "limcall_duration2 #Lìmite superior columna call_duration"
   ]
  },
  {
   "cell_type": "markdown",
   "id": "85ab2ba6",
   "metadata": {},
   "source": [
    "Se filtran los lìmites inferiores y superiores de la columna \"call_duration\"."
   ]
  },
  {
   "cell_type": "code",
   "execution_count": 395,
   "id": "7ba18bda",
   "metadata": {},
   "outputs": [
    {
     "data": {
      "text/html": [
       "<div>\n",
       "<style scoped>\n",
       "    .dataframe tbody tr th:only-of-type {\n",
       "        vertical-align: middle;\n",
       "    }\n",
       "\n",
       "    .dataframe tbody tr th {\n",
       "        vertical-align: top;\n",
       "    }\n",
       "\n",
       "    .dataframe thead th {\n",
       "        text-align: right;\n",
       "    }\n",
       "</style>\n",
       "<table border=\"1\" class=\"dataframe\">\n",
       "  <thead>\n",
       "    <tr style=\"text-align: right;\">\n",
       "      <th></th>\n",
       "      <th>user_id</th>\n",
       "      <th>date</th>\n",
       "      <th>internal</th>\n",
       "      <th>operator_id</th>\n",
       "      <th>is_missed_call</th>\n",
       "      <th>calls_count</th>\n",
       "      <th>call_duration</th>\n",
       "      <th>total_call_duration</th>\n",
       "      <th>date_call</th>\n",
       "      <th>out_call</th>\n",
       "    </tr>\n",
       "  </thead>\n",
       "  <tbody>\n",
       "    <tr>\n",
       "      <th>1</th>\n",
       "      <td>166377</td>\n",
       "      <td>2019-08-05 00:00:00+03:00</td>\n",
       "      <td>True</td>\n",
       "      <td>880022.0</td>\n",
       "      <td>True</td>\n",
       "      <td>3</td>\n",
       "      <td>0.000000</td>\n",
       "      <td>0.083333</td>\n",
       "      <td>2019-08-05</td>\n",
       "      <td>True</td>\n",
       "    </tr>\n",
       "    <tr>\n",
       "      <th>2</th>\n",
       "      <td>166377</td>\n",
       "      <td>2019-08-05 00:00:00+03:00</td>\n",
       "      <td>True</td>\n",
       "      <td>880020.0</td>\n",
       "      <td>True</td>\n",
       "      <td>1</td>\n",
       "      <td>0.000000</td>\n",
       "      <td>0.016667</td>\n",
       "      <td>2019-08-05</td>\n",
       "      <td>True</td>\n",
       "    </tr>\n",
       "    <tr>\n",
       "      <th>3</th>\n",
       "      <td>166377</td>\n",
       "      <td>2019-08-05 00:00:00+03:00</td>\n",
       "      <td>True</td>\n",
       "      <td>880020.0</td>\n",
       "      <td>False</td>\n",
       "      <td>1</td>\n",
       "      <td>0.166667</td>\n",
       "      <td>0.300000</td>\n",
       "      <td>2019-08-05</td>\n",
       "      <td>True</td>\n",
       "    </tr>\n",
       "    <tr>\n",
       "      <th>4</th>\n",
       "      <td>166377</td>\n",
       "      <td>2019-08-05 00:00:00+03:00</td>\n",
       "      <td>False</td>\n",
       "      <td>880022.0</td>\n",
       "      <td>True</td>\n",
       "      <td>3</td>\n",
       "      <td>0.000000</td>\n",
       "      <td>0.416667</td>\n",
       "      <td>2019-08-05</td>\n",
       "      <td>True</td>\n",
       "    </tr>\n",
       "    <tr>\n",
       "      <th>5</th>\n",
       "      <td>166377</td>\n",
       "      <td>2019-08-05 00:00:00+03:00</td>\n",
       "      <td>False</td>\n",
       "      <td>880020.0</td>\n",
       "      <td>False</td>\n",
       "      <td>2</td>\n",
       "      <td>0.050000</td>\n",
       "      <td>0.483333</td>\n",
       "      <td>2019-08-05</td>\n",
       "      <td>True</td>\n",
       "    </tr>\n",
       "    <tr>\n",
       "      <th>...</th>\n",
       "      <td>...</td>\n",
       "      <td>...</td>\n",
       "      <td>...</td>\n",
       "      <td>...</td>\n",
       "      <td>...</td>\n",
       "      <td>...</td>\n",
       "      <td>...</td>\n",
       "      <td>...</td>\n",
       "      <td>...</td>\n",
       "      <td>...</td>\n",
       "    </tr>\n",
       "    <tr>\n",
       "      <th>48995</th>\n",
       "      <td>168606</td>\n",
       "      <td>2019-11-08 00:00:00+03:00</td>\n",
       "      <td>False</td>\n",
       "      <td>957922.0</td>\n",
       "      <td>False</td>\n",
       "      <td>2</td>\n",
       "      <td>11.433333</td>\n",
       "      <td>11.750000</td>\n",
       "      <td>2019-11-08</td>\n",
       "      <td>False</td>\n",
       "    </tr>\n",
       "    <tr>\n",
       "      <th>48996</th>\n",
       "      <td>168606</td>\n",
       "      <td>2019-11-09 00:00:00+03:00</td>\n",
       "      <td>False</td>\n",
       "      <td>957922.0</td>\n",
       "      <td>False</td>\n",
       "      <td>4</td>\n",
       "      <td>9.183333</td>\n",
       "      <td>9.883333</td>\n",
       "      <td>2019-11-09</td>\n",
       "      <td>True</td>\n",
       "    </tr>\n",
       "    <tr>\n",
       "      <th>48997</th>\n",
       "      <td>168606</td>\n",
       "      <td>2019-11-10 00:00:00+03:00</td>\n",
       "      <td>True</td>\n",
       "      <td>957922.0</td>\n",
       "      <td>False</td>\n",
       "      <td>1</td>\n",
       "      <td>0.000000</td>\n",
       "      <td>0.416667</td>\n",
       "      <td>2019-11-10</td>\n",
       "      <td>True</td>\n",
       "    </tr>\n",
       "    <tr>\n",
       "      <th>48998</th>\n",
       "      <td>168606</td>\n",
       "      <td>2019-11-10 00:00:00+03:00</td>\n",
       "      <td>True</td>\n",
       "      <td>957922.0</td>\n",
       "      <td>True</td>\n",
       "      <td>1</td>\n",
       "      <td>0.000000</td>\n",
       "      <td>0.633333</td>\n",
       "      <td>2019-11-10</td>\n",
       "      <td>True</td>\n",
       "    </tr>\n",
       "    <tr>\n",
       "      <th>48999</th>\n",
       "      <td>168606</td>\n",
       "      <td>2019-11-11 00:00:00+03:00</td>\n",
       "      <td>True</td>\n",
       "      <td>957922.0</td>\n",
       "      <td>False</td>\n",
       "      <td>2</td>\n",
       "      <td>7.983333</td>\n",
       "      <td>8.350000</td>\n",
       "      <td>2019-11-11</td>\n",
       "      <td>True</td>\n",
       "    </tr>\n",
       "  </tbody>\n",
       "</table>\n",
       "<p>36271 rows × 10 columns</p>\n",
       "</div>"
      ],
      "text/plain": [
       "      user_id                      date  internal operator_id  is_missed_call  \\\n",
       "1      166377 2019-08-05 00:00:00+03:00      True    880022.0            True   \n",
       "2      166377 2019-08-05 00:00:00+03:00      True    880020.0            True   \n",
       "3      166377 2019-08-05 00:00:00+03:00      True    880020.0           False   \n",
       "4      166377 2019-08-05 00:00:00+03:00     False    880022.0            True   \n",
       "5      166377 2019-08-05 00:00:00+03:00     False    880020.0           False   \n",
       "...       ...                       ...       ...         ...             ...   \n",
       "48995  168606 2019-11-08 00:00:00+03:00     False    957922.0           False   \n",
       "48996  168606 2019-11-09 00:00:00+03:00     False    957922.0           False   \n",
       "48997  168606 2019-11-10 00:00:00+03:00      True    957922.0           False   \n",
       "48998  168606 2019-11-10 00:00:00+03:00      True    957922.0            True   \n",
       "48999  168606 2019-11-11 00:00:00+03:00      True    957922.0           False   \n",
       "\n",
       "       calls_count  call_duration  total_call_duration  date_call  out_call  \n",
       "1                3       0.000000             0.083333 2019-08-05      True  \n",
       "2                1       0.000000             0.016667 2019-08-05      True  \n",
       "3                1       0.166667             0.300000 2019-08-05      True  \n",
       "4                3       0.000000             0.416667 2019-08-05      True  \n",
       "5                2       0.050000             0.483333 2019-08-05      True  \n",
       "...            ...            ...                  ...        ...       ...  \n",
       "48995            2      11.433333            11.750000 2019-11-08     False  \n",
       "48996            4       9.183333             9.883333 2019-11-09      True  \n",
       "48997            1       0.000000             0.416667 2019-11-10      True  \n",
       "48998            1       0.000000             0.633333 2019-11-10      True  \n",
       "48999            2       7.983333             8.350000 2019-11-11      True  \n",
       "\n",
       "[36271 rows x 10 columns]"
      ]
     },
     "execution_count": 395,
     "metadata": {},
     "output_type": "execute_result"
    }
   ],
   "source": [
    "telecom.query(\"call_duration >= -19.25 and call_duration <= 32.08 \")"
   ]
  },
  {
   "cell_type": "markdown",
   "id": "a3aa4167",
   "metadata": {},
   "source": [
    "**Datos atìpicos columna \"calls_count\"**"
   ]
  },
  {
   "cell_type": "code",
   "execution_count": 396,
   "id": "5f2c8b18",
   "metadata": {},
   "outputs": [],
   "source": [
    "Q1calls_count=telecom[\"calls_count\"].quantile(0.25)\n",
    "Q3calls_count=telecom[\"calls_count\"].quantile(0.75)\n",
    "IQRcalls_count=Q3calls_count-Q1calls_count\n",
    "limcalls_count1=Q1calls_count-1.5*IQRcalls_count\n",
    "limcalls_count2=Q3calls_count+1.5*IQRcalls_count"
   ]
  },
  {
   "cell_type": "code",
   "execution_count": 397,
   "id": "85234153",
   "metadata": {},
   "outputs": [
    {
     "data": {
      "text/plain": [
       "-17.0"
      ]
     },
     "execution_count": 397,
     "metadata": {},
     "output_type": "execute_result"
    }
   ],
   "source": [
    "limcalls_count1 #Lìmite inferior columna calls_count"
   ]
  },
  {
   "cell_type": "code",
   "execution_count": 398,
   "id": "51b71e60",
   "metadata": {},
   "outputs": [
    {
     "data": {
      "text/plain": [
       "31.0"
      ]
     },
     "execution_count": 398,
     "metadata": {},
     "output_type": "execute_result"
    }
   ],
   "source": [
    "limcalls_count2 #Lìmite superior columna calls_coount."
   ]
  },
  {
   "cell_type": "markdown",
   "id": "a7d0fb01",
   "metadata": {},
   "source": [
    "Se filtran los lìmites inferiores y superiores de la columna \"calls_count\"."
   ]
  },
  {
   "cell_type": "code",
   "execution_count": 399,
   "id": "8e09e3bd",
   "metadata": {
    "scrolled": false
   },
   "outputs": [
    {
     "data": {
      "text/html": [
       "<div>\n",
       "<style scoped>\n",
       "    .dataframe tbody tr th:only-of-type {\n",
       "        vertical-align: middle;\n",
       "    }\n",
       "\n",
       "    .dataframe tbody tr th {\n",
       "        vertical-align: top;\n",
       "    }\n",
       "\n",
       "    .dataframe thead th {\n",
       "        text-align: right;\n",
       "    }\n",
       "</style>\n",
       "<table border=\"1\" class=\"dataframe\">\n",
       "  <thead>\n",
       "    <tr style=\"text-align: right;\">\n",
       "      <th></th>\n",
       "      <th>user_id</th>\n",
       "      <th>date</th>\n",
       "      <th>internal</th>\n",
       "      <th>operator_id</th>\n",
       "      <th>is_missed_call</th>\n",
       "      <th>calls_count</th>\n",
       "      <th>call_duration</th>\n",
       "      <th>total_call_duration</th>\n",
       "      <th>date_call</th>\n",
       "      <th>out_call</th>\n",
       "    </tr>\n",
       "  </thead>\n",
       "  <tbody>\n",
       "    <tr>\n",
       "      <th>1</th>\n",
       "      <td>166377</td>\n",
       "      <td>2019-08-05 00:00:00+03:00</td>\n",
       "      <td>True</td>\n",
       "      <td>880022.0</td>\n",
       "      <td>True</td>\n",
       "      <td>3</td>\n",
       "      <td>0.000000</td>\n",
       "      <td>0.083333</td>\n",
       "      <td>2019-08-05</td>\n",
       "      <td>True</td>\n",
       "    </tr>\n",
       "    <tr>\n",
       "      <th>2</th>\n",
       "      <td>166377</td>\n",
       "      <td>2019-08-05 00:00:00+03:00</td>\n",
       "      <td>True</td>\n",
       "      <td>880020.0</td>\n",
       "      <td>True</td>\n",
       "      <td>1</td>\n",
       "      <td>0.000000</td>\n",
       "      <td>0.016667</td>\n",
       "      <td>2019-08-05</td>\n",
       "      <td>True</td>\n",
       "    </tr>\n",
       "    <tr>\n",
       "      <th>3</th>\n",
       "      <td>166377</td>\n",
       "      <td>2019-08-05 00:00:00+03:00</td>\n",
       "      <td>True</td>\n",
       "      <td>880020.0</td>\n",
       "      <td>False</td>\n",
       "      <td>1</td>\n",
       "      <td>0.166667</td>\n",
       "      <td>0.300000</td>\n",
       "      <td>2019-08-05</td>\n",
       "      <td>True</td>\n",
       "    </tr>\n",
       "    <tr>\n",
       "      <th>4</th>\n",
       "      <td>166377</td>\n",
       "      <td>2019-08-05 00:00:00+03:00</td>\n",
       "      <td>False</td>\n",
       "      <td>880022.0</td>\n",
       "      <td>True</td>\n",
       "      <td>3</td>\n",
       "      <td>0.000000</td>\n",
       "      <td>0.416667</td>\n",
       "      <td>2019-08-05</td>\n",
       "      <td>True</td>\n",
       "    </tr>\n",
       "    <tr>\n",
       "      <th>5</th>\n",
       "      <td>166377</td>\n",
       "      <td>2019-08-05 00:00:00+03:00</td>\n",
       "      <td>False</td>\n",
       "      <td>880020.0</td>\n",
       "      <td>False</td>\n",
       "      <td>2</td>\n",
       "      <td>0.050000</td>\n",
       "      <td>0.483333</td>\n",
       "      <td>2019-08-05</td>\n",
       "      <td>True</td>\n",
       "    </tr>\n",
       "    <tr>\n",
       "      <th>...</th>\n",
       "      <td>...</td>\n",
       "      <td>...</td>\n",
       "      <td>...</td>\n",
       "      <td>...</td>\n",
       "      <td>...</td>\n",
       "      <td>...</td>\n",
       "      <td>...</td>\n",
       "      <td>...</td>\n",
       "      <td>...</td>\n",
       "      <td>...</td>\n",
       "    </tr>\n",
       "    <tr>\n",
       "      <th>48996</th>\n",
       "      <td>168606</td>\n",
       "      <td>2019-11-09 00:00:00+03:00</td>\n",
       "      <td>False</td>\n",
       "      <td>957922.0</td>\n",
       "      <td>False</td>\n",
       "      <td>4</td>\n",
       "      <td>9.183333</td>\n",
       "      <td>9.883333</td>\n",
       "      <td>2019-11-09</td>\n",
       "      <td>True</td>\n",
       "    </tr>\n",
       "    <tr>\n",
       "      <th>48997</th>\n",
       "      <td>168606</td>\n",
       "      <td>2019-11-10 00:00:00+03:00</td>\n",
       "      <td>True</td>\n",
       "      <td>957922.0</td>\n",
       "      <td>False</td>\n",
       "      <td>1</td>\n",
       "      <td>0.000000</td>\n",
       "      <td>0.416667</td>\n",
       "      <td>2019-11-10</td>\n",
       "      <td>True</td>\n",
       "    </tr>\n",
       "    <tr>\n",
       "      <th>48998</th>\n",
       "      <td>168606</td>\n",
       "      <td>2019-11-10 00:00:00+03:00</td>\n",
       "      <td>True</td>\n",
       "      <td>957922.0</td>\n",
       "      <td>True</td>\n",
       "      <td>1</td>\n",
       "      <td>0.000000</td>\n",
       "      <td>0.633333</td>\n",
       "      <td>2019-11-10</td>\n",
       "      <td>True</td>\n",
       "    </tr>\n",
       "    <tr>\n",
       "      <th>48999</th>\n",
       "      <td>168606</td>\n",
       "      <td>2019-11-11 00:00:00+03:00</td>\n",
       "      <td>True</td>\n",
       "      <td>957922.0</td>\n",
       "      <td>False</td>\n",
       "      <td>2</td>\n",
       "      <td>7.983333</td>\n",
       "      <td>8.350000</td>\n",
       "      <td>2019-11-11</td>\n",
       "      <td>True</td>\n",
       "    </tr>\n",
       "    <tr>\n",
       "      <th>49000</th>\n",
       "      <td>168606</td>\n",
       "      <td>2019-11-15 00:00:00+03:00</td>\n",
       "      <td>True</td>\n",
       "      <td>957922.0</td>\n",
       "      <td>False</td>\n",
       "      <td>4</td>\n",
       "      <td>52.166667</td>\n",
       "      <td>53.166667</td>\n",
       "      <td>2019-11-15</td>\n",
       "      <td>True</td>\n",
       "    </tr>\n",
       "  </tbody>\n",
       "</table>\n",
       "<p>36587 rows × 10 columns</p>\n",
       "</div>"
      ],
      "text/plain": [
       "      user_id                      date  internal operator_id  is_missed_call  \\\n",
       "1      166377 2019-08-05 00:00:00+03:00      True    880022.0            True   \n",
       "2      166377 2019-08-05 00:00:00+03:00      True    880020.0            True   \n",
       "3      166377 2019-08-05 00:00:00+03:00      True    880020.0           False   \n",
       "4      166377 2019-08-05 00:00:00+03:00     False    880022.0            True   \n",
       "5      166377 2019-08-05 00:00:00+03:00     False    880020.0           False   \n",
       "...       ...                       ...       ...         ...             ...   \n",
       "48996  168606 2019-11-09 00:00:00+03:00     False    957922.0           False   \n",
       "48997  168606 2019-11-10 00:00:00+03:00      True    957922.0           False   \n",
       "48998  168606 2019-11-10 00:00:00+03:00      True    957922.0            True   \n",
       "48999  168606 2019-11-11 00:00:00+03:00      True    957922.0           False   \n",
       "49000  168606 2019-11-15 00:00:00+03:00      True    957922.0           False   \n",
       "\n",
       "       calls_count  call_duration  total_call_duration  date_call  out_call  \n",
       "1                3       0.000000             0.083333 2019-08-05      True  \n",
       "2                1       0.000000             0.016667 2019-08-05      True  \n",
       "3                1       0.166667             0.300000 2019-08-05      True  \n",
       "4                3       0.000000             0.416667 2019-08-05      True  \n",
       "5                2       0.050000             0.483333 2019-08-05      True  \n",
       "...            ...            ...                  ...        ...       ...  \n",
       "48996            4       9.183333             9.883333 2019-11-09      True  \n",
       "48997            1       0.000000             0.416667 2019-11-10      True  \n",
       "48998            1       0.000000             0.633333 2019-11-10      True  \n",
       "48999            2       7.983333             8.350000 2019-11-11      True  \n",
       "49000            4      52.166667            53.166667 2019-11-15      True  \n",
       "\n",
       "[36587 rows x 10 columns]"
      ]
     },
     "execution_count": 399,
     "metadata": {},
     "output_type": "execute_result"
    }
   ],
   "source": [
    "telecom.query(\"calls_count >= -17 and calls_count <= 31.0 \")"
   ]
  },
  {
   "cell_type": "markdown",
   "id": "9f6f2555",
   "metadata": {},
   "source": [
    "**Se eliminan los datos atìpicos.**"
   ]
  },
  {
   "cell_type": "code",
   "execution_count": 400,
   "id": "4021da70",
   "metadata": {},
   "outputs": [],
   "source": [
    "telecom_clean1=telecom.query(\"total_call_duration >= -24.8 and total_call_duration <= 44.3\")"
   ]
  },
  {
   "cell_type": "code",
   "execution_count": 401,
   "id": "3db4ff58",
   "metadata": {},
   "outputs": [],
   "source": [
    "telecom_clean2=telecom_clean1.query(\"call_duration >= -19.25 and call_duration <= 32.08 \")"
   ]
  },
  {
   "cell_type": "code",
   "execution_count": 402,
   "id": "673808f9",
   "metadata": {
    "scrolled": false
   },
   "outputs": [],
   "source": [
    "telecom_sin_outliers=telecom_clean2.query(\"calls_count >= -17 and calls_count <= 31.0 \")"
   ]
  },
  {
   "cell_type": "code",
   "execution_count": 403,
   "id": "43fc5390",
   "metadata": {},
   "outputs": [
    {
     "data": {
      "text/html": [
       "<div>\n",
       "<style scoped>\n",
       "    .dataframe tbody tr th:only-of-type {\n",
       "        vertical-align: middle;\n",
       "    }\n",
       "\n",
       "    .dataframe tbody tr th {\n",
       "        vertical-align: top;\n",
       "    }\n",
       "\n",
       "    .dataframe thead th {\n",
       "        text-align: right;\n",
       "    }\n",
       "</style>\n",
       "<table border=\"1\" class=\"dataframe\">\n",
       "  <thead>\n",
       "    <tr style=\"text-align: right;\">\n",
       "      <th></th>\n",
       "      <th>user_id</th>\n",
       "      <th>date</th>\n",
       "      <th>internal</th>\n",
       "      <th>operator_id</th>\n",
       "      <th>is_missed_call</th>\n",
       "      <th>calls_count</th>\n",
       "      <th>call_duration</th>\n",
       "      <th>total_call_duration</th>\n",
       "      <th>date_call</th>\n",
       "      <th>out_call</th>\n",
       "    </tr>\n",
       "  </thead>\n",
       "  <tbody>\n",
       "    <tr>\n",
       "      <th>1</th>\n",
       "      <td>166377</td>\n",
       "      <td>2019-08-05 00:00:00+03:00</td>\n",
       "      <td>True</td>\n",
       "      <td>880022.0</td>\n",
       "      <td>True</td>\n",
       "      <td>3</td>\n",
       "      <td>0.000000</td>\n",
       "      <td>0.083333</td>\n",
       "      <td>2019-08-05</td>\n",
       "      <td>True</td>\n",
       "    </tr>\n",
       "    <tr>\n",
       "      <th>2</th>\n",
       "      <td>166377</td>\n",
       "      <td>2019-08-05 00:00:00+03:00</td>\n",
       "      <td>True</td>\n",
       "      <td>880020.0</td>\n",
       "      <td>True</td>\n",
       "      <td>1</td>\n",
       "      <td>0.000000</td>\n",
       "      <td>0.016667</td>\n",
       "      <td>2019-08-05</td>\n",
       "      <td>True</td>\n",
       "    </tr>\n",
       "    <tr>\n",
       "      <th>3</th>\n",
       "      <td>166377</td>\n",
       "      <td>2019-08-05 00:00:00+03:00</td>\n",
       "      <td>True</td>\n",
       "      <td>880020.0</td>\n",
       "      <td>False</td>\n",
       "      <td>1</td>\n",
       "      <td>0.166667</td>\n",
       "      <td>0.300000</td>\n",
       "      <td>2019-08-05</td>\n",
       "      <td>True</td>\n",
       "    </tr>\n",
       "    <tr>\n",
       "      <th>4</th>\n",
       "      <td>166377</td>\n",
       "      <td>2019-08-05 00:00:00+03:00</td>\n",
       "      <td>False</td>\n",
       "      <td>880022.0</td>\n",
       "      <td>True</td>\n",
       "      <td>3</td>\n",
       "      <td>0.000000</td>\n",
       "      <td>0.416667</td>\n",
       "      <td>2019-08-05</td>\n",
       "      <td>True</td>\n",
       "    </tr>\n",
       "    <tr>\n",
       "      <th>5</th>\n",
       "      <td>166377</td>\n",
       "      <td>2019-08-05 00:00:00+03:00</td>\n",
       "      <td>False</td>\n",
       "      <td>880020.0</td>\n",
       "      <td>False</td>\n",
       "      <td>2</td>\n",
       "      <td>0.050000</td>\n",
       "      <td>0.483333</td>\n",
       "      <td>2019-08-05</td>\n",
       "      <td>True</td>\n",
       "    </tr>\n",
       "    <tr>\n",
       "      <th>...</th>\n",
       "      <td>...</td>\n",
       "      <td>...</td>\n",
       "      <td>...</td>\n",
       "      <td>...</td>\n",
       "      <td>...</td>\n",
       "      <td>...</td>\n",
       "      <td>...</td>\n",
       "      <td>...</td>\n",
       "      <td>...</td>\n",
       "      <td>...</td>\n",
       "    </tr>\n",
       "    <tr>\n",
       "      <th>48995</th>\n",
       "      <td>168606</td>\n",
       "      <td>2019-11-08 00:00:00+03:00</td>\n",
       "      <td>False</td>\n",
       "      <td>957922.0</td>\n",
       "      <td>False</td>\n",
       "      <td>2</td>\n",
       "      <td>11.433333</td>\n",
       "      <td>11.750000</td>\n",
       "      <td>2019-11-08</td>\n",
       "      <td>False</td>\n",
       "    </tr>\n",
       "    <tr>\n",
       "      <th>48996</th>\n",
       "      <td>168606</td>\n",
       "      <td>2019-11-09 00:00:00+03:00</td>\n",
       "      <td>False</td>\n",
       "      <td>957922.0</td>\n",
       "      <td>False</td>\n",
       "      <td>4</td>\n",
       "      <td>9.183333</td>\n",
       "      <td>9.883333</td>\n",
       "      <td>2019-11-09</td>\n",
       "      <td>True</td>\n",
       "    </tr>\n",
       "    <tr>\n",
       "      <th>48997</th>\n",
       "      <td>168606</td>\n",
       "      <td>2019-11-10 00:00:00+03:00</td>\n",
       "      <td>True</td>\n",
       "      <td>957922.0</td>\n",
       "      <td>False</td>\n",
       "      <td>1</td>\n",
       "      <td>0.000000</td>\n",
       "      <td>0.416667</td>\n",
       "      <td>2019-11-10</td>\n",
       "      <td>True</td>\n",
       "    </tr>\n",
       "    <tr>\n",
       "      <th>48998</th>\n",
       "      <td>168606</td>\n",
       "      <td>2019-11-10 00:00:00+03:00</td>\n",
       "      <td>True</td>\n",
       "      <td>957922.0</td>\n",
       "      <td>True</td>\n",
       "      <td>1</td>\n",
       "      <td>0.000000</td>\n",
       "      <td>0.633333</td>\n",
       "      <td>2019-11-10</td>\n",
       "      <td>True</td>\n",
       "    </tr>\n",
       "    <tr>\n",
       "      <th>48999</th>\n",
       "      <td>168606</td>\n",
       "      <td>2019-11-11 00:00:00+03:00</td>\n",
       "      <td>True</td>\n",
       "      <td>957922.0</td>\n",
       "      <td>False</td>\n",
       "      <td>2</td>\n",
       "      <td>7.983333</td>\n",
       "      <td>8.350000</td>\n",
       "      <td>2019-11-11</td>\n",
       "      <td>True</td>\n",
       "    </tr>\n",
       "  </tbody>\n",
       "</table>\n",
       "<p>34007 rows × 10 columns</p>\n",
       "</div>"
      ],
      "text/plain": [
       "      user_id                      date  internal operator_id  is_missed_call  \\\n",
       "1      166377 2019-08-05 00:00:00+03:00      True    880022.0            True   \n",
       "2      166377 2019-08-05 00:00:00+03:00      True    880020.0            True   \n",
       "3      166377 2019-08-05 00:00:00+03:00      True    880020.0           False   \n",
       "4      166377 2019-08-05 00:00:00+03:00     False    880022.0            True   \n",
       "5      166377 2019-08-05 00:00:00+03:00     False    880020.0           False   \n",
       "...       ...                       ...       ...         ...             ...   \n",
       "48995  168606 2019-11-08 00:00:00+03:00     False    957922.0           False   \n",
       "48996  168606 2019-11-09 00:00:00+03:00     False    957922.0           False   \n",
       "48997  168606 2019-11-10 00:00:00+03:00      True    957922.0           False   \n",
       "48998  168606 2019-11-10 00:00:00+03:00      True    957922.0            True   \n",
       "48999  168606 2019-11-11 00:00:00+03:00      True    957922.0           False   \n",
       "\n",
       "       calls_count  call_duration  total_call_duration  date_call  out_call  \n",
       "1                3       0.000000             0.083333 2019-08-05      True  \n",
       "2                1       0.000000             0.016667 2019-08-05      True  \n",
       "3                1       0.166667             0.300000 2019-08-05      True  \n",
       "4                3       0.000000             0.416667 2019-08-05      True  \n",
       "5                2       0.050000             0.483333 2019-08-05      True  \n",
       "...            ...            ...                  ...        ...       ...  \n",
       "48995            2      11.433333            11.750000 2019-11-08     False  \n",
       "48996            4       9.183333             9.883333 2019-11-09      True  \n",
       "48997            1       0.000000             0.416667 2019-11-10      True  \n",
       "48998            1       0.000000             0.633333 2019-11-10      True  \n",
       "48999            2       7.983333             8.350000 2019-11-11      True  \n",
       "\n",
       "[34007 rows x 10 columns]"
      ]
     },
     "execution_count": 403,
     "metadata": {},
     "output_type": "execute_result"
    }
   ],
   "source": [
    "telecom_sin_outliers"
   ]
  },
  {
   "cell_type": "markdown",
   "id": "fb7d3831",
   "metadata": {},
   "source": [
    "Se identifica el porcentaje de datos que se conservan al eliminar los datos atìpicos."
   ]
  },
  {
   "cell_type": "code",
   "execution_count": 404,
   "id": "24204b9b",
   "metadata": {},
   "outputs": [
    {
     "data": {
      "text/plain": [
       "81.85384874596832"
      ]
     },
     "execution_count": 404,
     "metadata": {},
     "output_type": "execute_result"
    }
   ],
   "source": [
    "len(telecom_sin_outliers)/len(telecom)*100"
   ]
  },
  {
   "cell_type": "markdown",
   "id": "bf058ffb",
   "metadata": {},
   "source": [
    "Se identifica que se conserva el 81% de los datos."
   ]
  },
  {
   "cell_type": "markdown",
   "id": "1fe2b161",
   "metadata": {},
   "source": [
    "Inicialmente se crea una nueva columna que recopile los datos de los tiempos de espera."
   ]
  },
  {
   "cell_type": "code",
   "execution_count": 405,
   "id": "9ce6bb2a",
   "metadata": {
    "scrolled": true
   },
   "outputs": [
    {
     "name": "stderr",
     "output_type": "stream",
     "text": [
      "C:\\Users\\andre.DESKTOP-LACGQDJ\\AppData\\Local\\Temp\\ipykernel_14640\\2676515878.py:1: SettingWithCopyWarning: \n",
      "A value is trying to be set on a copy of a slice from a DataFrame.\n",
      "Try using .loc[row_indexer,col_indexer] = value instead\n",
      "\n",
      "See the caveats in the documentation: https://pandas.pydata.org/pandas-docs/stable/user_guide/indexing.html#returning-a-view-versus-a-copy\n",
      "  telecom_sin_outliers['time_call']=telecom_sin_outliers['total_call_duration']-telecom_sin_outliers['call_duration']\n"
     ]
    }
   ],
   "source": [
    "telecom_sin_outliers['time_call']=telecom_sin_outliers['total_call_duration']-telecom_sin_outliers['call_duration']"
   ]
  },
  {
   "cell_type": "markdown",
   "id": "2352c981",
   "metadata": {},
   "source": [
    "**Se descarga csv con los datos limpios**"
   ]
  },
  {
   "cell_type": "code",
   "execution_count": 406,
   "id": "388353f9",
   "metadata": {},
   "outputs": [],
   "source": [
    "telecom.to_csv('telecom_sin_outliers.csv',index=False)"
   ]
  },
  {
   "cell_type": "markdown",
   "id": "70055668",
   "metadata": {},
   "source": [
    "Se analizan los tiempos de espera por operador."
   ]
  },
  {
   "cell_type": "code",
   "execution_count": 407,
   "id": "04337b21",
   "metadata": {},
   "outputs": [
    {
     "data": {
      "text/html": [
       "<div>\n",
       "<style scoped>\n",
       "    .dataframe tbody tr th:only-of-type {\n",
       "        vertical-align: middle;\n",
       "    }\n",
       "\n",
       "    .dataframe tbody tr th {\n",
       "        vertical-align: top;\n",
       "    }\n",
       "\n",
       "    .dataframe thead th {\n",
       "        text-align: right;\n",
       "    }\n",
       "</style>\n",
       "<table border=\"1\" class=\"dataframe\">\n",
       "  <thead>\n",
       "    <tr style=\"text-align: right;\">\n",
       "      <th></th>\n",
       "      <th>time_call</th>\n",
       "    </tr>\n",
       "    <tr>\n",
       "      <th>operator_id</th>\n",
       "      <th></th>\n",
       "    </tr>\n",
       "  </thead>\n",
       "  <tbody>\n",
       "    <tr>\n",
       "      <th>899082.0</th>\n",
       "      <td>677.750000</td>\n",
       "    </tr>\n",
       "    <tr>\n",
       "      <th>893804.0</th>\n",
       "      <td>623.516667</td>\n",
       "    </tr>\n",
       "    <tr>\n",
       "      <th>880028.0</th>\n",
       "      <td>590.650000</td>\n",
       "    </tr>\n",
       "    <tr>\n",
       "      <th>905538.0</th>\n",
       "      <td>558.166667</td>\n",
       "    </tr>\n",
       "    <tr>\n",
       "      <th>923526.0</th>\n",
       "      <td>522.216667</td>\n",
       "    </tr>\n",
       "    <tr>\n",
       "      <th>...</th>\n",
       "      <td>...</td>\n",
       "    </tr>\n",
       "    <tr>\n",
       "      <th>946454.0</th>\n",
       "      <td>0.000000</td>\n",
       "    </tr>\n",
       "    <tr>\n",
       "      <th>958458.0</th>\n",
       "      <td>0.000000</td>\n",
       "    </tr>\n",
       "    <tr>\n",
       "      <th>919192.0</th>\n",
       "      <td>0.000000</td>\n",
       "    </tr>\n",
       "    <tr>\n",
       "      <th>960674.0</th>\n",
       "      <td>0.000000</td>\n",
       "    </tr>\n",
       "    <tr>\n",
       "      <th>919302.0</th>\n",
       "      <td>0.000000</td>\n",
       "    </tr>\n",
       "  </tbody>\n",
       "</table>\n",
       "<p>1083 rows × 1 columns</p>\n",
       "</div>"
      ],
      "text/plain": [
       "              time_call\n",
       "operator_id            \n",
       "899082.0     677.750000\n",
       "893804.0     623.516667\n",
       "880028.0     590.650000\n",
       "905538.0     558.166667\n",
       "923526.0     522.216667\n",
       "...                 ...\n",
       "946454.0       0.000000\n",
       "958458.0       0.000000\n",
       "919192.0       0.000000\n",
       "960674.0       0.000000\n",
       "919302.0       0.000000\n",
       "\n",
       "[1083 rows x 1 columns]"
      ]
     },
     "execution_count": 407,
     "metadata": {},
     "output_type": "execute_result"
    }
   ],
   "source": [
    "telecom_sin_outliers.groupby('operator_id').agg({'time_call':'sum'}).sort_values(by='time_call',ascending=False)"
   ]
  },
  {
   "cell_type": "code",
   "execution_count": 408,
   "id": "22c798a1",
   "metadata": {},
   "outputs": [
    {
     "data": {
      "image/png": "[encoded data removed]",
      "text/plain": [
       "<Figure size 1000x600 with 1 Axes>"
      ]
     },
     "metadata": {},
     "output_type": "display_data"
    }
   ],
   "source": [
    "telecom_sin_outliers.groupby('operator_id').agg({'time_call':'sum'}).sort_values(by='time_call',ascending=False).head().plot(kind='bar',figsize=(10,6))\n",
    "plt.title('Tiempos de espera por parte de los operadores')\n",
    "plt.xlabel('Operador')\n",
    "plt.ylabel('Frecuencia')\n",
    "plt.show()"
   ]
  },
  {
   "cell_type": "markdown",
   "id": "29ff0766",
   "metadata": {},
   "source": [
    "Los operadores en los que se presentan mayores tiempos de espera son: 889082, 893804 , 880028, 905538  y 923526 ."
   ]
  },
  {
   "cell_type": "markdown",
   "id": "3f0a8677",
   "metadata": {},
   "source": [
    "Se identifican los operadores en los que se evidencian mayor cantidad de llamadas perdidas."
   ]
  },
  {
   "cell_type": "code",
   "execution_count": 409,
   "id": "37fb09ef",
   "metadata": {},
   "outputs": [
    {
     "data": {
      "text/html": [
       "<div>\n",
       "<style scoped>\n",
       "    .dataframe tbody tr th:only-of-type {\n",
       "        vertical-align: middle;\n",
       "    }\n",
       "\n",
       "    .dataframe tbody tr th {\n",
       "        vertical-align: top;\n",
       "    }\n",
       "\n",
       "    .dataframe thead th {\n",
       "        text-align: right;\n",
       "    }\n",
       "</style>\n",
       "<table border=\"1\" class=\"dataframe\">\n",
       "  <thead>\n",
       "    <tr style=\"text-align: right;\">\n",
       "      <th></th>\n",
       "      <th>is_missed_call</th>\n",
       "    </tr>\n",
       "    <tr>\n",
       "      <th>operator_id</th>\n",
       "      <th></th>\n",
       "    </tr>\n",
       "  </thead>\n",
       "  <tbody>\n",
       "    <tr>\n",
       "      <th>891410.0</th>\n",
       "      <td>118</td>\n",
       "    </tr>\n",
       "    <tr>\n",
       "      <th>891414.0</th>\n",
       "      <td>112</td>\n",
       "    </tr>\n",
       "    <tr>\n",
       "      <th>901880.0</th>\n",
       "      <td>110</td>\n",
       "    </tr>\n",
       "    <tr>\n",
       "      <th>901884.0</th>\n",
       "      <td>104</td>\n",
       "    </tr>\n",
       "    <tr>\n",
       "      <th>893804.0</th>\n",
       "      <td>101</td>\n",
       "    </tr>\n",
       "    <tr>\n",
       "      <th>...</th>\n",
       "      <td>...</td>\n",
       "    </tr>\n",
       "    <tr>\n",
       "      <th>917876.0</th>\n",
       "      <td>0</td>\n",
       "    </tr>\n",
       "    <tr>\n",
       "      <th>948524.0</th>\n",
       "      <td>0</td>\n",
       "    </tr>\n",
       "    <tr>\n",
       "      <th>949252.0</th>\n",
       "      <td>0</td>\n",
       "    </tr>\n",
       "    <tr>\n",
       "      <th>914842.0</th>\n",
       "      <td>0</td>\n",
       "    </tr>\n",
       "    <tr>\n",
       "      <th>973286.0</th>\n",
       "      <td>0</td>\n",
       "    </tr>\n",
       "  </tbody>\n",
       "</table>\n",
       "<p>1083 rows × 1 columns</p>\n",
       "</div>"
      ],
      "text/plain": [
       "             is_missed_call\n",
       "operator_id                \n",
       "891410.0                118\n",
       "891414.0                112\n",
       "901880.0                110\n",
       "901884.0                104\n",
       "893804.0                101\n",
       "...                     ...\n",
       "917876.0                  0\n",
       "948524.0                  0\n",
       "949252.0                  0\n",
       "914842.0                  0\n",
       "973286.0                  0\n",
       "\n",
       "[1083 rows x 1 columns]"
      ]
     },
     "execution_count": 409,
     "metadata": {},
     "output_type": "execute_result"
    }
   ],
   "source": [
    "telecom_sin_outliers.groupby('operator_id').agg({'is_missed_call':'sum'}).sort_values(by='is_missed_call',ascending=False)"
   ]
  },
  {
   "cell_type": "code",
   "execution_count": 410,
   "id": "f323aed7",
   "metadata": {},
   "outputs": [
    {
     "data": {
      "image/png": "[encoded data removed]",
      "text/plain": [
       "<Figure size 1000x600 with 1 Axes>"
      ]
     },
     "metadata": {},
     "output_type": "display_data"
    }
   ],
   "source": [
    "telecom_sin_outliers.groupby('operator_id').agg({'is_missed_call':'sum'}).sort_values(by='is_missed_call',ascending=False).head().plot(kind='bar',figsize=(10,6))\n",
    "plt.title('Llamadas perdidas por parte de los operadores')\n",
    "plt.xlabel('Operador')\n",
    "plt.ylabel('Frecuencia')\n",
    "plt.show()"
   ]
  },
  {
   "cell_type": "markdown",
   "id": "f9e7e65c",
   "metadata": {},
   "source": [
    "Se identifica que los operadores con mas registros de llamadas perdidas son: 891410, 891414,901880, 901884 y 893804."
   ]
  },
  {
   "cell_type": "markdown",
   "id": "1d1cd6b3",
   "metadata": {},
   "source": [
    "Se identifican los usuarios que registran mayor cantidad de llamadas salientes."
   ]
  },
  {
   "cell_type": "code",
   "execution_count": 411,
   "id": "5fd8964a",
   "metadata": {},
   "outputs": [
    {
     "data": {
      "text/html": [
       "<div>\n",
       "<style scoped>\n",
       "    .dataframe tbody tr th:only-of-type {\n",
       "        vertical-align: middle;\n",
       "    }\n",
       "\n",
       "    .dataframe tbody tr th {\n",
       "        vertical-align: top;\n",
       "    }\n",
       "\n",
       "    .dataframe thead th {\n",
       "        text-align: right;\n",
       "    }\n",
       "</style>\n",
       "<table border=\"1\" class=\"dataframe\">\n",
       "  <thead>\n",
       "    <tr style=\"text-align: right;\">\n",
       "      <th></th>\n",
       "      <th>out_call</th>\n",
       "    </tr>\n",
       "    <tr>\n",
       "      <th>operator_id</th>\n",
       "      <th></th>\n",
       "    </tr>\n",
       "  </thead>\n",
       "  <tbody>\n",
       "    <tr>\n",
       "      <th>887276.0</th>\n",
       "      <td>197</td>\n",
       "    </tr>\n",
       "    <tr>\n",
       "      <th>901884.0</th>\n",
       "      <td>181</td>\n",
       "    </tr>\n",
       "    <tr>\n",
       "      <th>905566.0</th>\n",
       "      <td>169</td>\n",
       "    </tr>\n",
       "    <tr>\n",
       "      <th>905564.0</th>\n",
       "      <td>168</td>\n",
       "    </tr>\n",
       "    <tr>\n",
       "      <th>889410.0</th>\n",
       "      <td>163</td>\n",
       "    </tr>\n",
       "    <tr>\n",
       "      <th>...</th>\n",
       "      <td>...</td>\n",
       "    </tr>\n",
       "    <tr>\n",
       "      <th>920930.0</th>\n",
       "      <td>0</td>\n",
       "    </tr>\n",
       "    <tr>\n",
       "      <th>920874.0</th>\n",
       "      <td>0</td>\n",
       "    </tr>\n",
       "    <tr>\n",
       "      <th>951118.0</th>\n",
       "      <td>0</td>\n",
       "    </tr>\n",
       "    <tr>\n",
       "      <th>919994.0</th>\n",
       "      <td>0</td>\n",
       "    </tr>\n",
       "    <tr>\n",
       "      <th>973286.0</th>\n",
       "      <td>0</td>\n",
       "    </tr>\n",
       "  </tbody>\n",
       "</table>\n",
       "<p>1083 rows × 1 columns</p>\n",
       "</div>"
      ],
      "text/plain": [
       "             out_call\n",
       "operator_id          \n",
       "887276.0          197\n",
       "901884.0          181\n",
       "905566.0          169\n",
       "905564.0          168\n",
       "889410.0          163\n",
       "...               ...\n",
       "920930.0            0\n",
       "920874.0            0\n",
       "951118.0            0\n",
       "919994.0            0\n",
       "973286.0            0\n",
       "\n",
       "[1083 rows x 1 columns]"
      ]
     },
     "execution_count": 411,
     "metadata": {},
     "output_type": "execute_result"
    }
   ],
   "source": [
    "telecom_sin_outliers.groupby('operator_id').agg({'out_call':'sum'}).sort_values(by='out_call',ascending=False)"
   ]
  },
  {
   "cell_type": "code",
   "execution_count": 412,
   "id": "5400ed0b",
   "metadata": {},
   "outputs": [
    {
     "data": {
      "image/png": "[encoded data removed]",
      "text/plain": [
       "<Figure size 1000x600 with 1 Axes>"
      ]
     },
     "metadata": {},
     "output_type": "display_data"
    }
   ],
   "source": [
    "telecom_sin_outliers.groupby('operator_id').agg({'out_call':'sum'}).sort_values(by='out_call',ascending=False).head().plot(kind='bar',figsize=(10,6))\n",
    "plt.title('Llamadas salientes por parte de los operadores')\n",
    "plt.xlabel('Operador')\n",
    "plt.ylabel('Frecuencia')\n",
    "plt.show()"
   ]
  },
  {
   "cell_type": "markdown",
   "id": "9bb65ad1",
   "metadata": {},
   "source": [
    "Entre los operadores con mayor cantidad de llamadas salientes se encuentran: 887276.0, 901884.0, 905566.0, 905564.0 y 889410.0"
   ]
  },
  {
   "cell_type": "code",
   "execution_count": 413,
   "id": "efe82524",
   "metadata": {},
   "outputs": [
    {
     "data": {
      "text/plain": [
       "user_id                                               object\n",
       "date                   datetime64[ns, pytz.FixedOffset(180)]\n",
       "internal                                                bool\n",
       "operator_id                                           object\n",
       "is_missed_call                                          bool\n",
       "calls_count                                            int64\n",
       "call_duration                                        float64\n",
       "total_call_duration                                  float64\n",
       "date_call                                     datetime64[ns]\n",
       "out_call                                                bool\n",
       "time_call                                            float64\n",
       "dtype: object"
      ]
     },
     "execution_count": 413,
     "metadata": {},
     "output_type": "execute_result"
    }
   ],
   "source": [
    "telecom_sin_outliers.dtypes"
   ]
  },
  {
   "cell_type": "markdown",
   "id": "134f5fd9",
   "metadata": {},
   "source": [
    "Los operadores que registran mayor cantidad de llamadas salientes son: 887276, 901884, 905566, 905564 y 889410. "
   ]
  },
  {
   "cell_type": "markdown",
   "id": "c40e38cc",
   "metadata": {},
   "source": [
    "# Ejecuciòn del modelo <a id='modelo'></a>"
   ]
  },
  {
   "cell_type": "markdown",
   "id": "f16619d2",
   "metadata": {},
   "source": [
    "**Teniendo en cuenta la gran cantidad de operadores registrados, se decide utilizar un modelo que permita clasificar los datos, y facilitar la identificaciòn de las caracterìsticas de eficiencia o ineficiencia de los operadores**."
   ]
  },
  {
   "cell_type": "markdown",
   "id": "e2200ba6",
   "metadata": {},
   "source": [
    "Inicialmente se identifica la suma de cada variable cuantitativa para cada operador."
   ]
  },
  {
   "cell_type": "code",
   "execution_count": 414,
   "id": "a0e86bdc",
   "metadata": {},
   "outputs": [],
   "source": [
    "data_operadores=telecom_sin_outliers.pivot_table(index='operator_id',values=['is_missed_call','calls_count','call_duration','total_call_duration','internal','out_call','time_call'],aggfunc='sum')"
   ]
  },
  {
   "cell_type": "code",
   "execution_count": 415,
   "id": "bdae1461",
   "metadata": {
    "scrolled": false
   },
   "outputs": [
    {
     "data": {
      "text/html": [
       "<div>\n",
       "<style scoped>\n",
       "    .dataframe tbody tr th:only-of-type {\n",
       "        vertical-align: middle;\n",
       "    }\n",
       "\n",
       "    .dataframe tbody tr th {\n",
       "        vertical-align: top;\n",
       "    }\n",
       "\n",
       "    .dataframe thead th {\n",
       "        text-align: right;\n",
       "    }\n",
       "</style>\n",
       "<table border=\"1\" class=\"dataframe\">\n",
       "  <thead>\n",
       "    <tr style=\"text-align: right;\">\n",
       "      <th></th>\n",
       "      <th>call_duration</th>\n",
       "      <th>calls_count</th>\n",
       "      <th>internal</th>\n",
       "      <th>is_missed_call</th>\n",
       "      <th>out_call</th>\n",
       "      <th>time_call</th>\n",
       "      <th>total_call_duration</th>\n",
       "    </tr>\n",
       "    <tr>\n",
       "      <th>operator_id</th>\n",
       "      <th></th>\n",
       "      <th></th>\n",
       "      <th></th>\n",
       "      <th></th>\n",
       "      <th></th>\n",
       "      <th></th>\n",
       "      <th></th>\n",
       "    </tr>\n",
       "  </thead>\n",
       "  <tbody>\n",
       "    <tr>\n",
       "      <th>879896.0</th>\n",
       "      <td>342.616667</td>\n",
       "      <td>502</td>\n",
       "      <td>15</td>\n",
       "      <td>47</td>\n",
       "      <td>86</td>\n",
       "      <td>142.250000</td>\n",
       "      <td>484.866667</td>\n",
       "    </tr>\n",
       "    <tr>\n",
       "      <th>879898.0</th>\n",
       "      <td>288.816667</td>\n",
       "      <td>1173</td>\n",
       "      <td>16</td>\n",
       "      <td>56</td>\n",
       "      <td>74</td>\n",
       "      <td>362.566667</td>\n",
       "      <td>651.383333</td>\n",
       "    </tr>\n",
       "    <tr>\n",
       "      <th>880020.0</th>\n",
       "      <td>37.416667</td>\n",
       "      <td>45</td>\n",
       "      <td>3</td>\n",
       "      <td>6</td>\n",
       "      <td>13</td>\n",
       "      <td>4.666667</td>\n",
       "      <td>42.083333</td>\n",
       "    </tr>\n",
       "    <tr>\n",
       "      <th>880022.0</th>\n",
       "      <td>212.266667</td>\n",
       "      <td>194</td>\n",
       "      <td>8</td>\n",
       "      <td>29</td>\n",
       "      <td>61</td>\n",
       "      <td>62.833333</td>\n",
       "      <td>275.100000</td>\n",
       "    </tr>\n",
       "    <tr>\n",
       "      <th>880026.0</th>\n",
       "      <td>813.800000</td>\n",
       "      <td>1197</td>\n",
       "      <td>13</td>\n",
       "      <td>87</td>\n",
       "      <td>122</td>\n",
       "      <td>261.916667</td>\n",
       "      <td>1075.716667</td>\n",
       "    </tr>\n",
       "    <tr>\n",
       "      <th>...</th>\n",
       "      <td>...</td>\n",
       "      <td>...</td>\n",
       "      <td>...</td>\n",
       "      <td>...</td>\n",
       "      <td>...</td>\n",
       "      <td>...</td>\n",
       "      <td>...</td>\n",
       "    </tr>\n",
       "    <tr>\n",
       "      <th>972410.0</th>\n",
       "      <td>24.900000</td>\n",
       "      <td>51</td>\n",
       "      <td>0</td>\n",
       "      <td>2</td>\n",
       "      <td>3</td>\n",
       "      <td>20.483333</td>\n",
       "      <td>45.383333</td>\n",
       "    </tr>\n",
       "    <tr>\n",
       "      <th>972412.0</th>\n",
       "      <td>26.166667</td>\n",
       "      <td>38</td>\n",
       "      <td>0</td>\n",
       "      <td>2</td>\n",
       "      <td>3</td>\n",
       "      <td>13.250000</td>\n",
       "      <td>39.416667</td>\n",
       "    </tr>\n",
       "    <tr>\n",
       "      <th>972460.0</th>\n",
       "      <td>20.300000</td>\n",
       "      <td>51</td>\n",
       "      <td>2</td>\n",
       "      <td>3</td>\n",
       "      <td>6</td>\n",
       "      <td>10.333333</td>\n",
       "      <td>30.633333</td>\n",
       "    </tr>\n",
       "    <tr>\n",
       "      <th>973120.0</th>\n",
       "      <td>0.083333</td>\n",
       "      <td>3</td>\n",
       "      <td>0</td>\n",
       "      <td>1</td>\n",
       "      <td>2</td>\n",
       "      <td>0.333333</td>\n",
       "      <td>0.416667</td>\n",
       "    </tr>\n",
       "    <tr>\n",
       "      <th>973286.0</th>\n",
       "      <td>0.283333</td>\n",
       "      <td>2</td>\n",
       "      <td>0</td>\n",
       "      <td>0</td>\n",
       "      <td>0</td>\n",
       "      <td>1.466667</td>\n",
       "      <td>1.750000</td>\n",
       "    </tr>\n",
       "  </tbody>\n",
       "</table>\n",
       "<p>1083 rows × 7 columns</p>\n",
       "</div>"
      ],
      "text/plain": [
       "             call_duration  calls_count  internal  is_missed_call  out_call  \\\n",
       "operator_id                                                                   \n",
       "879896.0        342.616667          502        15              47        86   \n",
       "879898.0        288.816667         1173        16              56        74   \n",
       "880020.0         37.416667           45         3               6        13   \n",
       "880022.0        212.266667          194         8              29        61   \n",
       "880026.0        813.800000         1197        13              87       122   \n",
       "...                    ...          ...       ...             ...       ...   \n",
       "972410.0         24.900000           51         0               2         3   \n",
       "972412.0         26.166667           38         0               2         3   \n",
       "972460.0         20.300000           51         2               3         6   \n",
       "973120.0          0.083333            3         0               1         2   \n",
       "973286.0          0.283333            2         0               0         0   \n",
       "\n",
       "              time_call  total_call_duration  \n",
       "operator_id                                   \n",
       "879896.0     142.250000           484.866667  \n",
       "879898.0     362.566667           651.383333  \n",
       "880020.0       4.666667            42.083333  \n",
       "880022.0      62.833333           275.100000  \n",
       "880026.0     261.916667          1075.716667  \n",
       "...                 ...                  ...  \n",
       "972410.0      20.483333            45.383333  \n",
       "972412.0      13.250000            39.416667  \n",
       "972460.0      10.333333            30.633333  \n",
       "973120.0       0.333333             0.416667  \n",
       "973286.0       1.466667             1.750000  \n",
       "\n",
       "[1083 rows x 7 columns]"
      ]
     },
     "execution_count": 415,
     "metadata": {},
     "output_type": "execute_result"
    }
   ],
   "source": [
    "data_operadores"
   ]
  },
  {
   "cell_type": "code",
   "execution_count": 416,
   "id": "cb9491e3",
   "metadata": {},
   "outputs": [
    {
     "data": {
      "text/plain": [
       "call_duration          float64\n",
       "calls_count              int64\n",
       "internal                 int64\n",
       "is_missed_call           int64\n",
       "out_call                 int64\n",
       "time_call              float64\n",
       "total_call_duration    float64\n",
       "dtype: object"
      ]
     },
     "execution_count": 416,
     "metadata": {},
     "output_type": "execute_result"
    }
   ],
   "source": [
    "data_operadores.dtypes"
   ]
  },
  {
   "cell_type": "markdown",
   "id": "4034dc25",
   "metadata": {},
   "source": [
    "**Se descarga csv con las sumas de las variables para cada operador**"
   ]
  },
  {
   "cell_type": "code",
   "execution_count": 417,
   "id": "c5c0227d",
   "metadata": {},
   "outputs": [],
   "source": [
    "telecom.to_csv('data_operadores.csv',index=False)"
   ]
  },
  {
   "cell_type": "markdown",
   "id": "c3d79171",
   "metadata": {},
   "source": [
    "* Identificamos la relaciòn entre el nùmero de llamadas perdidas y el tiempo de espera."
   ]
  },
  {
   "cell_type": "code",
   "execution_count": 418,
   "id": "50f9c42d",
   "metadata": {},
   "outputs": [
    {
     "data": {
      "image/png": "[encoded data removed]",
      "text/plain": [
       "<Figure size 1000x600 with 1 Axes>"
      ]
     },
     "metadata": {},
     "output_type": "display_data"
    }
   ],
   "source": [
    "data_operadores.plot(kind=\"scatter\",x=\"time_call\",y=\"is_missed_call\",figsize=(10,6),grid=True)\n",
    "plt.show()"
   ]
  },
  {
   "cell_type": "markdown",
   "id": "22ecf5be",
   "metadata": {},
   "source": [
    "De acuerdo con el gràfico, entre menor es el tiempo de espera menor es la cantidad de llamadas perdidas."
   ]
  },
  {
   "cell_type": "markdown",
   "id": "b178d822",
   "metadata": {},
   "source": [
    "* Identificamos la relaciòn entre el conteo de llamadas y las llamadas perdidas."
   ]
  },
  {
   "cell_type": "code",
   "execution_count": 419,
   "id": "cce60cf8",
   "metadata": {},
   "outputs": [
    {
     "data": {
      "image/png": "[encoded data removed]",
      "text/plain": [
       "<Figure size 1000x600 with 1 Axes>"
      ]
     },
     "metadata": {},
     "output_type": "display_data"
    }
   ],
   "source": [
    "data_operadores.plot(kind=\"scatter\",x=\"calls_count\",y=\"is_missed_call\",figsize=(10,6),grid=True)\n",
    "plt.show()"
   ]
  },
  {
   "cell_type": "markdown",
   "id": "94ecdb4b",
   "metadata": {},
   "source": [
    "De igual manera se identifica que a menor nùmero de llamadas, menor es la cantidad de llamadas perdidas."
   ]
  },
  {
   "cell_type": "markdown",
   "id": "32b838c8",
   "metadata": {},
   "source": [
    "**Creamos una matriz de correlaciòn para verificar las relaciones entre las variables**"
   ]
  },
  {
   "cell_type": "code",
   "execution_count": 420,
   "id": "383221c1",
   "metadata": {},
   "outputs": [
    {
     "data": {
      "text/html": [
       "<style type=\"text/css\">\n",
       "#T_029cf_row0_col0, #T_029cf_row1_col1, #T_029cf_row2_col2, #T_029cf_row3_col3, #T_029cf_row4_col4, #T_029cf_row5_col5, #T_029cf_row6_col6 {\n",
       "  background-color: #b40426;\n",
       "  color: #f1f1f1;\n",
       "}\n",
       "#T_029cf_row0_col1 {\n",
       "  background-color: #ea7b60;\n",
       "  color: #f1f1f1;\n",
       "}\n",
       "#T_029cf_row0_col2 {\n",
       "  background-color: #6f92f3;\n",
       "  color: #f1f1f1;\n",
       "}\n",
       "#T_029cf_row0_col3, #T_029cf_row4_col5 {\n",
       "  background-color: #f7b497;\n",
       "  color: #000000;\n",
       "}\n",
       "#T_029cf_row0_col4 {\n",
       "  background-color: #ead5c9;\n",
       "  color: #000000;\n",
       "}\n",
       "#T_029cf_row0_col5, #T_029cf_row3_col5 {\n",
       "  background-color: #f18f71;\n",
       "  color: #f1f1f1;\n",
       "}\n",
       "#T_029cf_row0_col6, #T_029cf_row6_col0 {\n",
       "  background-color: #ba162b;\n",
       "  color: #f1f1f1;\n",
       "}\n",
       "#T_029cf_row1_col0 {\n",
       "  background-color: #ec8165;\n",
       "  color: #f1f1f1;\n",
       "}\n",
       "#T_029cf_row1_col2 {\n",
       "  background-color: #5f7fe8;\n",
       "  color: #f1f1f1;\n",
       "}\n",
       "#T_029cf_row1_col3 {\n",
       "  background-color: #f39577;\n",
       "  color: #000000;\n",
       "}\n",
       "#T_029cf_row1_col4 {\n",
       "  background-color: #dfdbd9;\n",
       "  color: #000000;\n",
       "}\n",
       "#T_029cf_row1_col5 {\n",
       "  background-color: #c83836;\n",
       "  color: #f1f1f1;\n",
       "}\n",
       "#T_029cf_row1_col6, #T_029cf_row6_col1 {\n",
       "  background-color: #d85646;\n",
       "  color: #f1f1f1;\n",
       "}\n",
       "#T_029cf_row2_col0, #T_029cf_row2_col1, #T_029cf_row2_col3, #T_029cf_row2_col4, #T_029cf_row2_col5, #T_029cf_row2_col6, #T_029cf_row5_col2 {\n",
       "  background-color: #3b4cc0;\n",
       "  color: #f1f1f1;\n",
       "}\n",
       "#T_029cf_row3_col0 {\n",
       "  background-color: #f49a7b;\n",
       "  color: #000000;\n",
       "}\n",
       "#T_029cf_row3_col1 {\n",
       "  background-color: #e97a5f;\n",
       "  color: #f1f1f1;\n",
       "}\n",
       "#T_029cf_row3_col2, #T_029cf_row5_col4 {\n",
       "  background-color: #aec9fc;\n",
       "  color: #000000;\n",
       "}\n",
       "#T_029cf_row3_col4 {\n",
       "  background-color: #e16751;\n",
       "  color: #f1f1f1;\n",
       "}\n",
       "#T_029cf_row3_col6 {\n",
       "  background-color: #ee8669;\n",
       "  color: #f1f1f1;\n",
       "}\n",
       "#T_029cf_row4_col0 {\n",
       "  background-color: #f59f80;\n",
       "  color: #000000;\n",
       "}\n",
       "#T_029cf_row4_col1 {\n",
       "  background-color: #f6a385;\n",
       "  color: #000000;\n",
       "}\n",
       "#T_029cf_row4_col2 {\n",
       "  background-color: #dedcdb;\n",
       "  color: #000000;\n",
       "}\n",
       "#T_029cf_row4_col3 {\n",
       "  background-color: #d75445;\n",
       "  color: #f1f1f1;\n",
       "}\n",
       "#T_029cf_row4_col6 {\n",
       "  background-color: #f39778;\n",
       "  color: #000000;\n",
       "}\n",
       "#T_029cf_row5_col0, #T_029cf_row6_col3 {\n",
       "  background-color: #f6a283;\n",
       "  color: #000000;\n",
       "}\n",
       "#T_029cf_row5_col1 {\n",
       "  background-color: #cb3e38;\n",
       "  color: #f1f1f1;\n",
       "}\n",
       "#T_029cf_row5_col3 {\n",
       "  background-color: #f7bca1;\n",
       "  color: #000000;\n",
       "}\n",
       "#T_029cf_row5_col6 {\n",
       "  background-color: #e36c55;\n",
       "  color: #f1f1f1;\n",
       "}\n",
       "#T_029cf_row6_col2 {\n",
       "  background-color: #6687ed;\n",
       "  color: #f1f1f1;\n",
       "}\n",
       "#T_029cf_row6_col4 {\n",
       "  background-color: #edd1c2;\n",
       "  color: #000000;\n",
       "}\n",
       "#T_029cf_row6_col5 {\n",
       "  background-color: #df634e;\n",
       "  color: #f1f1f1;\n",
       "}\n",
       "</style>\n",
       "<table id=\"T_029cf\">\n",
       "  <thead>\n",
       "    <tr>\n",
       "      <th class=\"blank level0\" >&nbsp;</th>\n",
       "      <th id=\"T_029cf_level0_col0\" class=\"col_heading level0 col0\" >call_duration</th>\n",
       "      <th id=\"T_029cf_level0_col1\" class=\"col_heading level0 col1\" >calls_count</th>\n",
       "      <th id=\"T_029cf_level0_col2\" class=\"col_heading level0 col2\" >internal</th>\n",
       "      <th id=\"T_029cf_level0_col3\" class=\"col_heading level0 col3\" >is_missed_call</th>\n",
       "      <th id=\"T_029cf_level0_col4\" class=\"col_heading level0 col4\" >out_call</th>\n",
       "      <th id=\"T_029cf_level0_col5\" class=\"col_heading level0 col5\" >time_call</th>\n",
       "      <th id=\"T_029cf_level0_col6\" class=\"col_heading level0 col6\" >total_call_duration</th>\n",
       "    </tr>\n",
       "  </thead>\n",
       "  <tbody>\n",
       "    <tr>\n",
       "      <th id=\"T_029cf_level0_row0\" class=\"row_heading level0 row0\" >call_duration</th>\n",
       "      <td id=\"T_029cf_row0_col0\" class=\"data row0 col0\" >1.000000</td>\n",
       "      <td id=\"T_029cf_row0_col1\" class=\"data row0 col1\" >0.879863</td>\n",
       "      <td id=\"T_029cf_row0_col2\" class=\"data row0 col2\" >0.372736</td>\n",
       "      <td id=\"T_029cf_row0_col3\" class=\"data row0 col3\" >0.841863</td>\n",
       "      <td id=\"T_029cf_row0_col4\" class=\"data row0 col4\" >0.833848</td>\n",
       "      <td id=\"T_029cf_row0_col5\" class=\"data row0 col5\" >0.830755</td>\n",
       "      <td id=\"T_029cf_row0_col6\" class=\"data row0 col6\" >0.989504</td>\n",
       "    </tr>\n",
       "    <tr>\n",
       "      <th id=\"T_029cf_level0_row1\" class=\"row_heading level0 row1\" >calls_count</th>\n",
       "      <td id=\"T_029cf_row1_col0\" class=\"data row1 col0\" >0.879863</td>\n",
       "      <td id=\"T_029cf_row1_col1\" class=\"data row1 col1\" >1.000000</td>\n",
       "      <td id=\"T_029cf_row1_col2\" class=\"data row1 col2\" >0.337754</td>\n",
       "      <td id=\"T_029cf_row1_col3\" class=\"data row1 col3\" >0.881948</td>\n",
       "      <td id=\"T_029cf_row1_col4\" class=\"data row1 col4\" >0.817658</td>\n",
       "      <td id=\"T_029cf_row1_col5\" class=\"data row1 col5\" >0.958007</td>\n",
       "      <td id=\"T_029cf_row1_col6\" class=\"data row1 col6\" >0.929573</td>\n",
       "    </tr>\n",
       "    <tr>\n",
       "      <th id=\"T_029cf_level0_row2\" class=\"row_heading level0 row2\" >internal</th>\n",
       "      <td id=\"T_029cf_row2_col0\" class=\"data row2 col0\" >0.372736</td>\n",
       "      <td id=\"T_029cf_row2_col1\" class=\"data row2 col1\" >0.337754</td>\n",
       "      <td id=\"T_029cf_row2_col2\" class=\"data row2 col2\" >1.000000</td>\n",
       "      <td id=\"T_029cf_row2_col3\" class=\"data row2 col3\" >0.508047</td>\n",
       "      <td id=\"T_029cf_row2_col4\" class=\"data row2 col4\" >0.629095</td>\n",
       "      <td id=\"T_029cf_row2_col5\" class=\"data row2 col5\" >0.247003</td>\n",
       "      <td id=\"T_029cf_row2_col6\" class=\"data row2 col6\" >0.352560</td>\n",
       "    </tr>\n",
       "    <tr>\n",
       "      <th id=\"T_029cf_level0_row3\" class=\"row_heading level0 row3\" >is_missed_call</th>\n",
       "      <td id=\"T_029cf_row3_col0\" class=\"data row3 col0\" >0.841863</td>\n",
       "      <td id=\"T_029cf_row3_col1\" class=\"data row3 col1\" >0.881948</td>\n",
       "      <td id=\"T_029cf_row3_col2\" class=\"data row3 col2\" >0.508047</td>\n",
       "      <td id=\"T_029cf_row3_col3\" class=\"data row3 col3\" >1.000000</td>\n",
       "      <td id=\"T_029cf_row3_col4\" class=\"data row3 col4\" >0.948769</td>\n",
       "      <td id=\"T_029cf_row3_col5\" class=\"data row3 col5\" >0.830316</td>\n",
       "      <td id=\"T_029cf_row3_col6\" class=\"data row3 col6\" >0.867018</td>\n",
       "    </tr>\n",
       "    <tr>\n",
       "      <th id=\"T_029cf_level0_row4\" class=\"row_heading level0 row4\" >out_call</th>\n",
       "      <td id=\"T_029cf_row4_col0\" class=\"data row4 col0\" >0.833848</td>\n",
       "      <td id=\"T_029cf_row4_col1\" class=\"data row4 col1\" >0.817658</td>\n",
       "      <td id=\"T_029cf_row4_col2\" class=\"data row4 col2\" >0.629095</td>\n",
       "      <td id=\"T_029cf_row4_col3\" class=\"data row4 col3\" >0.948769</td>\n",
       "      <td id=\"T_029cf_row4_col4\" class=\"data row4 col4\" >1.000000</td>\n",
       "      <td id=\"T_029cf_row4_col5\" class=\"data row4 col5\" >0.756874</td>\n",
       "      <td id=\"T_029cf_row4_col6\" class=\"data row4 col6\" >0.841750</td>\n",
       "    </tr>\n",
       "    <tr>\n",
       "      <th id=\"T_029cf_level0_row5\" class=\"row_heading level0 row5\" >time_call</th>\n",
       "      <td id=\"T_029cf_row5_col0\" class=\"data row5 col0\" >0.830755</td>\n",
       "      <td id=\"T_029cf_row5_col1\" class=\"data row5 col1\" >0.958007</td>\n",
       "      <td id=\"T_029cf_row5_col2\" class=\"data row5 col2\" >0.247003</td>\n",
       "      <td id=\"T_029cf_row5_col3\" class=\"data row5 col3\" >0.830316</td>\n",
       "      <td id=\"T_029cf_row5_col4\" class=\"data row5 col4\" >0.756874</td>\n",
       "      <td id=\"T_029cf_row5_col5\" class=\"data row5 col5\" >1.000000</td>\n",
       "      <td id=\"T_029cf_row5_col6\" class=\"data row5 col6\" >0.902473</td>\n",
       "    </tr>\n",
       "    <tr>\n",
       "      <th id=\"T_029cf_level0_row6\" class=\"row_heading level0 row6\" >total_call_duration</th>\n",
       "      <td id=\"T_029cf_row6_col0\" class=\"data row6 col0\" >0.989504</td>\n",
       "      <td id=\"T_029cf_row6_col1\" class=\"data row6 col1\" >0.929573</td>\n",
       "      <td id=\"T_029cf_row6_col2\" class=\"data row6 col2\" >0.352560</td>\n",
       "      <td id=\"T_029cf_row6_col3\" class=\"data row6 col3\" >0.867018</td>\n",
       "      <td id=\"T_029cf_row6_col4\" class=\"data row6 col4\" >0.841750</td>\n",
       "      <td id=\"T_029cf_row6_col5\" class=\"data row6 col5\" >0.902473</td>\n",
       "      <td id=\"T_029cf_row6_col6\" class=\"data row6 col6\" >1.000000</td>\n",
       "    </tr>\n",
       "  </tbody>\n",
       "</table>\n"
      ],
      "text/plain": [
       "<pandas.io.formats.style.Styler at 0x24c9e38ed40>"
      ]
     },
     "execution_count": 420,
     "metadata": {},
     "output_type": "execute_result"
    }
   ],
   "source": [
    "corr=data_operadores.corr()\n",
    "corr.style.background_gradient(cmap='coolwarm')"
   ]
  },
  {
   "cell_type": "markdown",
   "id": "29d2e68b",
   "metadata": {},
   "source": [
    "* Se identifica que la columna \"is_missed_call\" tiene una correlaciòn mas alta con la variable out_call, total_call_duration,time_call (tiempo de espera) y calls_count."
   ]
  },
  {
   "cell_type": "markdown",
   "id": "516e5519",
   "metadata": {},
   "source": [
    "* La columna \"time_call\"(tiempo de espera de la llamada), tiene una correlaciòn mas alta con las variables total_call_duration, calls_count,call_duration y is_missed_call."
   ]
  },
  {
   "cell_type": "markdown",
   "id": "2270f58f",
   "metadata": {},
   "source": [
    "* La columna \"out_call\" tiene alta correlaciòn con is_missed_call, total_call_duration y calls_count."
   ]
  },
  {
   "cell_type": "markdown",
   "id": "2414be7d",
   "metadata": {},
   "source": [
    "**Se crea un nuevo dataframe sòlo con las variables que nos interesan para el modelo.**"
   ]
  },
  {
   "cell_type": "markdown",
   "id": "207e8135",
   "metadata": {},
   "source": [
    "Eliminamos la columna \"total_call_duration\", ya que tiene una correlaciòn muy alta con la columna \"call_duration\".El tiempo de espera ya se encuentra en la columna \"time_call\"."
   ]
  },
  {
   "cell_type": "markdown",
   "id": "b0b9c079",
   "metadata": {},
   "source": [
    "Se eliminan ademàs las columnas que no se consideran relevantes: internal."
   ]
  },
  {
   "cell_type": "code",
   "execution_count": 421,
   "id": "7a804338",
   "metadata": {},
   "outputs": [],
   "source": [
    "modelo_eficiencia=data_operadores.drop(columns=['total_call_duration','internal','call_duration','calls_count'])"
   ]
  },
  {
   "cell_type": "code",
   "execution_count": 422,
   "id": "25915faf",
   "metadata": {},
   "outputs": [
    {
     "data": {
      "text/html": [
       "<div>\n",
       "<style scoped>\n",
       "    .dataframe tbody tr th:only-of-type {\n",
       "        vertical-align: middle;\n",
       "    }\n",
       "\n",
       "    .dataframe tbody tr th {\n",
       "        vertical-align: top;\n",
       "    }\n",
       "\n",
       "    .dataframe thead th {\n",
       "        text-align: right;\n",
       "    }\n",
       "</style>\n",
       "<table border=\"1\" class=\"dataframe\">\n",
       "  <thead>\n",
       "    <tr style=\"text-align: right;\">\n",
       "      <th></th>\n",
       "      <th>is_missed_call</th>\n",
       "      <th>out_call</th>\n",
       "      <th>time_call</th>\n",
       "    </tr>\n",
       "    <tr>\n",
       "      <th>operator_id</th>\n",
       "      <th></th>\n",
       "      <th></th>\n",
       "      <th></th>\n",
       "    </tr>\n",
       "  </thead>\n",
       "  <tbody>\n",
       "    <tr>\n",
       "      <th>879896.0</th>\n",
       "      <td>47</td>\n",
       "      <td>86</td>\n",
       "      <td>142.250000</td>\n",
       "    </tr>\n",
       "    <tr>\n",
       "      <th>879898.0</th>\n",
       "      <td>56</td>\n",
       "      <td>74</td>\n",
       "      <td>362.566667</td>\n",
       "    </tr>\n",
       "    <tr>\n",
       "      <th>880020.0</th>\n",
       "      <td>6</td>\n",
       "      <td>13</td>\n",
       "      <td>4.666667</td>\n",
       "    </tr>\n",
       "    <tr>\n",
       "      <th>880022.0</th>\n",
       "      <td>29</td>\n",
       "      <td>61</td>\n",
       "      <td>62.833333</td>\n",
       "    </tr>\n",
       "    <tr>\n",
       "      <th>880026.0</th>\n",
       "      <td>87</td>\n",
       "      <td>122</td>\n",
       "      <td>261.916667</td>\n",
       "    </tr>\n",
       "    <tr>\n",
       "      <th>...</th>\n",
       "      <td>...</td>\n",
       "      <td>...</td>\n",
       "      <td>...</td>\n",
       "    </tr>\n",
       "    <tr>\n",
       "      <th>972410.0</th>\n",
       "      <td>2</td>\n",
       "      <td>3</td>\n",
       "      <td>20.483333</td>\n",
       "    </tr>\n",
       "    <tr>\n",
       "      <th>972412.0</th>\n",
       "      <td>2</td>\n",
       "      <td>3</td>\n",
       "      <td>13.250000</td>\n",
       "    </tr>\n",
       "    <tr>\n",
       "      <th>972460.0</th>\n",
       "      <td>3</td>\n",
       "      <td>6</td>\n",
       "      <td>10.333333</td>\n",
       "    </tr>\n",
       "    <tr>\n",
       "      <th>973120.0</th>\n",
       "      <td>1</td>\n",
       "      <td>2</td>\n",
       "      <td>0.333333</td>\n",
       "    </tr>\n",
       "    <tr>\n",
       "      <th>973286.0</th>\n",
       "      <td>0</td>\n",
       "      <td>0</td>\n",
       "      <td>1.466667</td>\n",
       "    </tr>\n",
       "  </tbody>\n",
       "</table>\n",
       "<p>1083 rows × 3 columns</p>\n",
       "</div>"
      ],
      "text/plain": [
       "             is_missed_call  out_call   time_call\n",
       "operator_id                                      \n",
       "879896.0                 47        86  142.250000\n",
       "879898.0                 56        74  362.566667\n",
       "880020.0                  6        13    4.666667\n",
       "880022.0                 29        61   62.833333\n",
       "880026.0                 87       122  261.916667\n",
       "...                     ...       ...         ...\n",
       "972410.0                  2         3   20.483333\n",
       "972412.0                  2         3   13.250000\n",
       "972460.0                  3         6   10.333333\n",
       "973120.0                  1         2    0.333333\n",
       "973286.0                  0         0    1.466667\n",
       "\n",
       "[1083 rows x 3 columns]"
      ]
     },
     "execution_count": 422,
     "metadata": {},
     "output_type": "execute_result"
    }
   ],
   "source": [
    "modelo_eficiencia"
   ]
  },
  {
   "cell_type": "markdown",
   "id": "e66b234f",
   "metadata": {},
   "source": [
    "**Se decide utilizar el algoritmo no supervisado K-Means o clustering, para facilitar la clasificaciòn de los datos.**"
   ]
  },
  {
   "cell_type": "code",
   "execution_count": 423,
   "id": "072baf34",
   "metadata": {},
   "outputs": [],
   "source": [
    "x_stand=StandardScaler().fit_transform(modelo_eficiencia) # Se estandarizan los datos."
   ]
  },
  {
   "cell_type": "code",
   "execution_count": 424,
   "id": "794fd14e",
   "metadata": {},
   "outputs": [],
   "source": [
    "model_1= KMeans(n_clusters=2) #Se establece el nùmero de clùsters."
   ]
  },
  {
   "cell_type": "code",
   "execution_count": 425,
   "id": "4c6ee2f4",
   "metadata": {},
   "outputs": [
    {
     "name": "stderr",
     "output_type": "stream",
     "text": [
      "C:\\Users\\andre.DESKTOP-LACGQDJ\\anaconda3\\lib\\site-packages\\sklearn\\cluster\\_kmeans.py:870: FutureWarning: The default value of `n_init` will change from 10 to 'auto' in 1.4. Set the value of `n_init` explicitly to suppress the warning\n",
      "  warnings.warn(\n",
      "C:\\Users\\andre.DESKTOP-LACGQDJ\\anaconda3\\lib\\site-packages\\sklearn\\cluster\\_kmeans.py:1382: UserWarning: KMeans is known to have a memory leak on Windows with MKL, when there are less chunks than available threads. You can avoid it by setting the environment variable OMP_NUM_THREADS=5.\n",
      "  warnings.warn(\n"
     ]
    },
    {
     "data": {
      "text/html": [
       "<style>#sk-container-id-4 {color: black;background-color: white;}#sk-container-id-4 pre{padding: 0;}#sk-container-id-4 div.sk-toggleable {background-color: white;}#sk-container-id-4 label.sk-toggleable__label {cursor: pointer;display: block;width: 100%;margin-bottom: 0;padding: 0.3em;box-sizing: border-box;text-align: center;}#sk-container-id-4 label.sk-toggleable__label-arrow:before {content: \"▸\";float: left;margin-right: 0.25em;color: #696969;}#sk-container-id-4 label.sk-toggleable__label-arrow:hover:before {color: black;}#sk-container-id-4 div.sk-estimator:hover label.sk-toggleable__label-arrow:before {color: black;}#sk-container-id-4 div.sk-toggleable__content {max-height: 0;max-width: 0;overflow: hidden;text-align: left;background-color: #f0f8ff;}#sk-container-id-4 div.sk-toggleable__content pre {margin: 0.2em;color: black;border-radius: 0.25em;background-color: #f0f8ff;}#sk-container-id-4 input.sk-toggleable__control:checked~div.sk-toggleable__content {max-height: 200px;max-width: 100%;overflow: auto;}#sk-container-id-4 input.sk-toggleable__control:checked~label.sk-toggleable__label-arrow:before {content: \"▾\";}#sk-container-id-4 div.sk-estimator input.sk-toggleable__control:checked~label.sk-toggleable__label {background-color: #d4ebff;}#sk-container-id-4 div.sk-label input.sk-toggleable__control:checked~label.sk-toggleable__label {background-color: #d4ebff;}#sk-container-id-4 input.sk-hidden--visually {border: 0;clip: rect(1px 1px 1px 1px);clip: rect(1px, 1px, 1px, 1px);height: 1px;margin: -1px;overflow: hidden;padding: 0;position: absolute;width: 1px;}#sk-container-id-4 div.sk-estimator {font-family: monospace;background-color: #f0f8ff;border: 1px dotted black;border-radius: 0.25em;box-sizing: border-box;margin-bottom: 0.5em;}#sk-container-id-4 div.sk-estimator:hover {background-color: #d4ebff;}#sk-container-id-4 div.sk-parallel-item::after {content: \"\";width: 100%;border-bottom: 1px solid gray;flex-grow: 1;}#sk-container-id-4 div.sk-label:hover label.sk-toggleable__label {background-color: #d4ebff;}#sk-container-id-4 div.sk-serial::before {content: \"\";position: absolute;border-left: 1px solid gray;box-sizing: border-box;top: 0;bottom: 0;left: 50%;z-index: 0;}#sk-container-id-4 div.sk-serial {display: flex;flex-direction: column;align-items: center;background-color: white;padding-right: 0.2em;padding-left: 0.2em;position: relative;}#sk-container-id-4 div.sk-item {position: relative;z-index: 1;}#sk-container-id-4 div.sk-parallel {display: flex;align-items: stretch;justify-content: center;background-color: white;position: relative;}#sk-container-id-4 div.sk-item::before, #sk-container-id-4 div.sk-parallel-item::before {content: \"\";position: absolute;border-left: 1px solid gray;box-sizing: border-box;top: 0;bottom: 0;left: 50%;z-index: -1;}#sk-container-id-4 div.sk-parallel-item {display: flex;flex-direction: column;z-index: 1;position: relative;background-color: white;}#sk-container-id-4 div.sk-parallel-item:first-child::after {align-self: flex-end;width: 50%;}#sk-container-id-4 div.sk-parallel-item:last-child::after {align-self: flex-start;width: 50%;}#sk-container-id-4 div.sk-parallel-item:only-child::after {width: 0;}#sk-container-id-4 div.sk-dashed-wrapped {border: 1px dashed gray;margin: 0 0.4em 0.5em 0.4em;box-sizing: border-box;padding-bottom: 0.4em;background-color: white;}#sk-container-id-4 div.sk-label label {font-family: monospace;font-weight: bold;display: inline-block;line-height: 1.2em;}#sk-container-id-4 div.sk-label-container {text-align: center;}#sk-container-id-4 div.sk-container {/* jupyter's `normalize.less` sets `[hidden] { display: none; }` but bootstrap.min.css set `[hidden] { display: none !important; }` so we also need the `!important` here to be able to override the default hidden behavior on the sphinx rendered scikit-learn.org. See: https://github.com/scikit-learn/scikit-learn/issues/21755 */display: inline-block !important;position: relative;}#sk-container-id-4 div.sk-text-repr-fallback {display: none;}</style><div id=\"sk-container-id-4\" class=\"sk-top-container\"><div class=\"sk-text-repr-fallback\"><pre>KMeans(n_clusters=2)</pre><b>In a Jupyter environment, please rerun this cell to show the HTML representation or trust the notebook. <br />On GitHub, the HTML representation is unable to render, please try loading this page with nbviewer.org.</b></div><div class=\"sk-container\" hidden><div class=\"sk-item\"><div class=\"sk-estimator sk-toggleable\"><input class=\"sk-toggleable__control sk-hidden--visually\" id=\"sk-estimator-id-4\" type=\"checkbox\" checked><label for=\"sk-estimator-id-4\" class=\"sk-toggleable__label sk-toggleable__label-arrow\">KMeans</label><div class=\"sk-toggleable__content\"><pre>KMeans(n_clusters=2)</pre></div></div></div></div></div>"
      ],
      "text/plain": [
       "KMeans(n_clusters=2)"
      ]
     },
     "execution_count": 425,
     "metadata": {},
     "output_type": "execute_result"
    }
   ],
   "source": [
    "model_1.fit(x_stand) #Se ajusta el modelo."
   ]
  },
  {
   "cell_type": "code",
   "execution_count": 426,
   "id": "e84fc20b",
   "metadata": {},
   "outputs": [],
   "source": [
    "modelo_eficiencia['labels']= model_1.labels_"
   ]
  },
  {
   "cell_type": "code",
   "execution_count": 427,
   "id": "acb49a92",
   "metadata": {},
   "outputs": [
    {
     "data": {
      "text/html": [
       "<div>\n",
       "<style scoped>\n",
       "    .dataframe tbody tr th:only-of-type {\n",
       "        vertical-align: middle;\n",
       "    }\n",
       "\n",
       "    .dataframe tbody tr th {\n",
       "        vertical-align: top;\n",
       "    }\n",
       "\n",
       "    .dataframe thead th {\n",
       "        text-align: right;\n",
       "    }\n",
       "</style>\n",
       "<table border=\"1\" class=\"dataframe\">\n",
       "  <thead>\n",
       "    <tr style=\"text-align: right;\">\n",
       "      <th></th>\n",
       "      <th>is_missed_call</th>\n",
       "      <th>out_call</th>\n",
       "      <th>time_call</th>\n",
       "      <th>labels</th>\n",
       "    </tr>\n",
       "    <tr>\n",
       "      <th>operator_id</th>\n",
       "      <th></th>\n",
       "      <th></th>\n",
       "      <th></th>\n",
       "      <th></th>\n",
       "    </tr>\n",
       "  </thead>\n",
       "  <tbody>\n",
       "    <tr>\n",
       "      <th>879896.0</th>\n",
       "      <td>47</td>\n",
       "      <td>86</td>\n",
       "      <td>142.250000</td>\n",
       "      <td>1</td>\n",
       "    </tr>\n",
       "    <tr>\n",
       "      <th>879898.0</th>\n",
       "      <td>56</td>\n",
       "      <td>74</td>\n",
       "      <td>362.566667</td>\n",
       "      <td>1</td>\n",
       "    </tr>\n",
       "    <tr>\n",
       "      <th>880020.0</th>\n",
       "      <td>6</td>\n",
       "      <td>13</td>\n",
       "      <td>4.666667</td>\n",
       "      <td>0</td>\n",
       "    </tr>\n",
       "    <tr>\n",
       "      <th>880022.0</th>\n",
       "      <td>29</td>\n",
       "      <td>61</td>\n",
       "      <td>62.833333</td>\n",
       "      <td>1</td>\n",
       "    </tr>\n",
       "    <tr>\n",
       "      <th>880026.0</th>\n",
       "      <td>87</td>\n",
       "      <td>122</td>\n",
       "      <td>261.916667</td>\n",
       "      <td>1</td>\n",
       "    </tr>\n",
       "    <tr>\n",
       "      <th>...</th>\n",
       "      <td>...</td>\n",
       "      <td>...</td>\n",
       "      <td>...</td>\n",
       "      <td>...</td>\n",
       "    </tr>\n",
       "    <tr>\n",
       "      <th>972410.0</th>\n",
       "      <td>2</td>\n",
       "      <td>3</td>\n",
       "      <td>20.483333</td>\n",
       "      <td>0</td>\n",
       "    </tr>\n",
       "    <tr>\n",
       "      <th>972412.0</th>\n",
       "      <td>2</td>\n",
       "      <td>3</td>\n",
       "      <td>13.250000</td>\n",
       "      <td>0</td>\n",
       "    </tr>\n",
       "    <tr>\n",
       "      <th>972460.0</th>\n",
       "      <td>3</td>\n",
       "      <td>6</td>\n",
       "      <td>10.333333</td>\n",
       "      <td>0</td>\n",
       "    </tr>\n",
       "    <tr>\n",
       "      <th>973120.0</th>\n",
       "      <td>1</td>\n",
       "      <td>2</td>\n",
       "      <td>0.333333</td>\n",
       "      <td>0</td>\n",
       "    </tr>\n",
       "    <tr>\n",
       "      <th>973286.0</th>\n",
       "      <td>0</td>\n",
       "      <td>0</td>\n",
       "      <td>1.466667</td>\n",
       "      <td>0</td>\n",
       "    </tr>\n",
       "  </tbody>\n",
       "</table>\n",
       "<p>1083 rows × 4 columns</p>\n",
       "</div>"
      ],
      "text/plain": [
       "             is_missed_call  out_call   time_call  labels\n",
       "operator_id                                              \n",
       "879896.0                 47        86  142.250000       1\n",
       "879898.0                 56        74  362.566667       1\n",
       "880020.0                  6        13    4.666667       0\n",
       "880022.0                 29        61   62.833333       1\n",
       "880026.0                 87       122  261.916667       1\n",
       "...                     ...       ...         ...     ...\n",
       "972410.0                  2         3   20.483333       0\n",
       "972412.0                  2         3   13.250000       0\n",
       "972460.0                  3         6   10.333333       0\n",
       "973120.0                  1         2    0.333333       0\n",
       "973286.0                  0         0    1.466667       0\n",
       "\n",
       "[1083 rows x 4 columns]"
      ]
     },
     "execution_count": 427,
     "metadata": {},
     "output_type": "execute_result"
    }
   ],
   "source": [
    "modelo_eficiencia"
   ]
  },
  {
   "cell_type": "code",
   "execution_count": 428,
   "id": "60588834",
   "metadata": {},
   "outputs": [],
   "source": [
    "telecom.to_csv('modelo_eficiencia.csv',index=False)"
   ]
  },
  {
   "cell_type": "code",
   "execution_count": 429,
   "id": "c8c33d49",
   "metadata": {},
   "outputs": [
    {
     "data": {
      "text/html": [
       "<div>\n",
       "<style scoped>\n",
       "    .dataframe tbody tr th:only-of-type {\n",
       "        vertical-align: middle;\n",
       "    }\n",
       "\n",
       "    .dataframe tbody tr th {\n",
       "        vertical-align: top;\n",
       "    }\n",
       "\n",
       "    .dataframe thead th {\n",
       "        text-align: right;\n",
       "    }\n",
       "</style>\n",
       "<table border=\"1\" class=\"dataframe\">\n",
       "  <thead>\n",
       "    <tr style=\"text-align: right;\">\n",
       "      <th></th>\n",
       "      <th>is_missed_call</th>\n",
       "      <th>out_call</th>\n",
       "      <th>time_call</th>\n",
       "    </tr>\n",
       "    <tr>\n",
       "      <th>labels</th>\n",
       "      <th></th>\n",
       "      <th></th>\n",
       "      <th></th>\n",
       "    </tr>\n",
       "  </thead>\n",
       "  <tbody>\n",
       "    <tr>\n",
       "      <th>0</th>\n",
       "      <td>5.441558</td>\n",
       "      <td>10.437229</td>\n",
       "      <td>21.820022</td>\n",
       "    </tr>\n",
       "    <tr>\n",
       "      <th>1</th>\n",
       "      <td>45.069182</td>\n",
       "      <td>81.415094</td>\n",
       "      <td>209.804717</td>\n",
       "    </tr>\n",
       "  </tbody>\n",
       "</table>\n",
       "</div>"
      ],
      "text/plain": [
       "        is_missed_call   out_call   time_call\n",
       "labels                                       \n",
       "0             5.441558  10.437229   21.820022\n",
       "1            45.069182  81.415094  209.804717"
      ]
     },
     "execution_count": 429,
     "metadata": {},
     "output_type": "execute_result"
    }
   ],
   "source": [
    "modelo_eficiencia.groupby('labels').mean()"
   ]
  },
  {
   "cell_type": "markdown",
   "id": "7abfd8ec",
   "metadata": {},
   "source": [
    "**Llamadas perdidas por clùster**"
   ]
  },
  {
   "cell_type": "code",
   "execution_count": 430,
   "id": "b5c1dc96",
   "metadata": {
    "scrolled": true
   },
   "outputs": [
    {
     "data": {
      "image/png": "[encoded data removed]",
      "text/plain": [
       "<Figure size 1000x600 with 1 Axes>"
      ]
     },
     "metadata": {},
     "output_type": "display_data"
    }
   ],
   "source": [
    "modelo_eficiencia.groupby('labels').agg({'is_missed_call':'mean'}).plot(kind='bar',figsize=(10,6))\n",
    "plt.title('llamadas perdidas por clùster')\n",
    "plt.xlabel('Clùster')\n",
    "plt.ylabel('Frecuencia')\n",
    "plt.show()"
   ]
  },
  {
   "cell_type": "markdown",
   "id": "b0e9e028",
   "metadata": {},
   "source": [
    "**Llamadas salientes por clùster**"
   ]
  },
  {
   "cell_type": "code",
   "execution_count": 431,
   "id": "dcb22e5e",
   "metadata": {
    "scrolled": true
   },
   "outputs": [
    {
     "data": {
      "image/png": "[encoded data removed]",
      "text/plain": [
       "<Figure size 1000x600 with 1 Axes>"
      ]
     },
     "metadata": {},
     "output_type": "display_data"
    }
   ],
   "source": [
    "modelo_eficiencia.groupby('labels').agg({'out_call':'mean'}).plot(kind='bar',figsize=(10,6))\n",
    "plt.title('llamadas salientes por clùster')\n",
    "plt.xlabel('Clùster')\n",
    "plt.ylabel('Frecuencia')\n",
    "plt.show()"
   ]
  },
  {
   "cell_type": "markdown",
   "id": "5dc57f6c",
   "metadata": {},
   "source": [
    "**Tiempos de espera por clùster**"
   ]
  },
  {
   "cell_type": "code",
   "execution_count": 432,
   "id": "fc29138b",
   "metadata": {},
   "outputs": [
    {
     "data": {
      "image/png": "[encoded data removed]",
      "text/plain": [
       "<Figure size 1000x600 with 1 Axes>"
      ]
     },
     "metadata": {},
     "output_type": "display_data"
    }
   ],
   "source": [
    "modelo_eficiencia.groupby('labels').agg({'time_call':'mean'}).plot(kind='bar',figsize=(10,6))\n",
    "plt.title('tiempos de espera por clùster')\n",
    "plt.xlabel('Clùster')\n",
    "plt.ylabel('Frecuencia')\n",
    "plt.show()"
   ]
  },
  {
   "cell_type": "markdown",
   "id": "57edc0e7",
   "metadata": {},
   "source": [
    "De acuerdo con el modelo, los operadores eficientes tienen aproximadamente 6 llamadas perdidas y un tiempo de espera promedio de 22 minutos. Los operadores ineficientes tienen en promedio 45 llamadas perdidas."
   ]
  },
  {
   "cell_type": "markdown",
   "id": "d4c5c32a",
   "metadata": {},
   "source": [
    "**Generamos un diagrama de dispersiòn en la que se visualicen las tendencias de cada clùster.**"
   ]
  },
  {
   "cell_type": "code",
   "execution_count": 433,
   "id": "989d1112",
   "metadata": {},
   "outputs": [],
   "source": [
    "pca=PCA(n_components=2)"
   ]
  },
  {
   "cell_type": "code",
   "execution_count": 434,
   "id": "c3227c37",
   "metadata": {},
   "outputs": [],
   "source": [
    "pca_standard=pca.fit_transform(x_stand)"
   ]
  },
  {
   "cell_type": "code",
   "execution_count": 435,
   "id": "75cdef1f",
   "metadata": {},
   "outputs": [],
   "source": [
    "pca_results=np.hstack((pca_standard,model_1.labels_.reshape(-1,1)))"
   ]
  },
  {
   "cell_type": "code",
   "execution_count": 436,
   "id": "6a1238f0",
   "metadata": {},
   "outputs": [
    {
     "data": {
      "text/plain": [
       "<matplotlib.collections.PathCollection at 0x24c9e427dc0>"
      ]
     },
     "execution_count": 436,
     "metadata": {},
     "output_type": "execute_result"
    },
    {
     "data": {
      "image/png": "[encoded data removed]",
      "text/plain": [
       "<Figure size 640x480 with 1 Axes>"
      ]
     },
     "metadata": {},
     "output_type": "display_data"
    }
   ],
   "source": [
    "plt.scatter(pca_results[pca_results[:,2]==1,0],pca_results[pca_results[:,2]==1,1],alpha=0.75)\n",
    "plt.scatter(pca_results[pca_results[:,2]==0,0],pca_results[pca_results[:,2]==0,1],alpha=0.75)"
   ]
  },
  {
   "cell_type": "markdown",
   "id": "7ad3a8a6",
   "metadata": {},
   "source": [
    "De acuerdo con el gràfico que muestra la clausterizaciòn, los operadores mas eficientes tienen tendencia a cero; mientras que los operadores menos eficientes tienden a alejarse del centro (0)."
   ]
  },
  {
   "cell_type": "markdown",
   "id": "68bbf88b",
   "metadata": {},
   "source": [
    "# Conclusiones <a id='conclusiones'></a>"
   ]
  },
  {
   "cell_type": "markdown",
   "id": "bdba4ad6",
   "metadata": {},
   "source": [
    "Inicialmente se cambian los tipos de datos necesarios, se identifican datos ausentes y duplicados.\n",
    "\n",
    "Se encuentran datos ausentes en las columnas ‘internal’ y ‘operator_id’. Los valores nulos en la columna \"internal\" representan el 0.2%, mientras que los valores nulos para la columna \"operador_id\" representa el 15%. Se identifica que al realizar el cambio del tipo de dato para la columna \"internal\" a tipo booleano, se atienden los datos nulos que se encontraban en èsta columna.\n",
    "\n",
    "Se identificaron 4900 datos duplicados, los cuales se eliminaron para prevenir errores en los datos.\n",
    "\n",
    "Se alimentan los datos, creando por ejemplo una funciòn que arroje el dato \"False\" si el valor de la columna \"direction\" es igual a in (entrante), y se arroje el valor de \"True\" si el valor de la columna \"direction\" es igual a in (saliente). Se crea ademàs una nueva columna llamada \"out_call\".\n",
    "\n",
    "Se considera que la informaciòn del operador sòlo puede relacionarse con el usuario;por lo cual se intenta utilizar èsta informaciòn para imputar los datos y rellenar los valores ausentes de la columna \"operator_id\"; sin embargo, se identifica que existen 183 usuarios que reciben el servicio por más de un operador; lo cual representa mas del 59% de los usuarios; por lo cual èstos usuarios no pueden eliminarse. Luego de descartar la imputaciòn de datos de los usuarios para rellenar la informaciòn de los datos ausentes en la columna \"operator_id\", se decide entonces eliminar las filas en las que la columna operator id no posee informaciòn.\n",
    "\n",
    "El tiempo de recuperación de datos se presenta entre los meses de agosto y noviembre del 2019.\n",
    "\n",
    "Los operadores mas utilizados por parte de los usuarios son: 901884, 901880, 893804, 885876 y 887276.\n",
    "\n",
    "Se identifica que aproximadamente el 34% de las llamadas son perdidas.\n",
    "\n",
    "Se identifica una desviaciòn estàndar muy alta para los datos de la columna \"total_call_duration\". Adicionalmente, se encuentra gran diferencia entre los datos de la media y la mediana; lo cual puede atribuirse a datos atìpicos o posibles problemas durante la entrada de los datos. Se considera que los datos registrados para la columna \"total_call_duration\" puede encontrarse en segundos; lo cual puede ser la causa de que se arrojen valores tan altos; por lo cual se realiza el cambio de unidades de segundos a minutos al dividir entre 60. Despuès de cambiar la unidad a minutos, se identifica una disminuciòn en la desviaciòn estàndar; sin embargo se continùa evidenciando una desviaciòn alta (>79).\n",
    "\n",
    "Para la columna ‘call_duration’, tambièn se encuentra una desviaciòn estàndar muy alta, y una gran diferencia entre la media (1009) y la mediana(106). Ademàs un valor muy grande para el valor màximo (144395), por lo cual se considera tambièn que los datos fueron registrados en la columna \"call_duration\" se encuentra en segundos, por lo cual se pasan a minutos.\n",
    "\n",
    "Se identifica que los tiempos de llamadas (sin contar los tiempos de espera), donde se arrojan valores de cero, se manifiestan en los casos en los que se registra una llamada perdida.\n",
    "\n",
    "Para la columna ‘total_call_duration’, se encuentra que el lìmite inferior es -24, y que el lìmite superior es 44.32.\n",
    "\n",
    "Al identificar los datos atipicos de la columna ‘call_duration’, se encuentra que el lìmite inferior es -19.25, y que el lìmite superior es 32.08.\n",
    "\n",
    "Para la columna ‘calls_count’, se encuentra que el lìmite inferior es -17, y que el lìmite superior es 31.\n",
    "\n",
    "Al eliminar los datos atìpicos, se identifica que se conserva el 81% de los datos.\n",
    "\n",
    "Los operadores en los que se presentan mayores tiempos de espera son: 889082, 893804 , 880028, 905538 y 923526 .\n",
    "\n",
    "Se identifica que los operadores con mas registros de llamadas perdidas son: 891410, 891414,901880, 901884 y 893804.\n",
    "\n",
    "Los operadores que registran mayor cantidad de llamadas salientes son: 887276, 901884, 905566, 905564 y 889410.\n",
    "\n",
    "Teniendo en cuenta la gran cantidad de operadores registrados, se decide utilizar un modelo que permita clasificar los datos, y facilitar la identificaciòn de las caracterìsticas de eficiencia o ineficiencia de los operadores.\n",
    "\n",
    "Inicialmente, se crea una tabla que recopile las sumas de las variables cuantitativas por operador.\n",
    "\n",
    "Se crean gràficos de dispersiòn para verificar las relaciones entre algunas variables cuantitativas: De acuerdo con el gràfico, entre menor es el tiempo de espera menor es la cantidad de llamadas perdidas.\n",
    "\n",
    "De igual manera se identifica que a menor nùmero de llamadas, menor es la cantidad de llamadas perdidas.\n",
    "\n",
    "Se crea  una matriz de correlación para verificar las relaciones entre las variables: \n",
    "\n",
    "* Se identifica que la columna \"is_missed_call\" tiene una correlaciòn mas alta con la variable out_call, total_call_duration,time_call (tiempo de espera) y calls_count.\n",
    "  \n",
    "* La columna \"time_call\"(tiempo de espera de la llamada), tiene una correlaciòn mas alta con las variables total_call_duration, calls_count,call_duration y is_missed_call.\n",
    "  \n",
    "* La columna \"out_call\" tiene alta correlaciòn con is_missed_call, total_call_duration y calls_count.\n",
    "  \n",
    "Se decide utilizar el algoritmo no supervisado K-Means o clustering, para facilitar la clasificaciòn de los datos, se estandarizan los datos y se asigna un nùmero de clùste de dos (2), para dividir los datos en dos grupos, facilitando la identificaciòn de las caracterìsticas para los operadores eficientes e ineficientes.\n",
    "\n",
    "De acuerdo con el modelo, los operadores eficientes tienen aproximadamente 6 llamadas perdidas y un tiempo de espera promedio de 22 minutos. Los operadores ineficientes tienen en promedio 45 llamadas perdidas.\n",
    "\n",
    "Segùn el gràfico  que muestra la clausterizaciòn, los operadores más eficientes tienen tendencia a cero; mientras que los operadores menos eficientes tienden a alejarse del centro (0)."
   ]
  },
  {
   "cell_type": "markdown",
   "id": "5f25a961",
   "metadata": {},
   "source": [
    "<div class=\"alert alert-block alert-success\">\n",
    "<b>Comentario para el alumno</b> <a class=\"tocSkip\"></a> Quiero felicitarte por un excelente trabajo en tu análisis de datos. Has demostrado un sólido entendimiento de las mejores prácticas en esta disciplina. Tus esfuerzos en la limpieza y transformación de datos, así como en la creación de nuevas variables, son encomiables. También has manejado eficazmente los datos atípicos y has aplicado técnicas de aprendizaje automático, como el algoritmo K-Means, de manera impresionante para la clasificación de operadores. La claridad en la comunicación de tus resultados a lo largo del análisis es otro punto fuerte. En general, tu enfoque exhaustivo y tus habilidades son esenciales para realizar análisis de datos efectivos. ¡Sigue adelante con tu trabajo en esta área!\n",
    "</div>"
   ]
  },
  {
   "cell_type": "markdown",
   "id": "5237417a",
   "metadata": {},
   "source": [
    "# Presentaciòn y dasboard <a id='presentacion_dasboard'></a>"
   ]
  },
  {
   "cell_type": "markdown",
   "id": "6f965f8d",
   "metadata": {},
   "source": [
    "**Link presentaciòn:** https://drive.google.com/file/d/1xgqB7LDZq_-uhQrEQaDvW9za7X4jTAHG/view?usp=drive_link\n",
    "\n",
    "**Link_dashboard:** https://public.tableau.com/authoring/Eficiencia_operadores/Duracindellamadasvsoperador#1"
   ]
  }
 ],
 "metadata": {
  "kernelspec": {
   "display_name": "Python 3 (ipykernel)",
   "language": "python",
   "name": "python3"
  },
  "language_info": {
   "codemirror_mode": {
    "name": "ipython",
    "version": 3
   },
   "file_extension": ".py",
   "mimetype": "text/x-python",
   "name": "python",
   "nbconvert_exporter": "python",
   "pygments_lexer": "ipython3",
   "version": "3.9.5"
  },
  "toc": {
   "base_numbering": 1,
   "nav_menu": {},
   "number_sections": true,
   "sideBar": true,
   "skip_h1_title": true,
   "title_cell": "Table of Contents",
   "title_sidebar": "Contents",
   "toc_cell": false,
   "toc_position": {},
   "toc_section_display": true,
   "toc_window_display": false
  }
 },
 "nbformat": 4,
 "nbformat_minor": 5
}
